{
 "cells": [
  {
   "cell_type": "markdown",
   "metadata": {},
   "source": [
    "# Klasyfikacja niezbalansowana i anomaly detection"
   ]
  },
  {
   "cell_type": "markdown",
   "metadata": {},
   "source": [
    "Poza standardowymi narzędziami do klasyfikacji tabelarycznej użyjemy bibliotek:\n",
    "1. [Imbalanced-learn](https://imbalanced-learn.org/stable/index.html) - biblioteka implementująca różne algorytmy undersamplingu i oversamplingu\n",
    "2. [PyOD](https://pyod.readthedocs.io/en/latest/index.html) - biblioteka implementująca mnóstwo algorytmów outlier detection\n",
    "3. [XGBoost](https://xgboost.readthedocs.io/en/stable/) - oficjalna implementacja algorytmu XGBoost"
   ]
  },
  {
   "cell_type": "code",
   "execution_count": 1,
   "metadata": {
    "ExecuteTime": {
     "end_time": "2025-05-26T09:08:30.463442Z",
     "start_time": "2025-05-26T09:08:30.460551Z"
    }
   },
   "outputs": [],
   "source": [
    "import pandas as pd"
   ]
  },
  {
   "cell_type": "markdown",
   "metadata": {},
   "source": [
    "## Klasyfikacja umiarkowanie niezbalansowana"
   ]
  },
  {
   "cell_type": "markdown",
   "metadata": {},
   "source": [
    "Najpierw wykorzystamy zbiór danych [Polish companies bankruptcy](https://archive.ics.uci.edu/ml/datasets/Polish+companies+bankruptcy+data). Dotyczy on klasyfikacji, na podstawie danych z raportów finansowych, czy firma zbankrutuje w ciągu najbliższych kilku lat. Jest to zadanie szczególnie istotne dla banków, funduszy inwestycyjnych, firm ubezpieczeniowych itp., które z tego powodu zatrudniają licznie data scientistów. Zbiór zawiera 64 cechy, obliczone przez ekonomistów, którzy stworzyli ten zbiór, opisane na stronie UCI.\n",
    "\n",
    "Wykorzystamy podzbiór, w którym na podstawie finansowych firmy po 3 latach monitorowania chcemy przewidywać, czy firma zbankrutuje w ciągu najbliższych 3 lat. Jest to dość realistyczny horyzont czasowy, a przy tym największy z podzbiorów."
   ]
  },
  {
   "cell_type": "code",
   "execution_count": 2,
   "metadata": {
    "ExecuteTime": {
     "end_time": "2025-05-26T09:09:30.828266Z",
     "start_time": "2025-05-26T09:09:30.248644Z"
    }
   },
   "outputs": [
    {
     "data": {
      "text/html": "<div>\n<style scoped>\n    .dataframe tbody tr th:only-of-type {\n        vertical-align: middle;\n    }\n\n    .dataframe tbody tr th {\n        vertical-align: top;\n    }\n\n    .dataframe thead th {\n        text-align: right;\n    }\n</style>\n<table border=\"1\" class=\"dataframe\">\n  <thead>\n    <tr style=\"text-align: right;\">\n      <th></th>\n      <th>Attr1</th>\n      <th>Attr2</th>\n      <th>Attr3</th>\n      <th>Attr4</th>\n      <th>Attr5</th>\n      <th>Attr6</th>\n      <th>Attr7</th>\n      <th>Attr8</th>\n      <th>Attr9</th>\n      <th>Attr10</th>\n      <th>...</th>\n      <th>Attr55</th>\n      <th>Attr56</th>\n      <th>Attr57</th>\n      <th>Attr58</th>\n      <th>Attr59</th>\n      <th>Attr60</th>\n      <th>Attr61</th>\n      <th>Attr62</th>\n      <th>Attr63</th>\n      <th>Attr64</th>\n    </tr>\n  </thead>\n  <tbody>\n    <tr>\n      <th>0</th>\n      <td>0.174190</td>\n      <td>0.41299</td>\n      <td>0.14371</td>\n      <td>1.3480</td>\n      <td>-28.9820</td>\n      <td>0.60383</td>\n      <td>0.219460</td>\n      <td>1.1225</td>\n      <td>1.1961</td>\n      <td>0.46359</td>\n      <td>...</td>\n      <td>127280.0</td>\n      <td>0.163960</td>\n      <td>0.375740</td>\n      <td>0.83604</td>\n      <td>0.000007</td>\n      <td>9.7145</td>\n      <td>6.2813</td>\n      <td>84.291</td>\n      <td>4.3303</td>\n      <td>4.0341</td>\n    </tr>\n    <tr>\n      <th>1</th>\n      <td>0.146240</td>\n      <td>0.46038</td>\n      <td>0.28230</td>\n      <td>1.6294</td>\n      <td>2.5952</td>\n      <td>0.00000</td>\n      <td>0.171850</td>\n      <td>1.1721</td>\n      <td>1.6018</td>\n      <td>0.53962</td>\n      <td>...</td>\n      <td>3387.8</td>\n      <td>0.027516</td>\n      <td>0.271000</td>\n      <td>0.90108</td>\n      <td>0.000000</td>\n      <td>5.9882</td>\n      <td>4.1103</td>\n      <td>102.190</td>\n      <td>3.5716</td>\n      <td>5.9500</td>\n    </tr>\n    <tr>\n      <th>2</th>\n      <td>0.000595</td>\n      <td>0.22612</td>\n      <td>0.48839</td>\n      <td>3.1599</td>\n      <td>84.8740</td>\n      <td>0.19114</td>\n      <td>0.004572</td>\n      <td>2.9881</td>\n      <td>1.0077</td>\n      <td>0.67566</td>\n      <td>...</td>\n      <td>20453.0</td>\n      <td>0.007639</td>\n      <td>0.000881</td>\n      <td>0.99236</td>\n      <td>0.000000</td>\n      <td>6.7742</td>\n      <td>3.7922</td>\n      <td>64.846</td>\n      <td>5.6287</td>\n      <td>4.4581</td>\n    </tr>\n    <tr>\n      <th>3</th>\n      <td>0.024526</td>\n      <td>0.43236</td>\n      <td>0.27546</td>\n      <td>1.7833</td>\n      <td>-10.1050</td>\n      <td>0.56944</td>\n      <td>0.024526</td>\n      <td>1.3057</td>\n      <td>1.0509</td>\n      <td>0.56453</td>\n      <td>...</td>\n      <td>5012.6</td>\n      <td>0.048398</td>\n      <td>0.043445</td>\n      <td>0.95160</td>\n      <td>0.142980</td>\n      <td>4.2286</td>\n      <td>5.0528</td>\n      <td>98.783</td>\n      <td>3.6950</td>\n      <td>3.4844</td>\n    </tr>\n    <tr>\n      <th>4</th>\n      <td>0.188290</td>\n      <td>0.41504</td>\n      <td>0.34231</td>\n      <td>1.9279</td>\n      <td>-58.2740</td>\n      <td>0.00000</td>\n      <td>0.233580</td>\n      <td>1.4094</td>\n      <td>1.3393</td>\n      <td>0.58496</td>\n      <td>...</td>\n      <td>13730.0</td>\n      <td>0.176480</td>\n      <td>0.321880</td>\n      <td>0.82635</td>\n      <td>0.073039</td>\n      <td>2.5912</td>\n      <td>7.0756</td>\n      <td>100.540</td>\n      <td>3.6303</td>\n      <td>4.6375</td>\n    </tr>\n  </tbody>\n</table>\n<p>5 rows × 64 columns</p>\n</div>",
      "text/plain": "      Attr1    Attr2    Attr3   Attr4    Attr5    Attr6     Attr7   Attr8  \\\n0  0.174190  0.41299  0.14371  1.3480 -28.9820  0.60383  0.219460  1.1225   \n1  0.146240  0.46038  0.28230  1.6294   2.5952  0.00000  0.171850  1.1721   \n2  0.000595  0.22612  0.48839  3.1599  84.8740  0.19114  0.004572  2.9881   \n3  0.024526  0.43236  0.27546  1.7833 -10.1050  0.56944  0.024526  1.3057   \n4  0.188290  0.41504  0.34231  1.9279 -58.2740  0.00000  0.233580  1.4094   \n\n    Attr9   Attr10  ...    Attr55    Attr56    Attr57   Attr58    Attr59  \\\n0  1.1961  0.46359  ...  127280.0  0.163960  0.375740  0.83604  0.000007   \n1  1.6018  0.53962  ...    3387.8  0.027516  0.271000  0.90108  0.000000   \n2  1.0077  0.67566  ...   20453.0  0.007639  0.000881  0.99236  0.000000   \n3  1.0509  0.56453  ...    5012.6  0.048398  0.043445  0.95160  0.142980   \n4  1.3393  0.58496  ...   13730.0  0.176480  0.321880  0.82635  0.073039   \n\n   Attr60  Attr61   Attr62  Attr63  Attr64  \n0  9.7145  6.2813   84.291  4.3303  4.0341  \n1  5.9882  4.1103  102.190  3.5716  5.9500  \n2  6.7742  3.7922   64.846  5.6287  4.4581  \n3  4.2286  5.0528   98.783  3.6950  3.4844  \n4  2.5912  7.0756  100.540  3.6303  4.6375  \n\n[5 rows x 64 columns]"
     },
     "execution_count": 2,
     "metadata": {},
     "output_type": "execute_result"
    }
   ],
   "source": [
    "from scipy.io import arff\n",
    "\n",
    "data = arff.loadarff(\"polish_companies_bankruptcy_3_year_data.arff\")\n",
    "\n",
    "df = pd.DataFrame(data[0])\n",
    "y = df.pop(\"class\").astype(int)\n",
    "\n",
    "df.head()"
   ]
  },
  {
   "cell_type": "markdown",
   "metadata": {},
   "source": [
    "**Zadanie 1 (1 punkt)**\n",
    "\n",
    "1. Zwizualizuj brakujące ilość brakujących danych na wykresie słupkowym (bar plot).\n",
    "2. Zwizualizuj rozkład klas na wykresie.\n",
    "3. Usuń cechę `Attr37`, mającą dużo wartości brakujących.\n",
    "4. Dokonaj podziału na zbiór treningowy i testowy w proporcjach 75%-25%, ze stratyfikacją. Pamiętaj o `random_state=0`.\n",
    "5. Zbuduj i zastosuj pipeline (`make_pipeline`) do czyszczenia danych, składający się z:\n",
    "   - uzupełnienia wartości brakujących wartością średnią (`SimpleImputer`)\n",
    "   - standaryzacji danych (`StandardScaler`)"
   ]
  },
  {
   "cell_type": "code",
   "execution_count": 10,
   "metadata": {
    "ExecuteTime": {
     "end_time": "2025-05-26T09:19:03.447031Z",
     "start_time": "2025-05-26T09:19:03.018824Z"
    },
    "collapsed": false
   },
   "outputs": [
    {
     "data": {
      "text/plain": "<Axes: title={'center': 'Missing values per column'}, xlabel='Columns', ylabel='Count of missing'>"
     },
     "execution_count": 10,
     "metadata": {},
     "output_type": "execute_result"
    },
    {
     "data": {
      "image/png": "[encoded data removed]",
      "text/plain": "<Figure size 2000x600 with 1 Axes>"
     },
     "metadata": {},
     "output_type": "display_data"
    }
   ],
   "source": [
    "missing = df.isna().sum()\n",
    "\n",
    "missing.plot.bar(\n",
    "    figsize=(20, 6),\n",
    "    xlabel=\"Columns\",\n",
    "    ylabel=\"Count of missing\",\n",
    "    title=\"Missing values per column\",\n",
    "    rot=90,\n",
    ")"
   ]
  },
  {
   "cell_type": "code",
   "execution_count": 7,
   "metadata": {
    "ExecuteTime": {
     "end_time": "2025-05-26T09:18:19.036499Z",
     "start_time": "2025-05-26T09:18:18.956194Z"
    }
   },
   "outputs": [
    {
     "data": {
      "image/png": "[encoded data removed]",
      "text/plain": "<Figure size 640x480 with 1 Axes>"
     },
     "metadata": {},
     "output_type": "display_data"
    }
   ],
   "source": [
    "import matplotlib.pyplot as plt\n",
    "\n",
    "class_counts = y.value_counts(normalize=True) * 100\n",
    "bar = class_counts.plot.bar(\n",
    "    title=\"Class distribution\",\n",
    "    rot=0,\n",
    "    xlabel=\"Class (defaulted or not)\",\n",
    "    ylabel=\"Class percentage\",\n",
    ")\n",
    "\n",
    "for i, v in enumerate(class_counts):\n",
    "    bar.text(i, v + 1, f\"{v:.1f}%\", ha=\"center\", fontsize=10)\n",
    "\n",
    "plt.show()"
   ]
  },
  {
   "cell_type": "code",
   "execution_count": 11,
   "metadata": {
    "ExecuteTime": {
     "end_time": "2025-05-26T09:35:58.795652Z",
     "start_time": "2025-05-26T09:35:58.774400Z"
    },
    "collapsed": false
   },
   "outputs": [
    {
     "data": {
      "text/html": "<div>\n<style scoped>\n    .dataframe tbody tr th:only-of-type {\n        vertical-align: middle;\n    }\n\n    .dataframe tbody tr th {\n        vertical-align: top;\n    }\n\n    .dataframe thead th {\n        text-align: right;\n    }\n</style>\n<table border=\"1\" class=\"dataframe\">\n  <thead>\n    <tr style=\"text-align: right;\">\n      <th></th>\n      <th>Attr1</th>\n      <th>Attr2</th>\n      <th>Attr3</th>\n      <th>Attr4</th>\n      <th>Attr5</th>\n      <th>Attr6</th>\n      <th>Attr7</th>\n      <th>Attr8</th>\n      <th>Attr9</th>\n      <th>Attr10</th>\n      <th>...</th>\n      <th>Attr55</th>\n      <th>Attr56</th>\n      <th>Attr57</th>\n      <th>Attr58</th>\n      <th>Attr59</th>\n      <th>Attr60</th>\n      <th>Attr61</th>\n      <th>Attr62</th>\n      <th>Attr63</th>\n      <th>Attr64</th>\n    </tr>\n  </thead>\n  <tbody>\n    <tr>\n      <th>0</th>\n      <td>0.174190</td>\n      <td>0.41299</td>\n      <td>0.143710</td>\n      <td>1.34800</td>\n      <td>-28.9820</td>\n      <td>0.603830</td>\n      <td>0.219460</td>\n      <td>1.122500</td>\n      <td>1.19610</td>\n      <td>0.463590</td>\n      <td>...</td>\n      <td>127280.0</td>\n      <td>0.163960</td>\n      <td>0.375740</td>\n      <td>0.83604</td>\n      <td>0.000007</td>\n      <td>9.7145</td>\n      <td>6.2813</td>\n      <td>84.291</td>\n      <td>4.3303</td>\n      <td>4.0341</td>\n    </tr>\n    <tr>\n      <th>1</th>\n      <td>0.146240</td>\n      <td>0.46038</td>\n      <td>0.282300</td>\n      <td>1.62940</td>\n      <td>2.5952</td>\n      <td>0.000000</td>\n      <td>0.171850</td>\n      <td>1.172100</td>\n      <td>1.60180</td>\n      <td>0.539620</td>\n      <td>...</td>\n      <td>3387.8</td>\n      <td>0.027516</td>\n      <td>0.271000</td>\n      <td>0.90108</td>\n      <td>0.000000</td>\n      <td>5.9882</td>\n      <td>4.1103</td>\n      <td>102.190</td>\n      <td>3.5716</td>\n      <td>5.9500</td>\n    </tr>\n    <tr>\n      <th>2</th>\n      <td>0.000595</td>\n      <td>0.22612</td>\n      <td>0.488390</td>\n      <td>3.15990</td>\n      <td>84.8740</td>\n      <td>0.191140</td>\n      <td>0.004572</td>\n      <td>2.988100</td>\n      <td>1.00770</td>\n      <td>0.675660</td>\n      <td>...</td>\n      <td>20453.0</td>\n      <td>0.007639</td>\n      <td>0.000881</td>\n      <td>0.99236</td>\n      <td>0.000000</td>\n      <td>6.7742</td>\n      <td>3.7922</td>\n      <td>64.846</td>\n      <td>5.6287</td>\n      <td>4.4581</td>\n    </tr>\n    <tr>\n      <th>3</th>\n      <td>0.024526</td>\n      <td>0.43236</td>\n      <td>0.275460</td>\n      <td>1.78330</td>\n      <td>-10.1050</td>\n      <td>0.569440</td>\n      <td>0.024526</td>\n      <td>1.305700</td>\n      <td>1.05090</td>\n      <td>0.564530</td>\n      <td>...</td>\n      <td>5012.6</td>\n      <td>0.048398</td>\n      <td>0.043445</td>\n      <td>0.95160</td>\n      <td>0.142980</td>\n      <td>4.2286</td>\n      <td>5.0528</td>\n      <td>98.783</td>\n      <td>3.6950</td>\n      <td>3.4844</td>\n    </tr>\n    <tr>\n      <th>4</th>\n      <td>0.188290</td>\n      <td>0.41504</td>\n      <td>0.342310</td>\n      <td>1.92790</td>\n      <td>-58.2740</td>\n      <td>0.000000</td>\n      <td>0.233580</td>\n      <td>1.409400</td>\n      <td>1.33930</td>\n      <td>0.584960</td>\n      <td>...</td>\n      <td>13730.0</td>\n      <td>0.176480</td>\n      <td>0.321880</td>\n      <td>0.82635</td>\n      <td>0.073039</td>\n      <td>2.5912</td>\n      <td>7.0756</td>\n      <td>100.540</td>\n      <td>3.6303</td>\n      <td>4.6375</td>\n    </tr>\n    <tr>\n      <th>...</th>\n      <td>...</td>\n      <td>...</td>\n      <td>...</td>\n      <td>...</td>\n      <td>...</td>\n      <td>...</td>\n      <td>...</td>\n      <td>...</td>\n      <td>...</td>\n      <td>...</td>\n      <td>...</td>\n      <td>...</td>\n      <td>...</td>\n      <td>...</td>\n      <td>...</td>\n      <td>...</td>\n      <td>...</td>\n      <td>...</td>\n      <td>...</td>\n      <td>...</td>\n      <td>...</td>\n    </tr>\n    <tr>\n      <th>10498</th>\n      <td>0.002861</td>\n      <td>0.58067</td>\n      <td>-0.223860</td>\n      <td>0.51658</td>\n      <td>-31.8660</td>\n      <td>0.002861</td>\n      <td>0.002861</td>\n      <td>0.618550</td>\n      <td>1.01200</td>\n      <td>0.359170</td>\n      <td>...</td>\n      <td>-4321.5</td>\n      <td>0.011834</td>\n      <td>0.007966</td>\n      <td>0.98817</td>\n      <td>0.327360</td>\n      <td>38.1420</td>\n      <td>39.1500</td>\n      <td>42.202</td>\n      <td>8.6489</td>\n      <td>5.2646</td>\n    </tr>\n    <tr>\n      <th>10499</th>\n      <td>-0.051968</td>\n      <td>0.55254</td>\n      <td>0.147150</td>\n      <td>2.16980</td>\n      <td>12.7480</td>\n      <td>-0.051968</td>\n      <td>-0.034361</td>\n      <td>0.669830</td>\n      <td>0.94694</td>\n      <td>0.370110</td>\n      <td>...</td>\n      <td>13488.0</td>\n      <td>-0.056037</td>\n      <td>-0.140410</td>\n      <td>1.05600</td>\n      <td>1.153000</td>\n      <td>14.4930</td>\n      <td>9.2851</td>\n      <td>32.761</td>\n      <td>11.1410</td>\n      <td>1.9276</td>\n    </tr>\n    <tr>\n      <th>10500</th>\n      <td>-0.135900</td>\n      <td>0.83954</td>\n      <td>-0.342010</td>\n      <td>0.46526</td>\n      <td>-145.3100</td>\n      <td>-0.219120</td>\n      <td>-0.131860</td>\n      <td>0.191130</td>\n      <td>1.09990</td>\n      <td>0.160460</td>\n      <td>...</td>\n      <td>-4233.0</td>\n      <td>0.144120</td>\n      <td>-0.846930</td>\n      <td>0.85427</td>\n      <td>0.814200</td>\n      <td>6.2737</td>\n      <td>9.6966</td>\n      <td>212.230</td>\n      <td>1.7198</td>\n      <td>1.5659</td>\n    </tr>\n    <tr>\n      <th>10501</th>\n      <td>0.009423</td>\n      <td>0.50028</td>\n      <td>0.261630</td>\n      <td>1.52300</td>\n      <td>-10.1580</td>\n      <td>0.009423</td>\n      <td>0.007700</td>\n      <td>0.989900</td>\n      <td>1.01230</td>\n      <td>0.495230</td>\n      <td>...</td>\n      <td>2686.9</td>\n      <td>0.012186</td>\n      <td>0.019027</td>\n      <td>0.98781</td>\n      <td>0.000000</td>\n      <td>5.9675</td>\n      <td>4.3536</td>\n      <td>98.240</td>\n      <td>3.7154</td>\n      <td>7.8068</td>\n    </tr>\n    <tr>\n      <th>10502</th>\n      <td>-0.001775</td>\n      <td>0.94780</td>\n      <td>0.003729</td>\n      <td>1.00450</td>\n      <td>-50.2210</td>\n      <td>0.000000</td>\n      <td>0.002565</td>\n      <td>0.055122</td>\n      <td>2.12680</td>\n      <td>0.052245</td>\n      <td>...</td>\n      <td>5.0</td>\n      <td>0.023492</td>\n      <td>-0.033971</td>\n      <td>0.97208</td>\n      <td>2.398500</td>\n      <td>7.5512</td>\n      <td>3.9960</td>\n      <td>141.160</td>\n      <td>2.5857</td>\n      <td>12.2250</td>\n    </tr>\n  </tbody>\n</table>\n<p>10503 rows × 63 columns</p>\n</div>",
      "text/plain": "          Attr1    Attr2     Attr3    Attr4     Attr5     Attr6     Attr7  \\\n0      0.174190  0.41299  0.143710  1.34800  -28.9820  0.603830  0.219460   \n1      0.146240  0.46038  0.282300  1.62940    2.5952  0.000000  0.171850   \n2      0.000595  0.22612  0.488390  3.15990   84.8740  0.191140  0.004572   \n3      0.024526  0.43236  0.275460  1.78330  -10.1050  0.569440  0.024526   \n4      0.188290  0.41504  0.342310  1.92790  -58.2740  0.000000  0.233580   \n...         ...      ...       ...      ...       ...       ...       ...   \n10498  0.002861  0.58067 -0.223860  0.51658  -31.8660  0.002861  0.002861   \n10499 -0.051968  0.55254  0.147150  2.16980   12.7480 -0.051968 -0.034361   \n10500 -0.135900  0.83954 -0.342010  0.46526 -145.3100 -0.219120 -0.131860   \n10501  0.009423  0.50028  0.261630  1.52300  -10.1580  0.009423  0.007700   \n10502 -0.001775  0.94780  0.003729  1.00450  -50.2210  0.000000  0.002565   \n\n          Attr8    Attr9    Attr10  ...    Attr55    Attr56    Attr57  \\\n0      1.122500  1.19610  0.463590  ...  127280.0  0.163960  0.375740   \n1      1.172100  1.60180  0.539620  ...    3387.8  0.027516  0.271000   \n2      2.988100  1.00770  0.675660  ...   20453.0  0.007639  0.000881   \n3      1.305700  1.05090  0.564530  ...    5012.6  0.048398  0.043445   \n4      1.409400  1.33930  0.584960  ...   13730.0  0.176480  0.321880   \n...         ...      ...       ...  ...       ...       ...       ...   \n10498  0.618550  1.01200  0.359170  ...   -4321.5  0.011834  0.007966   \n10499  0.669830  0.94694  0.370110  ...   13488.0 -0.056037 -0.140410   \n10500  0.191130  1.09990  0.160460  ...   -4233.0  0.144120 -0.846930   \n10501  0.989900  1.01230  0.495230  ...    2686.9  0.012186  0.019027   \n10502  0.055122  2.12680  0.052245  ...       5.0  0.023492 -0.033971   \n\n        Attr58    Attr59   Attr60   Attr61   Attr62   Attr63   Attr64  \n0      0.83604  0.000007   9.7145   6.2813   84.291   4.3303   4.0341  \n1      0.90108  0.000000   5.9882   4.1103  102.190   3.5716   5.9500  \n2      0.99236  0.000000   6.7742   3.7922   64.846   5.6287   4.4581  \n3      0.95160  0.142980   4.2286   5.0528   98.783   3.6950   3.4844  \n4      0.82635  0.073039   2.5912   7.0756  100.540   3.6303   4.6375  \n...        ...       ...      ...      ...      ...      ...      ...  \n10498  0.98817  0.327360  38.1420  39.1500   42.202   8.6489   5.2646  \n10499  1.05600  1.153000  14.4930   9.2851   32.761  11.1410   1.9276  \n10500  0.85427  0.814200   6.2737   9.6966  212.230   1.7198   1.5659  \n10501  0.98781  0.000000   5.9675   4.3536   98.240   3.7154   7.8068  \n10502  0.97208  2.398500   7.5512   3.9960  141.160   2.5857  12.2250  \n\n[10503 rows x 63 columns]"
     },
     "execution_count": 11,
     "metadata": {},
     "output_type": "execute_result"
    }
   ],
   "source": [
    "df.drop(columns=[\"Attr37\"])"
   ]
  },
  {
   "cell_type": "code",
   "execution_count": 12,
   "metadata": {
    "ExecuteTime": {
     "end_time": "2025-05-26T09:38:32.017438Z",
     "start_time": "2025-05-26T09:38:31.557269Z"
    },
    "collapsed": false
   },
   "outputs": [],
   "source": [
    "from sklearn.model_selection import train_test_split\n",
    "\n",
    "X_train, X_test, y_train, y_test = train_test_split(\n",
    "    df, y, test_size=0.25, stratify=y, random_state=0\n",
    ")"
   ]
  },
  {
   "cell_type": "code",
   "execution_count": 14,
   "metadata": {
    "ExecuteTime": {
     "end_time": "2025-05-26T09:45:14.534405Z",
     "start_time": "2025-05-26T09:45:14.517875Z"
    },
    "collapsed": false
   },
   "outputs": [],
   "source": [
    "from sklearn.pipeline import make_pipeline\n",
    "from sklearn.impute import SimpleImputer\n",
    "from sklearn.preprocessing import StandardScaler\n",
    "\n",
    "pipe = make_pipeline(SimpleImputer(), StandardScaler())\n",
    "X_train = pipe.fit_transform(X_train)\n",
    "X_test = pipe.transform(X_test)"
   ]
  },
  {
   "cell_type": "markdown",
   "metadata": {},
   "source": [
    "Standaryzacja była szczególnie ważna, bo metody undersamplingu i oversamplingu są oparte o najbliższych sąsiadów."
   ]
  },
  {
   "cell_type": "markdown",
   "metadata": {},
   "source": [
    "## Cost-sensitive learning i threshold tuning"
   ]
  },
  {
   "cell_type": "markdown",
   "metadata": {},
   "source": [
    "Jako naszego algorytmu użyjemy lasu losowego (Random Forest). Dla przypomnienia, jest on oparty o **uczenie zespołowe (ensemble learning)**, w którym uśredniamy decyzje wielu klasyfikatorów bazowych. Są to drzewa decyzyjne. Losujemy w nim **próbki bootstrapowe (bootstrap samples)**, czyli losujemy z powtórzeniami tyle punktów, ile wynosi rozmiar naszego zbioru. Dla każdej losujemy także podzbiór cech, typowo tyle, ile wynosi pierwiastek kwadratowy z liczby wszystkich cech. Następnie trenujemy drzewa decyzyjne na takich wylosowanych podzbiorach. Decyzja klasyfikatora jest podejmowana przez głosowanie drzew (w klasyfikacji) lub ich uśrednienie (w regresji).\n",
    "\n",
    "W wielu zastosowaniach dużą zaletą lasów losowych jest ich niska podatność na tuning hiperparametrów, tzw. **tunability**. Algorytmy o wysokim tunability (np. SVM) są podatne na dobór hiperparametrów i wymagają jego zastosowania, żeby osiągnąć dobre wyniki. Random Forest działa typowo doskonale z domyślnymi hiperparametrami, co najwyżej warto czasem ustawić większą liczbę drzew, niż domyślna. Ciekawe artykuły w tej kwestii to:\n",
    "\n",
    "> Probst, Philipp, Anne-Laure Boulesteix, and Bernd Bischl. *\"Tunability: Importance of hyperparameters of machine learning algorithms.\"* The Journal of Machine Learning Research 20.1 (2019): 1934-1965. [link](https://www.jmlr.org/papers/volume20/18-444/18-444.pdf)\n",
    "\n",
    "> Probst, Philipp, Marvin N. Wright, and Anne‐Laure Boulesteix. *\"Hyperparameters and tuning strategies for random forest.\"* Wiley Interdisciplinary Reviews: data mining and knowledge discovery 9.3 (2019): e1301. [link](https://arxiv.org/pdf/1804.03515.pdf)\n",
    "\n",
    "Dzięki wykorzystaniu Random Forest zasadniczo nie będziemy potrzebować tuningu hiperparametrów dla klasyfikatora. Nadaje się też dobrze do klasyfikacji niezbalansowanej: drzewa decyzyjne łatwo integrują ważenie klas w proces treningu, a uśrednianie decyzji mocno zmniejsza wariancję błędu.\n",
    "\n",
    "Ze względu na niezbalansowanie zbioru, które jest znaczące, ale nie ekstremalne, wykorzystamy dwie metryki: AUROC oraz F1-score. Ta druga będzie przydatna przy **threshold tuningu**."
   ]
  },
  {
   "cell_type": "code",
   "execution_count": 16,
   "metadata": {
    "ExecuteTime": {
     "end_time": "2025-05-26T09:45:59.536594Z",
     "start_time": "2025-05-26T09:45:58.702775Z"
    }
   },
   "outputs": [
    {
     "name": "stdout",
     "output_type": "stream",
     "text": [
      "AUROC: 88.56%\n",
      "F1-score: 38.75%\n"
     ]
    }
   ],
   "source": [
    "from sklearn.ensemble import RandomForestClassifier\n",
    "from sklearn.metrics import f1_score, roc_auc_score\n",
    "\n",
    "clf_rf = RandomForestClassifier(random_state=0, n_jobs=-1)\n",
    "clf_rf.fit(X_train, y_train)\n",
    "\n",
    "y_pred = clf_rf.predict(X_test)\n",
    "y_pred_score = clf_rf.predict_proba(X_test)[:, 1]\n",
    "\n",
    "auroc = roc_auc_score(y_test, y_pred_score)\n",
    "f1 = f1_score(y_test, y_pred)\n",
    "\n",
    "print(f\"AUROC: {100 * auroc:.2f}%\")\n",
    "print(f\"F1-score: {100 * f1:.2f}%\")"
   ]
  },
  {
   "cell_type": "markdown",
   "metadata": {},
   "source": [
    "AUROC wydaje się niezłe, ale F1-score pozostawia wiele do życzenia. Zobaczmy, czy **cost-sensitive learning** coś zmieni. Skorzystamy z domyślnej heurystyki do ważenia klas `\"balanced\"`."
   ]
  },
  {
   "cell_type": "code",
   "execution_count": 17,
   "metadata": {
    "ExecuteTime": {
     "end_time": "2025-05-26T09:46:10.784359Z",
     "start_time": "2025-05-26T09:46:10.145955Z"
    }
   },
   "outputs": [
    {
     "name": "stdout",
     "output_type": "stream",
     "text": [
      "AUROC: 89.38%\n",
      "F1-score: 29.33%\n"
     ]
    }
   ],
   "source": [
    "clf_rf_csl = RandomForestClassifier(class_weight=\"balanced\", random_state=0, n_jobs=-1)\n",
    "clf_rf_csl.fit(X_train, y_train)\n",
    "\n",
    "y_pred = clf_rf_csl.predict(X_test)\n",
    "y_pred_score = clf_rf_csl.predict_proba(X_test)[:, 1]\n",
    "\n",
    "auroc = roc_auc_score(y_test, y_pred_score)\n",
    "f1 = f1_score(y_test, y_pred)\n",
    "\n",
    "print(f\"AUROC: {100 * auroc:.2f}%\")\n",
    "print(f\"F1-score: {100 * f1:.2f}%\")"
   ]
  },
  {
   "cell_type": "markdown",
   "metadata": {},
   "source": [
    "Jedna metryka rośnie, druga maleje - tak też się może zdarzyć. Takie sytuacje są zawsze ciekawe, bo pokazują różne aspekty tego, jak radzi sobie nasz klasyfikator. F1-score łączy precyzję i czułość, więc warto przeanalizować to głębiej."
   ]
  },
  {
   "cell_type": "code",
   "execution_count": 18,
   "metadata": {
    "ExecuteTime": {
     "end_time": "2025-05-26T09:46:33.387037Z",
     "start_time": "2025-05-26T09:46:33.260039Z"
    }
   },
   "outputs": [
    {
     "name": "stdout",
     "output_type": "stream",
     "text": [
      "RF\n",
      "  Precision: 86.11%\n",
      "  Recall: 25.00%\n",
      "\n",
      "RF with cost-sensitive learning\n",
      "  Precision: 84.62%\n",
      "  Recall: 17.74%\n"
     ]
    }
   ],
   "source": [
    "from sklearn.metrics import precision_score, recall_score\n",
    "\n",
    "print(\"RF\")\n",
    "rf_precision = precision_score(y_test, clf_rf.predict(X_test))\n",
    "rf_recall = recall_score(y_test, clf_rf.predict(X_test))\n",
    "print(f\"  Precision: {100 * rf_precision:.2f}%\")\n",
    "print(f\"  Recall: {100 * rf_recall:.2f}%\")\n",
    "\n",
    "print()\n",
    "\n",
    "print(\"RF with cost-sensitive learning\")\n",
    "rf_csl_precision = precision_score(y_test, clf_rf_csl.predict(X_test))\n",
    "rf_csl_recall = recall_score(y_test, clf_rf_csl.predict(X_test))\n",
    "print(f\"  Precision: {100 * rf_csl_precision:.2f}%\")\n",
    "print(f\"  Recall: {100 * rf_csl_recall:.2f}%\")"
   ]
  },
  {
   "cell_type": "markdown",
   "metadata": {},
   "source": [
    "Z cost-sensitive learningiem predykcje prawdopodobieństwa co prawda są lepsze (bo mamy wyższy AUROC), ale i precyzja, i czułość spadły. No i w obu przypadkach mamy naprawdę niski recall!\n",
    "\n",
    "Coś trzeba z tym zrobić. Skoro F1-score to metryka binarna, to najłatwiej zmienić próg klasy pozytywnej, czyli zrobić threshold tuning."
   ]
  },
  {
   "cell_type": "markdown",
   "metadata": {},
   "source": [
    "**Zadanie 2 (1.5 punktu)**\n",
    "\n",
    "Zaimplementuj threshold tuning z pomocą walidacji skrośnej. Skorzystaj z funkcji `thresholded_f1_score()`, która jest gotową metryką, obliczającą F1-score dla podanych prawdopodobieństw klasy pozytywnej i progu klasyfikacji.\n",
    "\n",
    "1. Stwórz listę progów [0.1, 0.15, 0.2, .., 0.5]\n",
    "2. Dla każdego progu stwórz nowy obiekt metryki z pomocą funkcji `make_scorer()`. Pamiętaj, że większa wartość jest lepsza i potrzebujemy prawdopodobieństw. Trzeba też podać wartość dla naszego progu (`threshold`) z pomocą `**kwargs`.\n",
    "3. Oblicz wyniki walidacji skrośnej z pomocą funkcji `cross_val_score` dla Random Forest z cost-sensitive tuning. Wykorzystaj 5-fold CV. Funkcja ta zwraca wyniki dla wszystkich foldów - oblicz średni wynik.\n",
    "4. Zwizualizuj na wykresie wyniki F1-score dla poszczególnych progów. Pamiętaj o opisaniu osi i tytule wykresu.\n",
    "5. Dla optymalnego progu oblicz i wypisz F1-score, precision i recall. Próg, dla którego osiągnięto najwyższy F1-score, można łatwo wyciągnąć z pomocą `np.argmax()`.\n",
    "6. Skomentuj zmianę w precision i recall. Czy twoim zdaniem warto dokonać takiej zmiany w przypadku tego zbioru, tj. przewidywania, czy spółka zbankrutuje?"
   ]
  },
  {
   "cell_type": "code",
   "execution_count": 19,
   "metadata": {
    "ExecuteTime": {
     "end_time": "2025-05-26T09:59:48.419010Z",
     "start_time": "2025-05-26T09:59:48.415008Z"
    }
   },
   "outputs": [],
   "source": [
    "def thresholded_f1_score(y_true, y_score, threshold: float, **kwargs) -> float:\n",
    "    y_pred = y_score >= threshold\n",
    "    return f1_score(y_true, y_pred, **kwargs)"
   ]
  },
  {
   "cell_type": "code",
   "execution_count": 24,
   "metadata": {
    "ExecuteTime": {
     "end_time": "2025-05-26T10:05:40.410489Z",
     "start_time": "2025-05-26T10:05:40.407526Z"
    }
   },
   "outputs": [],
   "source": [
    "import numpy as np\n",
    "\n",
    "thresholds = np.linspace(0.1, 0.5, num=9)"
   ]
  },
  {
   "cell_type": "code",
   "execution_count": 33,
   "metadata": {
    "ExecuteTime": {
     "end_time": "2025-05-26T10:30:31.414276Z",
     "start_time": "2025-05-26T10:30:16.597191Z"
    },
    "collapsed": false
   },
   "outputs": [
    {
     "name": "stdout",
     "output_type": "stream",
     "text": [
      "[np.float64(0.23167267752767068), np.float64(0.23167267752767068), np.float64(0.23167267752767068), np.float64(0.23167267752767068), np.float64(0.23167267752767068), np.float64(0.23167267752767068), np.float64(0.23167267752767068), np.float64(0.23167267752767068), np.float64(0.23167267752767068)]\n",
      "[0.1  0.15 0.2  0.25 0.3  0.35 0.4  0.45 0.5 ]\n"
     ]
    },
    {
     "data": {
      "text/plain": "<Axes: title={'center': 'Threshold tuning'}, xlabel='Threshold', ylabel='Mean F1-score (CV)'>"
     },
     "execution_count": 33,
     "metadata": {},
     "output_type": "execute_result"
    },
    {
     "data": {
      "image/png": "[encoded data removed]",
      "text/plain": "<Figure size 640x480 with 1 Axes>"
     },
     "metadata": {},
     "output_type": "display_data"
    }
   ],
   "source": [
    "from sklearn.metrics import make_scorer\n",
    "from sklearn.model_selection import cross_val_score\n",
    "\n",
    "f1_scores = []\n",
    "for threshold in thresholds:\n",
    "    scorer = make_scorer(thresholded_f1_score, threshold=threshold)\n",
    "    clf_rf_csl = RandomForestClassifier(\n",
    "        class_weight=\"balanced\", random_state=0, n_jobs=-1\n",
    "    )\n",
    "    scores = cross_val_score(\n",
    "        clf_rf_csl, X_train, y_train, cv=5, n_jobs=-1, scoring=scorer\n",
    "    )\n",
    "    f1_scores.append(np.mean(scores))\n",
    "print(f1_scores)\n",
    "print(thresholds)\n",
    "s = pd.Series(data=f1_scores, index=thresholds)\n",
    "s.plot.bar(\n",
    "    title=\"Threshold tuning\",\n",
    "    rot=0,\n",
    "    xlabel=\"Threshold\",\n",
    "    ylabel=\"Mean F1-score (CV)\",\n",
    ")"
   ]
  },
  {
   "cell_type": "markdown",
   "metadata": {},
   "source": [
    "// skomentuj tutaj"
   ]
  },
  {
   "cell_type": "markdown",
   "metadata": {},
   "source": [
    "## Undersampling, oversampling"
   ]
  },
  {
   "cell_type": "markdown",
   "metadata": {},
   "source": [
    "Być może klasa większościowa, której jest 95%, jest mocno zaszumiona i są tam przykłady, które warto byłoby usunąć. Czemu tak może być?\n",
    "\n",
    "Pamiętajmy, że klasa pozytywna to spółki, które zbankrutują w ciągu najbliższych 3 lat. Przy granicy decyzyjnej w klasie dominującej mogą być na przykład startupy o dużym ryzyku, które nie zbankrutowały, ale było to kwestią dobrej koniunktury i szczęśliwego trafu tych spółek. Równie dobrze mogłyby upaść przez niskie zasoby twarde czy rosnące koszty. Można je potraktować jak mało miarodajny szum, który tylko z przyczyn dość losowych nie stał się klasą pozytywną (tj. spółkami, które zamknęły działalność).\n",
    "\n",
    "Dla uproszczenia w tym i dalszych zadaniach skorzystamy z funkcji `assess_rf_performance()`, żeby łatwo sprawdzać AUROC i F1-score klasyfikatorów.\n",
    "\n",
    "Najpierw zastosujemy algorytm Edited Nearest Neighbors (ENN) z domyślnymi parametrami: \n",
    "- `k=3`\n",
    "- `kind_sel=\"all\"` (wszyscy sąsiedzi muszą być z klasy dominującej, aby punkt pozostał w zbiorze)\n",
    "\n",
    "Biblioteka imbalanced-learn opiera się o metodę `.fit_resample()`, która zwraca zmodyfikowany zbiór uczący (z usuniętymi/dodatkowymi próbkami). Implementuje także zmodyfikowany `Pipeline`, bo ten domyślny ze Scikit-learn nie wspierałby takiej metody. Warto pamiętać o tym, żeby tworzyć nowe zmienne dla zmodyfikowanych zbiorów, bo inaczej trzeba by wykonywać duże części notebooka na nowo."
   ]
  },
  {
   "cell_type": "code",
   "execution_count": null,
   "metadata": {},
   "outputs": [],
   "source": [
    "def assess_rf_performance(estimator: RandomForestClassifier, X_test, y_test) -> None:\n",
    "    y_score = estimator.predict_proba(X_test)[:, 1]\n",
    "    y_pred = estimator.predict(X_test)\n",
    "    auroc = roc_auc_score(y_test, y_score)\n",
    "    f1 = f1_score(y_test, y_pred)\n",
    "\n",
    "    print(f\"AUROC: {100 * auroc:.2f}%\")\n",
    "    print(f\"F1-score: {100 * f1:.2f}%\")"
   ]
  },
  {
   "cell_type": "code",
   "execution_count": null,
   "metadata": {},
   "outputs": [],
   "source": [
    "from imblearn.under_sampling import EditedNearestNeighbours\n",
    "\n",
    "enn = EditedNearestNeighbours()\n",
    "print(f\"Samples before ENN: {len(X_train)}\")\n",
    "X_train_enn, y_train_enn = enn.fit_resample(X_train, y_train)\n",
    "print(f\"Samples after ENN: {len(X_train_enn)}\")\n",
    "\n",
    "clf_rf_csl = RandomForestClassifier(class_weight=\"balanced\", random_state=0, n_jobs=-1)\n",
    "clf_rf_csl.fit(X_train_enn, y_train_enn)\n",
    "\n",
    "assess_rf_performance(clf_rf_csl, X_test, y_test)"
   ]
  },
  {
   "cell_type": "markdown",
   "metadata": {},
   "source": [
    "Wcześniej AUROC wynosiło 89.30%, a F1-score 28.00%. Mamy spadek obu metryk - niedobrze! Usunęliśmy jednak około 10% zbioru, może to za dużo?"
   ]
  },
  {
   "cell_type": "markdown",
   "metadata": {},
   "source": [
    "**Zadanie 3 (1.5 punktu)**\n",
    "\n",
    "1. Dokonaj tuningu hiperparametrów ENN:\n",
    "   - stwórz siatkę hiperparametrów: \n",
    "     - liczba sąsiadów: `[1, 3, 5]`\n",
    "     - tryb wyboru punktów: `[\"all\", \"mode\"]`\n",
    "   - przed użyciem `GridSearchCV` stwórz pipeline (ten z biblioteki imbalanced-learn), łączący ENN i Random Forest\n",
    "   - wybierz klasyfikator o najwyższym AUROC\n",
    "   - wykorzystaj 10-fold CV - przy zbiorach niezbalansowanych często daje to dokładniejsze oszacowanie\n",
    "   - pamiętaj, żeby podać, którego elementu pipeline'u dotyczą hiperparametry w siatce (np. `enn__n_neighbors`)\n",
    "2. Wypisz znalezione optymalne wartości hiperparametrów. Sprawdź wyniki na zbiorze testowym.\n",
    "3. Czy usuwamy punkty agresywniej, czy bardziej konwerwatywnie? Zweryfikuj swoją intuicję, sprawdzając liczność zbioru przed i po zastosowaniu ENN z optymalnymi hiperparametrami.\n",
    "4. Czy undersampling ostatecznie poprawił wynik? Czy twoim zdaniem warto tu zastosować taką technikę?"
   ]
  },
  {
   "cell_type": "code",
   "execution_count": null,
   "metadata": {},
   "outputs": [],
   "source": []
  },
  {
   "cell_type": "markdown",
   "metadata": {},
   "source": [
    "// skomentuj tutaj"
   ]
  },
  {
   "cell_type": "markdown",
   "metadata": {},
   "source": [
    "Być może oversampling da nam większe korzyści, w końcu klasy pozytywnej jest naprawdę mało. Wypróbujmy najpierw SMOTE z domyślnymi hiperparametrami."
   ]
  },
  {
   "cell_type": "code",
   "execution_count": null,
   "metadata": {},
   "outputs": [],
   "source": [
    "from imblearn.over_sampling import SMOTE\n",
    "\n",
    "smote = SMOTE(random_state=0)\n",
    "print(f\"Samples before SMOTE: {len(X_train)}\")\n",
    "X_train_smote, y_train_smote = smote.fit_resample(X_train, y_train)\n",
    "print(f\"Samples after SMOTE: {len(X_train_smote)}\")\n",
    "\n",
    "clf_rf_csl = RandomForestClassifier(class_weight=\"balanced\", random_state=0, n_jobs=-1)\n",
    "clf_rf_csl.fit(X_train_smote, y_train_smote)\n",
    "\n",
    "assess_rf_performance(clf_rf_csl, X_test, y_test)"
   ]
  },
  {
   "cell_type": "markdown",
   "metadata": {},
   "source": [
    "Jest definitywnie lepiej! Liczba przykładów z klasy pozytywnej wzrosła bardzo mocno, ale dzięki skalowalności lasu losowego nie jest to drastycznie odczuwalne. Za to F1-score bardzo wzrósł, bo zwiększyliśmy znacząco wagę klasy mniejszościowej, i to zagęszczając ją w przestrzeni zbioru danych. Dzięki temu i FP, i FN spadną.\n",
    "\n",
    "Imbalanced-learn domyślnie generuje tyle klasy mniejszościowej, żeby było jej tyle samo, co dominującej. Prawie zawsze powoduje to overfitting - zweryfikujmy to."
   ]
  },
  {
   "cell_type": "code",
   "execution_count": null,
   "metadata": {},
   "outputs": [],
   "source": [
    "print(\"Train metrics\")\n",
    "assess_rf_performance(clf_rf_csl, X_train, y_train)\n",
    "print()\n",
    "print(\"Test metrics\")\n",
    "assess_rf_performance(clf_rf_csl, X_test, y_test)"
   ]
  },
  {
   "cell_type": "markdown",
   "metadata": {},
   "source": [
    "Jest to wręcz tragiczny overfitting! Definitywnie trzeba tutaj tuningu. Imbalanced-learn pozwala na to poprzez parametr `sampling_strategy`. Jeżeli jest to liczba, to oznacza stosunek liczby przykładów klasy mniejszościowej do liczby przykładów klasy większościowej po oversamplingu.\n",
    "\n",
    "Przykładowo, domyślne ustawienia odpowiadają `sampling_strategy=1`, czyli:\n",
    "\n",
    "$$\\large\n",
    "\\frac{n_{minority}}{n_{majority}} = 1 \\longrightarrow n_{minority} = n_{majority}\n",
    "$$\n",
    "\n",
    "Żeby zmniejszyć overfitting, trzeba generować mniej klasy pozytywnej, czyli zmniejszyć tę proporcję. Dodatkowo możemy zmienić wartość najbliższych sąsiadów - mniejsza liczba będzie skutkować generacją bardziej wiernych lokalnie próbek, a większa zwiększy różnorodność."
   ]
  },
  {
   "cell_type": "markdown",
   "metadata": {},
   "source": [
    "**Zadanie 4 (2 punkty)**\n",
    "\n",
    "Ze względu na koszt obliczeniowy połączenia 10-fold CV i metod opartych o sąsiedztwo można wykonać **step-wise tuning**, w którym robimy walidację skrośną po kolei dla parametrów, zamiast sprawdzać wszystkie kombinacje po kolei. Nie daje to gwarancji optymalności, ale typowo działa bardzo dobrze, a przy tym jest dużo szybsze. Jest to typowo stosowane w boostingu, który ma bardzo dużo hiperparametrów, ale także przy innych kosztownych algorytmach. Dobrze opisuje to [ten artykuł](https://medium.com/optuna/lightgbm-tuner-new-optuna-integration-for-hyperparameter-optimization-8b7095e99258).\n",
    "\n",
    "Dokonaj po kolei tuningu:\n",
    "- liczby sąsiadów w SMOTE w zakresie `[1, 2, 3, 4, 5]`\n",
    "- ilości klasy pozytywnej w zakresie od 0.25 do 1 z krokiem 0.25 (może się przydać `np.linspace()` albo  `np.arange()`)\n",
    "\n",
    "Zwróć uwagę na:\n",
    "- 10-fold CV\n",
    "- ustawienie `random_state=0`\n",
    "- przyda się ustawić `verbose=4`, żeby mieć logi z wykonania, bo będzie się to chwilę liczyć\n",
    "\n",
    "Sprawdź wyniki obu pipeline'ów (z osobna) na zbiorze treningowym oraz testowym. Wytrenuj także łączny pipeline, wykorzystując oba znalezione parametry naraz, i sprawdź jego wyniki.\n",
    "\n",
    "Pamiętaj, że nie trzeba przetrenowywać klasyfikatorów na finalnych hiperparametrach - obiekt `GridSearchCV` też ma metodę `.predict()`, w któryj pod spodem użyje modelu z najlepszymi znalezionymi wartościami hiperparametrów.\n",
    "\n",
    "Skomentuj:\n",
    "- czy wynik się poprawił?\n",
    "- czy zmniejszono lub wyeliminowano overfitting w którymś przypadku?\n",
    "- czy warto było tune'ować oba parametry?\n",
    "- czy połączenie parametrów poprawiło wynik?\n",
    "\n",
    "Oszacuj, ile wolniej wykonywałby się grid search na pełnej, kwadratowej siatce hiperparametrów. Oblicz liczbę modeli, którą trzeba by wytrenować w obu przypadkach (step-wise oraz na pełnej siatce) przy 10-fold CV, i przyjmij stały średni czas na jeden fold według logów z treningu."
   ]
  },
  {
   "cell_type": "code",
   "execution_count": null,
   "metadata": {
    "scrolled": true
   },
   "outputs": [],
   "source": []
  },
  {
   "cell_type": "markdown",
   "metadata": {},
   "source": [
    "// skomentuj tutaj"
   ]
  },
  {
   "cell_type": "markdown",
   "metadata": {},
   "source": [
    "// Obliczenia:\n"
   ]
  },
  {
   "cell_type": "markdown",
   "metadata": {},
   "source": [
    "Ostatnią rzeczą, którą możemy tu zrobić, jest połączenie naszych technik. Imbalanced-learn implementuje wygodne połączenie oversamplingu z undersamplingu w module `combine`, np. klasą `SMOTEENN`."
   ]
  },
  {
   "cell_type": "code",
   "execution_count": null,
   "metadata": {},
   "outputs": [],
   "source": [
    "from imblearn.combine import SMOTEENN\n",
    "\n",
    "smote_enn_pipeline = Pipeline(\n",
    "    [\n",
    "        (\"smoteenn\", SMOTEENN(random_state=0)),\n",
    "        (\n",
    "            \"rf\",\n",
    "            RandomForestClassifier(class_weight=\"balanced\", random_state=0, n_jobs=-1),\n",
    "        ),\n",
    "    ]\n",
    ")\n",
    "smote_enn_pipeline.fit(X_train, y_train)\n",
    "\n",
    "assess_rf_performance(smote_enn_pipeline, X_train, y_train)\n",
    "assess_rf_performance(smote_enn_pipeline, X_test, y_test)"
   ]
  },
  {
   "cell_type": "markdown",
   "metadata": {},
   "source": [
    "Przy domyślnych hiperparametrach, połączenie SMOTE i ENN daje gorsze wyniki niż sam SMOTE. Może jednak to kwestia tuningu?"
   ]
  },
  {
   "cell_type": "markdown",
   "metadata": {},
   "source": [
    "**Zadanie 5 (0.5 punktu)**\n",
    "\n",
    "Wytrenuj SMOTEENN, wykorzystując optymalne hiperparametry znalezione podczas tuningu ENN oraz SMOTE. Sprawdź wyniki na zbiorze testowym.\n",
    "\n",
    "Porównaj wyniki ENN, SMOTE oraz ich połączenia. Które rozwiązanie wybrałbyś w praktyce i dlaczego?"
   ]
  },
  {
   "cell_type": "code",
   "execution_count": null,
   "metadata": {},
   "outputs": [],
   "source": []
  },
  {
   "cell_type": "markdown",
   "metadata": {},
   "source": [
    "// skomentuj tutaj"
   ]
  },
  {
   "cell_type": "markdown",
   "metadata": {},
   "source": [
    "## Klasyfikacja ekstremalnie niezbalansowana i anomaly detection"
   ]
  },
  {
   "cell_type": "markdown",
   "metadata": {},
   "source": [
    "Jako nasz drugi zbiór wykorzystamy [Credit Card Fraud Detection dataset](https://www.kaggle.com/datasets/mlg-ulb/creditcardfraud). Został on stworzony przez naukowców z Université Libre de Bruxelles we współpracy z firmą Wordline, obsługującą transakcje finansowe. Jest to największa europejska firma tego typu, i jedna z największych na świecie. Na potrzeby tego datasetu udostępniła transakcje z Europy z września 2013 roku.\n",
    "\n",
    "Jest to ponad 284 tysiące transakcji, z czego zaledwie 492 to transakcje będące wynikiem przestępstwa (fraud transaction). Klasa pozytywna to zatem około 0.172% danych, co wymaga specjalnych algorytmów i metryk. Cechy w zbiorze zostały zanonimizowane za pomocą transformacji PCA, dzięki czemu można było publicznie udostępnić taki zbiór. Jedynie publicznie znane cechy to \"Time\" i \"Amount\". Wszystkie cechy są numeryczne i nie ma wartości brakujących, a dane są najwyższej możliwej jakości (generowane automatycznie, a fraud jest bardzo dokładnie sprawdzany jako przestępstwa), więc jest doskonały do uczenia maszynowego.\n",
    "\n",
    "Warto pamiętać, że chociaż fraud to tak mało danych, to każdy jeden przypadek to bardzo ciężkie przestępstwo, często mogące zrujnować komuś życie, więc wykrycie możliwie jak największej liczby z nich obowiązkiem prawnym firm finansowych. Z tego względu algorytmy stanowią tutaj część systemu, flagujące transakcje jako podejrzane według prawdopodobieństwa. Później następuje weryfikacja ręczna w takich wypadkach.\n",
    "\n",
    "Ze względu na powyższe cechy zbioru, autorzy proponują metrykę **Area Under Precision-Recall Curve (AUPRC)**. Trzeba pamiętać, żeby uważać przy łączeniu jej z under- i oversamplingiem, bo zmieniają one proporcję klasy pozytywnej."
   ]
  },
  {
   "cell_type": "markdown",
   "metadata": {},
   "source": [
    "Ze względu na bardzo duży rozmiar zbioru został on zmniejszony przez losowy downsampling klasy negatywnej, żeby wszystko liczyło się w rozsąðnym czasie. Co prawda w ten sposób trochę naruszono balans klas i zwiększymy stosunek outlierów, ale ze względów czysto praktycznych jesteśmy do tego zmuszeni.\n",
    "\n",
    "W praktyce też tak się czasem robi - na nic nam potężna ilość danych, jeżeli nie jesteśmy w stanie nic na tym policzyć. Ostatecznie fraud transaction stanowią dalej niecały 1% naszych danych, więc zbiór dalej jest ekstremalnie niezbalansowany i przybliżenie prawdziwych danych jest dobre.\n",
    "\n",
    "Ma to też tę zaletę, że zwalcza zjawisko nazywane **swamping**. Występuje ono w anomaly detection, gdy mamy totalnie za dużo klasy dominującej i nachodzi ona na chmurę punktów z klasy mniejszościowej (anomalii), \"zalewając\" ją. Powoduje to często FP, kiedy te przykłady z klasy dominującej zostają uznane za pozytywne.\n",
    "\n",
    "Standaryzujemy też dane, bo skorzystamy z metod opartych o najbliższych sąsiadów."
   ]
  },
  {
   "cell_type": "code",
   "execution_count": null,
   "metadata": {},
   "outputs": [],
   "source": [
    "df = pd.read_parquet(\"credit_card_fraud_data.parquet\")\n",
    "y = df.pop(\"Class\")\n",
    "\n",
    "X_train, X_test, y_train, y_test = train_test_split(\n",
    "    df, y, test_size=0.25, random_state=0, stratify=y\n",
    ")\n",
    "\n",
    "scaler = StandardScaler()\n",
    "scaler.fit(X_train)\n",
    "\n",
    "X_train = scaler.transform(X_train)\n",
    "X_test = scaler.transform(X_test)"
   ]
  },
  {
   "cell_type": "code",
   "execution_count": null,
   "metadata": {},
   "outputs": [],
   "source": [
    "y_pos_count = (y == 1).sum()\n",
    "y_pos_perc = y_pos_count / len(y)\n",
    "\n",
    "print(f\"Fraud class percentage: {100 * y_pos_perc:.2f}%\")"
   ]
  },
  {
   "cell_type": "markdown",
   "metadata": {},
   "source": [
    "Użyjemy po kolei dwóch algorytmów nienadzorowanego outlier detection:\n",
    "- kNN\n",
    "- Isolation Forest\n",
    "\n",
    "Jako wartość parametru `contamination`, czyli oczekiwanej proporcji outlierów, warto zacząć po prostu od ułamka anomalii w zbiorze treningowym, jeżeli jest ona znana."
   ]
  },
  {
   "cell_type": "code",
   "execution_count": null,
   "metadata": {},
   "outputs": [],
   "source": [
    "from sklearn.metrics import average_precision_score\n",
    "\n",
    "\n",
    "def assess_anomaly_detection_model(estimator, X_test, y_test) -> None:\n",
    "    y_pred_score = estimator.predict_proba(X_test)\n",
    "\n",
    "    # in PyOD, .predict_proba() sometimes returns probability distribution,\n",
    "    # and sometimes it returns only probability of being anomaly\n",
    "    if len(y_pred_score.shape) > 1:\n",
    "        y_pred_score = y_pred_score[:, 1]\n",
    "\n",
    "    auprc = average_precision_score(y_test, y_pred_score)\n",
    "    print(f\"AUPRC: {100 * auprc:.2f}%\")"
   ]
  },
  {
   "cell_type": "code",
   "execution_count": null,
   "metadata": {},
   "outputs": [],
   "source": [
    "from pyod.models.iforest import IForest\n",
    "from pyod.models.knn import KNN\n",
    "\n",
    "contamination = (y == 1).sum() / len(y)\n",
    "\n",
    "knn = KNN(contamination=contamination, n_jobs=-1)\n",
    "knn.fit(X_train)\n",
    "print(\"kNN metrics\")\n",
    "assess_anomaly_detection_model(knn, X_test, y_test)\n",
    "print()\n",
    "\n",
    "iforest = IForest(\n",
    "    contamination=contamination, behaviour=\"new\", random_state=0, n_jobs=-1\n",
    ")\n",
    "iforest.fit(X_train)\n",
    "print(\"Isolation Forest metrics\")\n",
    "assess_anomaly_detection_model(iforest, X_test, y_test)\n",
    "print()"
   ]
  },
  {
   "cell_type": "markdown",
   "metadata": {},
   "source": [
    "kNN wykazuje na pewno potencjał (pamiętajmy, że AUPRC ma typowo bardzo niskie wartości!), ale nasz zbiór jest dość duży, więc czuć wolniejsze tempo tej metody, a niestety PyOD nie współgra dobrze z PyNNDescent, żeby go przyspieszyć z użyciem ANN. Dlatego skupimy się teraz na Isolation Forest.\n",
    "\n",
    "Jego najważniejsze hiperparametry to:\n",
    "- `n_estimators` - liczba drzew, typowo ok. 500 jest już osiągana asymptota wyniku\n",
    "- `max_samples` - wielkość próbki per drzewo, domyślnie 256, ale nieco większa może pomóc, jeżeli mamy naprawdę masywny zbiór\n",
    "\n",
    "Typowo `contamination` niewiele zmienia w przypadku tego algorytmu, kiedy używamy metryki opartej o prawdopodobieństwa, takiej jak AUPRC."
   ]
  },
  {
   "cell_type": "markdown",
   "metadata": {},
   "source": [
    "**Zadanie 6 (1.5 punktu)**\n",
    "\n",
    "1. Dokonaj tuningu hiperarametrów po kolei (step-wise) za pomocą walidacji skrośnej:\n",
    "   - najpierw `n_estimators`, wartości `[100, 200, 300, 400, 500]`\n",
    "   - później `max_samples`,  wartości `[100, 200, 256, 300, 400, 500]`\n",
    "   - wykorzystaj wartość `contamination` obliczoną wcześniej\n",
    "   - użyj `random_state=0` i `n_jobs=-1` dla obiektu `IForest`\n",
    "   - użyj 5-krotnej walidacji skrośnej, optymalizując `\"average_precision\"` (AUPRC)\n",
    "2. Wypisz znalezione optymalne wartości parametrów.\n",
    "3. Wytrenuj Isolation Forest z wartościami obu parametrów. Sprawdź wynik na zbiorze testowym.\n",
    "4. Skomentuj, czy udało się poprawić wynik. Czy twoim zdaniem było warto dokonać tuningu obu hiperparamametrów, czy wystarczyłby jeden z nich?\n",
    "\n",
    "**Uwaga:** przez drobnego buga w połączeniu `pyod` i najnowszych wersji Scikit-learn trzeba użyć explicite funkcji obliczającej AUPRC, przygotowano ją poniżej."
   ]
  },
  {
   "cell_type": "code",
   "execution_count": null,
   "metadata": {},
   "outputs": [],
   "source": [
    "from sklearn.metrics import make_scorer\n",
    "\n",
    "\n",
    "def auprc(estimator, X, y):\n",
    "    return average_precision_score(y, estimator.predict_proba(X))\n",
    "\n",
    "\n",
    "auprc = make_scorer(average_precision_score)"
   ]
  },
  {
   "cell_type": "code",
   "execution_count": null,
   "metadata": {
    "scrolled": true
   },
   "outputs": [],
   "source": []
  },
  {
   "cell_type": "markdown",
   "metadata": {},
   "source": [
    "// skomentuj tutaj"
   ]
  },
  {
   "cell_type": "markdown",
   "metadata": {},
   "source": [
    "Zaprezentowane podejścia należały do **uczenia nienadzorowanego (unsupervised learning)**, gdyż te algorytmy nie potrzebowały klas dla przykładów ze zbioru treningowego. W szczególności Isolation Forest potrafi działać bardzo dobrze nawet wtedy, kiedy zbiór uczący nie zawiera żadnych anomalii. Wykorzystanie takich algorytmów jest zatem proste i tanie, a w szczególności można dla nich łatwo stworzyć potężne zbiory danych.\n",
    "\n",
    "Jeżeli mamy luksus posiadania pełnej informacji o klasach, możemy użyć algorytmów uczenia nadzorowanego (supervised learning). W szczególności można także połączyć te podejścia, co realizuje **uczenie pół-nadzorowane (semi-supervised learning)**, którego przedstawicielem jest XGBoost Outlier Detection (XGBOD). Polega on na obliczeniu anomaly scores dla próbek za pomocą algorytmów nienadzorowanych (np. kNN czy Isolation Forest) i doklejeniu ich jako dodatkowych cech do naszego zbioru treningowego. Można stosować jeden algorytm wielokrotnie, np. kNN dla wielu wartości k, bo wtedy XGBoost ma wiele nowych cech (dla różnych gęstości outlierów) i może je elastycznie łączyć.\n",
    "\n",
    "Tak naprawdę podejście to jest bardzo ogólne, i można by zastosować dowolne połączenia ekstrekcji dodatkowych cech anomalii i klasyfikatorów. XGBOD to po prostu pierwszy zaproponowany przykład takiego algorytmu i działa naprawdę dobrze.\n",
    "\n",
    "PyOD implementuje to w klasie `XGBOD`, która przyjmuje argument `estimator_list`. Jest to lista obiektów klas do nienadzorowanego outlier detection, np. `KNN` czy `IForest` (samych klas, przed treningiem przez `.fit()`). Sam trening i predykcja działa tak jak w przypadku poprzednich algorytmów."
   ]
  },
  {
   "cell_type": "markdown",
   "metadata": {},
   "source": [
    "**Zadanie 7 (1.5 punktu)**\n",
    "\n",
    "1. Stwórz listę `estimator_list`, składającą się z:\n",
    "   - algorytmów `KNN` z `n_neighbors`: `[1, 3, 5, 10, 20, 30]`\n",
    "   - algorytmów `IForest` z `n_estimators`: `[50, 100, 200, 300]`\n",
    "   - pamiętaj o przekazaniu `n_jobs=-1` oraz `random_state=0` (w razie potrzeby) podczas tworzenia obiektów tych klas\n",
    "2. Wytrenuj algorytm `XGBOD`, pamiętaj o przekazaniu stworzonego `estimator_list` raz o ustawieniu `n_jobs=-1` i `random_state=0`.\n",
    "3. Dokonaj ewaluacji wyników na zbiorze testowym.\n",
    "4. Skomentuj:\n",
    "   - jak mają się do siebie wyniki podejścia nienadzorowanego i w pełni nadzorowanego?\n",
    "   - co uważasz o podejściu pół-nadzorowanym, w którym skorzystaliśmy z dodatkowych cech?\n",
    "   - czy twoim zdaniem finalna wartość metryki jest zadowalająca?\n",
    "   - czy trening subiektywnie trwał zauważalnie dłużej od tego dla algorytmów nienadzorowanych?\n",
    "   - czy twoim zdaniem warto ponieść wysiłek i koszty, pozwalające na użycie takiego algorytmu pół-nadzorowanego?\n",
    "\n",
    "**Uwaga:** może się to liczyć dość długo, rzędu kilku minut. Jeżeli będzie definitywnie zbyt długie, zmniejsz liczbę algorytmów KNN."
   ]
  },
  {
   "cell_type": "code",
   "execution_count": null,
   "metadata": {},
   "outputs": [],
   "source": []
  },
  {
   "cell_type": "markdown",
   "metadata": {},
   "source": [
    "// skomentuj tutaj"
   ]
  },
  {
   "cell_type": "markdown",
   "metadata": {},
   "source": [
    "## Zadanie dodatkowe (3 punkty)\n",
    "\n",
    "W przypadku niektórych zbiorów danych anomalie mogą być zjawiskiem dość pozytywnym, tylko po prostu ekstremalnie rzadkim. Jest tak typowo w farmacji, gdzie molekuły będące potencjalnymi lekami są bardzo niewielkim ułamkiem zbiorów nawet wśród wstępnie typowanych, obiecujących substancji. Pierwszy etap projektowania nowych leków, tzw. high-throughput screening (HTS), polega na identyfikacji tego bardzo niewielkiego podzbioru spośród wielkich baz molekuł, w celu dalszego badania.\n",
    "\n",
    "Zbiór AID746, [dostępny na platformie Kaggle](https://www.kaggle.com/datasets/uciml/bioassay-datasets), dotyczy identyfikacji kinaz białkowych aktywowanych mitogenami ([Wikipedia](https://pl.wikipedia.org/wiki/Kinazy_aktywowane_mitogenami)). Są to enzymy regulujące odpowiedzi na sygnały docierające do komórki, regulujące wiele ciekawych funkcji. Mają potencjalne zastosowania m.in. w rozwoju metod chemoterapii, badaniu insulinoodporności czy rozwoju leków przeciwzapalnych ([Wikipedia](https://en.wikipedia.org/wiki/Mitogen-activated_protein_kinase#As_therapeutic_targets)).\n",
    "\n",
    "W tym zbiorze danych klasa substancji aktywnych stanowi 0.61% zbioru, spośród ok. 57 tysięcy substancji w zbiorze. Jest on już podzielony na część treningową i testową.\n",
    "\n",
    "Dokonaj klasyfikacji oraz tuningu hiperparametrów dla tego zbioru z pomocą:\n",
    "- kNN\n",
    "- Isolation Forest\n",
    "- XGBOD - tu warto zwrócić uwagę też na parametr `scale_pos_weight`, którego dla uproszczenia nie używaliśmy w ostatnim zadaniu\n",
    "\n",
    "Możesz spróbować także użyć undersamplingu, oversamplingu oraz ich połączenia.\n",
    "\n",
    "Jako metryki użyj AUPRC. Podaj także czułość (recall) finalnego algorytmu - w końcu na etapie początkowego filtrowania substancji chcemy na pewno mieć jak najmniej false negatives.\n",
    "\n",
    "Na podstawie wyników oceń, z jakim typem anomalii mamy tu do czynienia. Czy udało się uzyskać zadowalające w twojej ocenie wyniki?"
   ]
  },
  {
   "cell_type": "code",
   "execution_count": null,
   "metadata": {},
   "outputs": [],
   "source": []
  }
 ],
 "metadata": {
  "kernelspec": {
   "display_name": "Python 3 (ipykernel)",
   "language": "python",
   "name": "python3"
  },
  "language_info": {
   "codemirror_mode": {
    "name": "ipython",
    "version": 3
   },
   "file_extension": ".py",
   "mimetype": "text/x-python",
   "name": "python",
   "nbconvert_exporter": "python",
   "pygments_lexer": "ipython3",
   "version": "3.11.12"
  }
 },
 "nbformat": 4,
 "nbformat_minor": 4
}
