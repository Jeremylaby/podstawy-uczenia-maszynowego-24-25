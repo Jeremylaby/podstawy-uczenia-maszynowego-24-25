{
 "cells": [
  {
   "cell_type": "markdown",
   "metadata": {},
   "source": [
    "# Klasyfikacja niezbalansowana i anomaly detection"
   ]
  },
  {
   "cell_type": "markdown",
   "metadata": {},
   "source": [
    "Poza standardowymi narzędziami do klasyfikacji tabelarycznej użyjemy bibliotek:\n",
    "1. [Imbalanced-learn](https://imbalanced-learn.org/stable/index.html) - biblioteka implementująca różne algorytmy undersamplingu i oversamplingu\n",
    "2. [PyOD](https://pyod.readthedocs.io/en/latest/index.html) - biblioteka implementująca mnóstwo algorytmów outlier detection\n",
    "3. [XGBoost](https://xgboost.readthedocs.io/en/stable/) - oficjalna implementacja algorytmu XGBoost"
   ]
  },
  {
   "cell_type": "code",
   "execution_count": 68,
   "metadata": {
    "ExecuteTime": {
     "end_time": "2025-05-27T11:42:15.994507Z",
     "start_time": "2025-05-27T11:42:15.990482Z"
    }
   },
   "outputs": [],
   "source": [
    "import pandas as pd"
   ]
  },
  {
   "cell_type": "markdown",
   "metadata": {},
   "source": [
    "## Klasyfikacja umiarkowanie niezbalansowana"
   ]
  },
  {
   "cell_type": "markdown",
   "metadata": {},
   "source": [
    "Najpierw wykorzystamy zbiór danych [Polish companies bankruptcy](https://archive.ics.uci.edu/ml/datasets/Polish+companies+bankruptcy+data). Dotyczy on klasyfikacji, na podstawie danych z raportów finansowych, czy firma zbankrutuje w ciągu najbliższych kilku lat. Jest to zadanie szczególnie istotne dla banków, funduszy inwestycyjnych, firm ubezpieczeniowych itp., które z tego powodu zatrudniają licznie data scientistów. Zbiór zawiera 64 cechy, obliczone przez ekonomistów, którzy stworzyli ten zbiór, opisane na stronie UCI.\n",
    "\n",
    "Wykorzystamy podzbiór, w którym na podstawie finansowych firmy po 3 latach monitorowania chcemy przewidywać, czy firma zbankrutuje w ciągu najbliższych 3 lat. Jest to dość realistyczny horyzont czasowy, a przy tym największy z podzbiorów."
   ]
  },
  {
   "cell_type": "code",
   "execution_count": 2,
   "metadata": {
    "collapsed": false
   },
   "outputs": [
    {
     "data": {
      "text/html": "<div>\n<style scoped>\n    .dataframe tbody tr th:only-of-type {\n        vertical-align: middle;\n    }\n\n    .dataframe tbody tr th {\n        vertical-align: top;\n    }\n\n    .dataframe thead th {\n        text-align: right;\n    }\n</style>\n<table border=\"1\" class=\"dataframe\">\n  <thead>\n    <tr style=\"text-align: right;\">\n      <th></th>\n      <th>Attr1</th>\n      <th>Attr2</th>\n      <th>Attr3</th>\n      <th>Attr4</th>\n      <th>Attr5</th>\n      <th>Attr6</th>\n      <th>Attr7</th>\n      <th>Attr8</th>\n      <th>Attr9</th>\n      <th>Attr10</th>\n      <th>...</th>\n      <th>Attr55</th>\n      <th>Attr56</th>\n      <th>Attr57</th>\n      <th>Attr58</th>\n      <th>Attr59</th>\n      <th>Attr60</th>\n      <th>Attr61</th>\n      <th>Attr62</th>\n      <th>Attr63</th>\n      <th>Attr64</th>\n    </tr>\n  </thead>\n  <tbody>\n    <tr>\n      <th>0</th>\n      <td>0.174190</td>\n      <td>0.41299</td>\n      <td>0.14371</td>\n      <td>1.3480</td>\n      <td>-28.9820</td>\n      <td>0.60383</td>\n      <td>0.219460</td>\n      <td>1.1225</td>\n      <td>1.1961</td>\n      <td>0.46359</td>\n      <td>...</td>\n      <td>127280.0</td>\n      <td>0.163960</td>\n      <td>0.375740</td>\n      <td>0.83604</td>\n      <td>0.000007</td>\n      <td>9.7145</td>\n      <td>6.2813</td>\n      <td>84.291</td>\n      <td>4.3303</td>\n      <td>4.0341</td>\n    </tr>\n    <tr>\n      <th>1</th>\n      <td>0.146240</td>\n      <td>0.46038</td>\n      <td>0.28230</td>\n      <td>1.6294</td>\n      <td>2.5952</td>\n      <td>0.00000</td>\n      <td>0.171850</td>\n      <td>1.1721</td>\n      <td>1.6018</td>\n      <td>0.53962</td>\n      <td>...</td>\n      <td>3387.8</td>\n      <td>0.027516</td>\n      <td>0.271000</td>\n      <td>0.90108</td>\n      <td>0.000000</td>\n      <td>5.9882</td>\n      <td>4.1103</td>\n      <td>102.190</td>\n      <td>3.5716</td>\n      <td>5.9500</td>\n    </tr>\n    <tr>\n      <th>2</th>\n      <td>0.000595</td>\n      <td>0.22612</td>\n      <td>0.48839</td>\n      <td>3.1599</td>\n      <td>84.8740</td>\n      <td>0.19114</td>\n      <td>0.004572</td>\n      <td>2.9881</td>\n      <td>1.0077</td>\n      <td>0.67566</td>\n      <td>...</td>\n      <td>20453.0</td>\n      <td>0.007639</td>\n      <td>0.000881</td>\n      <td>0.99236</td>\n      <td>0.000000</td>\n      <td>6.7742</td>\n      <td>3.7922</td>\n      <td>64.846</td>\n      <td>5.6287</td>\n      <td>4.4581</td>\n    </tr>\n    <tr>\n      <th>3</th>\n      <td>0.024526</td>\n      <td>0.43236</td>\n      <td>0.27546</td>\n      <td>1.7833</td>\n      <td>-10.1050</td>\n      <td>0.56944</td>\n      <td>0.024526</td>\n      <td>1.3057</td>\n      <td>1.0509</td>\n      <td>0.56453</td>\n      <td>...</td>\n      <td>5012.6</td>\n      <td>0.048398</td>\n      <td>0.043445</td>\n      <td>0.95160</td>\n      <td>0.142980</td>\n      <td>4.2286</td>\n      <td>5.0528</td>\n      <td>98.783</td>\n      <td>3.6950</td>\n      <td>3.4844</td>\n    </tr>\n    <tr>\n      <th>4</th>\n      <td>0.188290</td>\n      <td>0.41504</td>\n      <td>0.34231</td>\n      <td>1.9279</td>\n      <td>-58.2740</td>\n      <td>0.00000</td>\n      <td>0.233580</td>\n      <td>1.4094</td>\n      <td>1.3393</td>\n      <td>0.58496</td>\n      <td>...</td>\n      <td>13730.0</td>\n      <td>0.176480</td>\n      <td>0.321880</td>\n      <td>0.82635</td>\n      <td>0.073039</td>\n      <td>2.5912</td>\n      <td>7.0756</td>\n      <td>100.540</td>\n      <td>3.6303</td>\n      <td>4.6375</td>\n    </tr>\n  </tbody>\n</table>\n<p>5 rows × 64 columns</p>\n</div>",
      "text/plain": "      Attr1    Attr2    Attr3   Attr4    Attr5    Attr6     Attr7   Attr8  \\\n0  0.174190  0.41299  0.14371  1.3480 -28.9820  0.60383  0.219460  1.1225   \n1  0.146240  0.46038  0.28230  1.6294   2.5952  0.00000  0.171850  1.1721   \n2  0.000595  0.22612  0.48839  3.1599  84.8740  0.19114  0.004572  2.9881   \n3  0.024526  0.43236  0.27546  1.7833 -10.1050  0.56944  0.024526  1.3057   \n4  0.188290  0.41504  0.34231  1.9279 -58.2740  0.00000  0.233580  1.4094   \n\n    Attr9   Attr10  ...    Attr55    Attr56    Attr57   Attr58    Attr59  \\\n0  1.1961  0.46359  ...  127280.0  0.163960  0.375740  0.83604  0.000007   \n1  1.6018  0.53962  ...    3387.8  0.027516  0.271000  0.90108  0.000000   \n2  1.0077  0.67566  ...   20453.0  0.007639  0.000881  0.99236  0.000000   \n3  1.0509  0.56453  ...    5012.6  0.048398  0.043445  0.95160  0.142980   \n4  1.3393  0.58496  ...   13730.0  0.176480  0.321880  0.82635  0.073039   \n\n   Attr60  Attr61   Attr62  Attr63  Attr64  \n0  9.7145  6.2813   84.291  4.3303  4.0341  \n1  5.9882  4.1103  102.190  3.5716  5.9500  \n2  6.7742  3.7922   64.846  5.6287  4.4581  \n3  4.2286  5.0528   98.783  3.6950  3.4844  \n4  2.5912  7.0756  100.540  3.6303  4.6375  \n\n[5 rows x 64 columns]"
     },
     "execution_count": 2,
     "metadata": {},
     "output_type": "execute_result"
    }
   ],
   "source": [
    "from scipy.io import arff\n",
    "\n",
    "data = arff.loadarff(\"polish_companies_bankruptcy_3_year_data.arff\")\n",
    "\n",
    "df = pd.DataFrame(data[0])\n",
    "y = df.pop(\"class\").astype(int)\n",
    "\n",
    "df.head()"
   ]
  },
  {
   "cell_type": "markdown",
   "metadata": {
    "collapsed": false
   },
   "source": [
    "**Zadanie 1 (1 punkt)**\n",
    "\n",
    "1. Zwizualizuj brakujące ilość brakujących danych na wykresie słupkowym (bar plot).\n",
    "2. Zwizualizuj rozkład klas na wykresie.\n",
    "3. Usuń cechę `Attr37`, mającą dużo wartości brakujących.\n",
    "4. Dokonaj podziału na zbiór treningowy i testowy w proporcjach 75%-25%, ze stratyfikacją. Pamiętaj o `random_state=0`.\n",
    "5. Zbuduj i zastosuj pipeline (`make_pipeline`) do czyszczenia danych, składający się z:\n",
    "   - uzupełnienia wartości brakujących wartością średnią (`SimpleImputer`)\n",
    "   - standaryzacji danych (`StandardScaler`)"
   ]
  },
  {
   "cell_type": "code",
   "execution_count": 5,
   "metadata": {
    "ExecuteTime": {
     "end_time": "2025-05-27T09:08:51.204043Z",
     "start_time": "2025-05-27T09:08:50.447344Z"
    },
    "collapsed": false
   },
   "outputs": [
    {
     "data": {
      "text/plain": "<Axes: title={'center': 'Missing values per column'}, xlabel='Columns', ylabel='Count of missing'>"
     },
     "execution_count": 5,
     "metadata": {},
     "output_type": "execute_result"
    },
    {
     "data": {
      "image/png": "[encoded data removed]",
      "text/plain": "<Figure size 2000x600 with 1 Axes>"
     },
     "metadata": {},
     "output_type": "display_data"
    }
   ],
   "source": [
    "missing = df.isna().sum()\n",
    "\n",
    "missing.plot.bar(\n",
    "    figsize=(20, 6),\n",
    "    xlabel=\"Columns\",\n",
    "    ylabel=\"Count of missing\",\n",
    "    title=\"Missing values per column\",\n",
    "    rot=90,\n",
    ")"
   ]
  },
  {
   "cell_type": "code",
   "execution_count": 6,
   "metadata": {
    "ExecuteTime": {
     "end_time": "2025-05-27T09:08:51.308574Z",
     "start_time": "2025-05-27T09:08:51.206027Z"
    }
   },
   "outputs": [
    {
     "data": {
      "image/png": "[encoded data removed]",
      "text/plain": "<Figure size 640x480 with 1 Axes>"
     },
     "metadata": {},
     "output_type": "display_data"
    }
   ],
   "source": [
    "import matplotlib.pyplot as plt\n",
    "\n",
    "class_counts = y.value_counts(normalize=True) * 100\n",
    "bar = class_counts.plot.bar(\n",
    "    title=\"Class distribution\",\n",
    "    rot=0,\n",
    "    xlabel=\"Class (defaulted or not)\",\n",
    "    ylabel=\"Class percentage\",\n",
    ")\n",
    "\n",
    "for i, v in enumerate(class_counts):\n",
    "    bar.text(i, v + 1, f\"{v:.1f}%\", ha=\"center\", fontsize=10)\n",
    "\n",
    "plt.show()"
   ]
  },
  {
   "cell_type": "code",
   "execution_count": 7,
   "metadata": {
    "ExecuteTime": {
     "end_time": "2025-05-27T09:08:51.328292Z",
     "start_time": "2025-05-27T09:08:51.309571Z"
    },
    "collapsed": false
   },
   "outputs": [
    {
     "data": {
      "text/html": "<div>\n<style scoped>\n    .dataframe tbody tr th:only-of-type {\n        vertical-align: middle;\n    }\n\n    .dataframe tbody tr th {\n        vertical-align: top;\n    }\n\n    .dataframe thead th {\n        text-align: right;\n    }\n</style>\n<table border=\"1\" class=\"dataframe\">\n  <thead>\n    <tr style=\"text-align: right;\">\n      <th></th>\n      <th>Attr1</th>\n      <th>Attr2</th>\n      <th>Attr3</th>\n      <th>Attr4</th>\n      <th>Attr5</th>\n      <th>Attr6</th>\n      <th>Attr7</th>\n      <th>Attr8</th>\n      <th>Attr9</th>\n      <th>Attr10</th>\n      <th>...</th>\n      <th>Attr55</th>\n      <th>Attr56</th>\n      <th>Attr57</th>\n      <th>Attr58</th>\n      <th>Attr59</th>\n      <th>Attr60</th>\n      <th>Attr61</th>\n      <th>Attr62</th>\n      <th>Attr63</th>\n      <th>Attr64</th>\n    </tr>\n  </thead>\n  <tbody>\n    <tr>\n      <th>0</th>\n      <td>0.174190</td>\n      <td>0.41299</td>\n      <td>0.143710</td>\n      <td>1.34800</td>\n      <td>-28.9820</td>\n      <td>0.603830</td>\n      <td>0.219460</td>\n      <td>1.122500</td>\n      <td>1.19610</td>\n      <td>0.463590</td>\n      <td>...</td>\n      <td>127280.0</td>\n      <td>0.163960</td>\n      <td>0.375740</td>\n      <td>0.83604</td>\n      <td>0.000007</td>\n      <td>9.7145</td>\n      <td>6.2813</td>\n      <td>84.291</td>\n      <td>4.3303</td>\n      <td>4.0341</td>\n    </tr>\n    <tr>\n      <th>1</th>\n      <td>0.146240</td>\n      <td>0.46038</td>\n      <td>0.282300</td>\n      <td>1.62940</td>\n      <td>2.5952</td>\n      <td>0.000000</td>\n      <td>0.171850</td>\n      <td>1.172100</td>\n      <td>1.60180</td>\n      <td>0.539620</td>\n      <td>...</td>\n      <td>3387.8</td>\n      <td>0.027516</td>\n      <td>0.271000</td>\n      <td>0.90108</td>\n      <td>0.000000</td>\n      <td>5.9882</td>\n      <td>4.1103</td>\n      <td>102.190</td>\n      <td>3.5716</td>\n      <td>5.9500</td>\n    </tr>\n    <tr>\n      <th>2</th>\n      <td>0.000595</td>\n      <td>0.22612</td>\n      <td>0.488390</td>\n      <td>3.15990</td>\n      <td>84.8740</td>\n      <td>0.191140</td>\n      <td>0.004572</td>\n      <td>2.988100</td>\n      <td>1.00770</td>\n      <td>0.675660</td>\n      <td>...</td>\n      <td>20453.0</td>\n      <td>0.007639</td>\n      <td>0.000881</td>\n      <td>0.99236</td>\n      <td>0.000000</td>\n      <td>6.7742</td>\n      <td>3.7922</td>\n      <td>64.846</td>\n      <td>5.6287</td>\n      <td>4.4581</td>\n    </tr>\n    <tr>\n      <th>3</th>\n      <td>0.024526</td>\n      <td>0.43236</td>\n      <td>0.275460</td>\n      <td>1.78330</td>\n      <td>-10.1050</td>\n      <td>0.569440</td>\n      <td>0.024526</td>\n      <td>1.305700</td>\n      <td>1.05090</td>\n      <td>0.564530</td>\n      <td>...</td>\n      <td>5012.6</td>\n      <td>0.048398</td>\n      <td>0.043445</td>\n      <td>0.95160</td>\n      <td>0.142980</td>\n      <td>4.2286</td>\n      <td>5.0528</td>\n      <td>98.783</td>\n      <td>3.6950</td>\n      <td>3.4844</td>\n    </tr>\n    <tr>\n      <th>4</th>\n      <td>0.188290</td>\n      <td>0.41504</td>\n      <td>0.342310</td>\n      <td>1.92790</td>\n      <td>-58.2740</td>\n      <td>0.000000</td>\n      <td>0.233580</td>\n      <td>1.409400</td>\n      <td>1.33930</td>\n      <td>0.584960</td>\n      <td>...</td>\n      <td>13730.0</td>\n      <td>0.176480</td>\n      <td>0.321880</td>\n      <td>0.82635</td>\n      <td>0.073039</td>\n      <td>2.5912</td>\n      <td>7.0756</td>\n      <td>100.540</td>\n      <td>3.6303</td>\n      <td>4.6375</td>\n    </tr>\n    <tr>\n      <th>...</th>\n      <td>...</td>\n      <td>...</td>\n      <td>...</td>\n      <td>...</td>\n      <td>...</td>\n      <td>...</td>\n      <td>...</td>\n      <td>...</td>\n      <td>...</td>\n      <td>...</td>\n      <td>...</td>\n      <td>...</td>\n      <td>...</td>\n      <td>...</td>\n      <td>...</td>\n      <td>...</td>\n      <td>...</td>\n      <td>...</td>\n      <td>...</td>\n      <td>...</td>\n      <td>...</td>\n    </tr>\n    <tr>\n      <th>10498</th>\n      <td>0.002861</td>\n      <td>0.58067</td>\n      <td>-0.223860</td>\n      <td>0.51658</td>\n      <td>-31.8660</td>\n      <td>0.002861</td>\n      <td>0.002861</td>\n      <td>0.618550</td>\n      <td>1.01200</td>\n      <td>0.359170</td>\n      <td>...</td>\n      <td>-4321.5</td>\n      <td>0.011834</td>\n      <td>0.007966</td>\n      <td>0.98817</td>\n      <td>0.327360</td>\n      <td>38.1420</td>\n      <td>39.1500</td>\n      <td>42.202</td>\n      <td>8.6489</td>\n      <td>5.2646</td>\n    </tr>\n    <tr>\n      <th>10499</th>\n      <td>-0.051968</td>\n      <td>0.55254</td>\n      <td>0.147150</td>\n      <td>2.16980</td>\n      <td>12.7480</td>\n      <td>-0.051968</td>\n      <td>-0.034361</td>\n      <td>0.669830</td>\n      <td>0.94694</td>\n      <td>0.370110</td>\n      <td>...</td>\n      <td>13488.0</td>\n      <td>-0.056037</td>\n      <td>-0.140410</td>\n      <td>1.05600</td>\n      <td>1.153000</td>\n      <td>14.4930</td>\n      <td>9.2851</td>\n      <td>32.761</td>\n      <td>11.1410</td>\n      <td>1.9276</td>\n    </tr>\n    <tr>\n      <th>10500</th>\n      <td>-0.135900</td>\n      <td>0.83954</td>\n      <td>-0.342010</td>\n      <td>0.46526</td>\n      <td>-145.3100</td>\n      <td>-0.219120</td>\n      <td>-0.131860</td>\n      <td>0.191130</td>\n      <td>1.09990</td>\n      <td>0.160460</td>\n      <td>...</td>\n      <td>-4233.0</td>\n      <td>0.144120</td>\n      <td>-0.846930</td>\n      <td>0.85427</td>\n      <td>0.814200</td>\n      <td>6.2737</td>\n      <td>9.6966</td>\n      <td>212.230</td>\n      <td>1.7198</td>\n      <td>1.5659</td>\n    </tr>\n    <tr>\n      <th>10501</th>\n      <td>0.009423</td>\n      <td>0.50028</td>\n      <td>0.261630</td>\n      <td>1.52300</td>\n      <td>-10.1580</td>\n      <td>0.009423</td>\n      <td>0.007700</td>\n      <td>0.989900</td>\n      <td>1.01230</td>\n      <td>0.495230</td>\n      <td>...</td>\n      <td>2686.9</td>\n      <td>0.012186</td>\n      <td>0.019027</td>\n      <td>0.98781</td>\n      <td>0.000000</td>\n      <td>5.9675</td>\n      <td>4.3536</td>\n      <td>98.240</td>\n      <td>3.7154</td>\n      <td>7.8068</td>\n    </tr>\n    <tr>\n      <th>10502</th>\n      <td>-0.001775</td>\n      <td>0.94780</td>\n      <td>0.003729</td>\n      <td>1.00450</td>\n      <td>-50.2210</td>\n      <td>0.000000</td>\n      <td>0.002565</td>\n      <td>0.055122</td>\n      <td>2.12680</td>\n      <td>0.052245</td>\n      <td>...</td>\n      <td>5.0</td>\n      <td>0.023492</td>\n      <td>-0.033971</td>\n      <td>0.97208</td>\n      <td>2.398500</td>\n      <td>7.5512</td>\n      <td>3.9960</td>\n      <td>141.160</td>\n      <td>2.5857</td>\n      <td>12.2250</td>\n    </tr>\n  </tbody>\n</table>\n<p>10503 rows × 63 columns</p>\n</div>",
      "text/plain": "          Attr1    Attr2     Attr3    Attr4     Attr5     Attr6     Attr7  \\\n0      0.174190  0.41299  0.143710  1.34800  -28.9820  0.603830  0.219460   \n1      0.146240  0.46038  0.282300  1.62940    2.5952  0.000000  0.171850   \n2      0.000595  0.22612  0.488390  3.15990   84.8740  0.191140  0.004572   \n3      0.024526  0.43236  0.275460  1.78330  -10.1050  0.569440  0.024526   \n4      0.188290  0.41504  0.342310  1.92790  -58.2740  0.000000  0.233580   \n...         ...      ...       ...      ...       ...       ...       ...   \n10498  0.002861  0.58067 -0.223860  0.51658  -31.8660  0.002861  0.002861   \n10499 -0.051968  0.55254  0.147150  2.16980   12.7480 -0.051968 -0.034361   \n10500 -0.135900  0.83954 -0.342010  0.46526 -145.3100 -0.219120 -0.131860   \n10501  0.009423  0.50028  0.261630  1.52300  -10.1580  0.009423  0.007700   \n10502 -0.001775  0.94780  0.003729  1.00450  -50.2210  0.000000  0.002565   \n\n          Attr8    Attr9    Attr10  ...    Attr55    Attr56    Attr57  \\\n0      1.122500  1.19610  0.463590  ...  127280.0  0.163960  0.375740   \n1      1.172100  1.60180  0.539620  ...    3387.8  0.027516  0.271000   \n2      2.988100  1.00770  0.675660  ...   20453.0  0.007639  0.000881   \n3      1.305700  1.05090  0.564530  ...    5012.6  0.048398  0.043445   \n4      1.409400  1.33930  0.584960  ...   13730.0  0.176480  0.321880   \n...         ...      ...       ...  ...       ...       ...       ...   \n10498  0.618550  1.01200  0.359170  ...   -4321.5  0.011834  0.007966   \n10499  0.669830  0.94694  0.370110  ...   13488.0 -0.056037 -0.140410   \n10500  0.191130  1.09990  0.160460  ...   -4233.0  0.144120 -0.846930   \n10501  0.989900  1.01230  0.495230  ...    2686.9  0.012186  0.019027   \n10502  0.055122  2.12680  0.052245  ...       5.0  0.023492 -0.033971   \n\n        Attr58    Attr59   Attr60   Attr61   Attr62   Attr63   Attr64  \n0      0.83604  0.000007   9.7145   6.2813   84.291   4.3303   4.0341  \n1      0.90108  0.000000   5.9882   4.1103  102.190   3.5716   5.9500  \n2      0.99236  0.000000   6.7742   3.7922   64.846   5.6287   4.4581  \n3      0.95160  0.142980   4.2286   5.0528   98.783   3.6950   3.4844  \n4      0.82635  0.073039   2.5912   7.0756  100.540   3.6303   4.6375  \n...        ...       ...      ...      ...      ...      ...      ...  \n10498  0.98817  0.327360  38.1420  39.1500   42.202   8.6489   5.2646  \n10499  1.05600  1.153000  14.4930   9.2851   32.761  11.1410   1.9276  \n10500  0.85427  0.814200   6.2737   9.6966  212.230   1.7198   1.5659  \n10501  0.98781  0.000000   5.9675   4.3536   98.240   3.7154   7.8068  \n10502  0.97208  2.398500   7.5512   3.9960  141.160   2.5857  12.2250  \n\n[10503 rows x 63 columns]"
     },
     "execution_count": 7,
     "metadata": {},
     "output_type": "execute_result"
    }
   ],
   "source": [
    "df.drop(columns=[\"Attr37\"])"
   ]
  },
  {
   "cell_type": "code",
   "execution_count": 8,
   "metadata": {
    "ExecuteTime": {
     "end_time": "2025-05-27T09:08:51.765926Z",
     "start_time": "2025-05-27T09:08:51.329302Z"
    },
    "collapsed": false
   },
   "outputs": [],
   "source": [
    "from sklearn.model_selection import train_test_split\n",
    "\n",
    "X_train, X_test, y_train, y_test = train_test_split(\n",
    "    df, y, test_size=0.25, stratify=y, random_state=0\n",
    ")"
   ]
  },
  {
   "cell_type": "code",
   "execution_count": 9,
   "metadata": {
    "ExecuteTime": {
     "end_time": "2025-05-27T09:08:51.907982Z",
     "start_time": "2025-05-27T09:08:51.766928Z"
    },
    "collapsed": false
   },
   "outputs": [],
   "source": [
    "from sklearn.pipeline import make_pipeline\n",
    "from sklearn.impute import SimpleImputer\n",
    "from sklearn.preprocessing import StandardScaler\n",
    "\n",
    "pipe = make_pipeline(SimpleImputer(), StandardScaler())\n",
    "X_train = pipe.fit_transform(X_train)\n",
    "X_test = pipe.transform(X_test)"
   ]
  },
  {
   "cell_type": "code",
   "execution_count": 4,
   "metadata": {
    "ExecuteTime": {
     "end_time": "2025-05-27T09:08:50.446340Z",
     "start_time": "2025-05-27T09:08:49.861340Z"
    }
   },
   "outputs": [
    {
     "data": {
      "text/html": "<div>\n<style scoped>\n    .dataframe tbody tr th:only-of-type {\n        vertical-align: middle;\n    }\n\n    .dataframe tbody tr th {\n        vertical-align: top;\n    }\n\n    .dataframe thead th {\n        text-align: right;\n    }\n</style>\n<table border=\"1\" class=\"dataframe\">\n  <thead>\n    <tr style=\"text-align: right;\">\n      <th></th>\n      <th>Attr1</th>\n      <th>Attr2</th>\n      <th>Attr3</th>\n      <th>Attr4</th>\n      <th>Attr5</th>\n      <th>Attr6</th>\n      <th>Attr7</th>\n      <th>Attr8</th>\n      <th>Attr9</th>\n      <th>Attr10</th>\n      <th>...</th>\n      <th>Attr55</th>\n      <th>Attr56</th>\n      <th>Attr57</th>\n      <th>Attr58</th>\n      <th>Attr59</th>\n      <th>Attr60</th>\n      <th>Attr61</th>\n      <th>Attr62</th>\n      <th>Attr63</th>\n      <th>Attr64</th>\n    </tr>\n  </thead>\n  <tbody>\n    <tr>\n      <th>0</th>\n      <td>0.174190</td>\n      <td>0.41299</td>\n      <td>0.14371</td>\n      <td>1.3480</td>\n      <td>-28.9820</td>\n      <td>0.60383</td>\n      <td>0.219460</td>\n      <td>1.1225</td>\n      <td>1.1961</td>\n      <td>0.46359</td>\n      <td>...</td>\n      <td>127280.0</td>\n      <td>0.163960</td>\n      <td>0.375740</td>\n      <td>0.83604</td>\n      <td>0.000007</td>\n      <td>9.7145</td>\n      <td>6.2813</td>\n      <td>84.291</td>\n      <td>4.3303</td>\n      <td>4.0341</td>\n    </tr>\n    <tr>\n      <th>1</th>\n      <td>0.146240</td>\n      <td>0.46038</td>\n      <td>0.28230</td>\n      <td>1.6294</td>\n      <td>2.5952</td>\n      <td>0.00000</td>\n      <td>0.171850</td>\n      <td>1.1721</td>\n      <td>1.6018</td>\n      <td>0.53962</td>\n      <td>...</td>\n      <td>3387.8</td>\n      <td>0.027516</td>\n      <td>0.271000</td>\n      <td>0.90108</td>\n      <td>0.000000</td>\n      <td>5.9882</td>\n      <td>4.1103</td>\n      <td>102.190</td>\n      <td>3.5716</td>\n      <td>5.9500</td>\n    </tr>\n    <tr>\n      <th>2</th>\n      <td>0.000595</td>\n      <td>0.22612</td>\n      <td>0.48839</td>\n      <td>3.1599</td>\n      <td>84.8740</td>\n      <td>0.19114</td>\n      <td>0.004572</td>\n      <td>2.9881</td>\n      <td>1.0077</td>\n      <td>0.67566</td>\n      <td>...</td>\n      <td>20453.0</td>\n      <td>0.007639</td>\n      <td>0.000881</td>\n      <td>0.99236</td>\n      <td>0.000000</td>\n      <td>6.7742</td>\n      <td>3.7922</td>\n      <td>64.846</td>\n      <td>5.6287</td>\n      <td>4.4581</td>\n    </tr>\n    <tr>\n      <th>3</th>\n      <td>0.024526</td>\n      <td>0.43236</td>\n      <td>0.27546</td>\n      <td>1.7833</td>\n      <td>-10.1050</td>\n      <td>0.56944</td>\n      <td>0.024526</td>\n      <td>1.3057</td>\n      <td>1.0509</td>\n      <td>0.56453</td>\n      <td>...</td>\n      <td>5012.6</td>\n      <td>0.048398</td>\n      <td>0.043445</td>\n      <td>0.95160</td>\n      <td>0.142980</td>\n      <td>4.2286</td>\n      <td>5.0528</td>\n      <td>98.783</td>\n      <td>3.6950</td>\n      <td>3.4844</td>\n    </tr>\n    <tr>\n      <th>4</th>\n      <td>0.188290</td>\n      <td>0.41504</td>\n      <td>0.34231</td>\n      <td>1.9279</td>\n      <td>-58.2740</td>\n      <td>0.00000</td>\n      <td>0.233580</td>\n      <td>1.4094</td>\n      <td>1.3393</td>\n      <td>0.58496</td>\n      <td>...</td>\n      <td>13730.0</td>\n      <td>0.176480</td>\n      <td>0.321880</td>\n      <td>0.82635</td>\n      <td>0.073039</td>\n      <td>2.5912</td>\n      <td>7.0756</td>\n      <td>100.540</td>\n      <td>3.6303</td>\n      <td>4.6375</td>\n    </tr>\n  </tbody>\n</table>\n<p>5 rows × 64 columns</p>\n</div>",
      "text/plain": "      Attr1    Attr2    Attr3   Attr4    Attr5    Attr6     Attr7   Attr8  \\\n0  0.174190  0.41299  0.14371  1.3480 -28.9820  0.60383  0.219460  1.1225   \n1  0.146240  0.46038  0.28230  1.6294   2.5952  0.00000  0.171850  1.1721   \n2  0.000595  0.22612  0.48839  3.1599  84.8740  0.19114  0.004572  2.9881   \n3  0.024526  0.43236  0.27546  1.7833 -10.1050  0.56944  0.024526  1.3057   \n4  0.188290  0.41504  0.34231  1.9279 -58.2740  0.00000  0.233580  1.4094   \n\n    Attr9   Attr10  ...    Attr55    Attr56    Attr57   Attr58    Attr59  \\\n0  1.1961  0.46359  ...  127280.0  0.163960  0.375740  0.83604  0.000007   \n1  1.6018  0.53962  ...    3387.8  0.027516  0.271000  0.90108  0.000000   \n2  1.0077  0.67566  ...   20453.0  0.007639  0.000881  0.99236  0.000000   \n3  1.0509  0.56453  ...    5012.6  0.048398  0.043445  0.95160  0.142980   \n4  1.3393  0.58496  ...   13730.0  0.176480  0.321880  0.82635  0.073039   \n\n   Attr60  Attr61   Attr62  Attr63  Attr64  \n0  9.7145  6.2813   84.291  4.3303  4.0341  \n1  5.9882  4.1103  102.190  3.5716  5.9500  \n2  6.7742  3.7922   64.846  5.6287  4.4581  \n3  4.2286  5.0528   98.783  3.6950  3.4844  \n4  2.5912  7.0756  100.540  3.6303  4.6375  \n\n[5 rows x 64 columns]"
     },
     "execution_count": 4,
     "metadata": {},
     "output_type": "execute_result"
    }
   ],
   "source": [
    "from scipy.io import arff\n",
    "\n",
    "data = arff.loadarff(\"polish_companies_bankruptcy_3_year_data.arff\")\n",
    "\n",
    "df = pd.DataFrame(data[0])\n",
    "y = df.pop(\"class\").astype(int)\n",
    "\n",
    "df.head()"
   ]
  },
  {
   "cell_type": "markdown",
   "metadata": {},
   "source": [
    "Standaryzacja była szczególnie ważna, bo metody undersamplingu i oversamplingu są oparte o najbliższych sąsiadów."
   ]
  },
  {
   "cell_type": "markdown",
   "metadata": {},
   "source": [
    "## Cost-sensitive learning i threshold tuning"
   ]
  },
  {
   "cell_type": "markdown",
   "metadata": {},
   "source": [
    "Jako naszego algorytmu użyjemy lasu losowego (Random Forest). Dla przypomnienia, jest on oparty o **uczenie zespołowe (ensemble learning)**, w którym uśredniamy decyzje wielu klasyfikatorów bazowych. Są to drzewa decyzyjne. Losujemy w nim **próbki bootstrapowe (bootstrap samples)**, czyli losujemy z powtórzeniami tyle punktów, ile wynosi rozmiar naszego zbioru. Dla każdej losujemy także podzbiór cech, typowo tyle, ile wynosi pierwiastek kwadratowy z liczby wszystkich cech. Następnie trenujemy drzewa decyzyjne na takich wylosowanych podzbiorach. Decyzja klasyfikatora jest podejmowana przez głosowanie drzew (w klasyfikacji) lub ich uśrednienie (w regresji).\n",
    "\n",
    "W wielu zastosowaniach dużą zaletą lasów losowych jest ich niska podatność na tuning hiperparametrów, tzw. **tunability**. Algorytmy o wysokim tunability (np. SVM) są podatne na dobór hiperparametrów i wymagają jego zastosowania, żeby osiągnąć dobre wyniki. Random Forest działa typowo doskonale z domyślnymi hiperparametrami, co najwyżej warto czasem ustawić większą liczbę drzew, niż domyślna. Ciekawe artykuły w tej kwestii to:\n",
    "\n",
    "> Probst, Philipp, Anne-Laure Boulesteix, and Bernd Bischl. *\"Tunability: Importance of hyperparameters of machine learning algorithms.\"* The Journal of Machine Learning Research 20.1 (2019): 1934-1965. [link](https://www.jmlr.org/papers/volume20/18-444/18-444.pdf)\n",
    "\n",
    "> Probst, Philipp, Marvin N. Wright, and Anne‐Laure Boulesteix. *\"Hyperparameters and tuning strategies for random forest.\"* Wiley Interdisciplinary Reviews: data mining and knowledge discovery 9.3 (2019): e1301. [link](https://arxiv.org/pdf/1804.03515.pdf)\n",
    "\n",
    "Dzięki wykorzystaniu Random Forest zasadniczo nie będziemy potrzebować tuningu hiperparametrów dla klasyfikatora. Nadaje się też dobrze do klasyfikacji niezbalansowanej: drzewa decyzyjne łatwo integrują ważenie klas w proces treningu, a uśrednianie decyzji mocno zmniejsza wariancję błędu.\n",
    "\n",
    "Ze względu na niezbalansowanie zbioru, które jest znaczące, ale nie ekstremalne, wykorzystamy dwie metryki: AUROC oraz F1-score. Ta druga będzie przydatna przy **threshold tuningu**."
   ]
  },
  {
   "cell_type": "code",
   "execution_count": 10,
   "metadata": {
    "ExecuteTime": {
     "end_time": "2025-05-27T09:08:52.854109Z",
     "start_time": "2025-05-27T09:08:51.908978Z"
    }
   },
   "outputs": [
    {
     "name": "stdout",
     "output_type": "stream",
     "text": [
      "AUROC: 88.56%\n",
      "F1-score: 38.75%\n"
     ]
    }
   ],
   "source": [
    "from sklearn.ensemble import RandomForestClassifier\n",
    "from sklearn.metrics import f1_score, roc_auc_score\n",
    "\n",
    "clf_rf = RandomForestClassifier(random_state=0, n_jobs=-1)\n",
    "clf_rf.fit(X_train, y_train)\n",
    "\n",
    "y_pred = clf_rf.predict(X_test)\n",
    "y_pred_score = clf_rf.predict_proba(X_test)[:, 1]\n",
    "\n",
    "auroc = roc_auc_score(y_test, y_pred_score)\n",
    "f1 = f1_score(y_test, y_pred)\n",
    "\n",
    "print(f\"AUROC: {100 * auroc:.2f}%\")\n",
    "print(f\"F1-score: {100 * f1:.2f}%\")"
   ]
  },
  {
   "cell_type": "markdown",
   "metadata": {},
   "source": [
    "AUROC wydaje się niezłe, ale F1-score pozostawia wiele do życzenia. Zobaczmy, czy **cost-sensitive learning** coś zmieni. Skorzystamy z domyślnej heurystyki do ważenia klas `\"balanced\"`."
   ]
  },
  {
   "cell_type": "code",
   "execution_count": 11,
   "metadata": {
    "ExecuteTime": {
     "end_time": "2025-05-27T09:08:53.528623Z",
     "start_time": "2025-05-27T09:08:52.855110Z"
    }
   },
   "outputs": [
    {
     "name": "stdout",
     "output_type": "stream",
     "text": [
      "AUROC: 89.38%\n",
      "F1-score: 29.33%\n"
     ]
    }
   ],
   "source": [
    "clf_rf_csl = RandomForestClassifier(class_weight=\"balanced\", random_state=0, n_jobs=-1)\n",
    "clf_rf_csl.fit(X_train, y_train)\n",
    "\n",
    "y_pred = clf_rf_csl.predict(X_test)\n",
    "y_pred_score = clf_rf_csl.predict_proba(X_test)[:, 1]\n",
    "\n",
    "auroc = roc_auc_score(y_test, y_pred_score)\n",
    "f1 = f1_score(y_test, y_pred)\n",
    "\n",
    "print(f\"AUROC: {100 * auroc:.2f}%\")\n",
    "print(f\"F1-score: {100 * f1:.2f}%\")"
   ]
  },
  {
   "cell_type": "markdown",
   "metadata": {},
   "source": [
    "Jedna metryka rośnie, druga maleje - tak też się może zdarzyć. Takie sytuacje są zawsze ciekawe, bo pokazują różne aspekty tego, jak radzi sobie nasz klasyfikator. F1-score łączy precyzję i czułość, więc warto przeanalizować to głębiej."
   ]
  },
  {
   "cell_type": "code",
   "execution_count": 12,
   "metadata": {
    "ExecuteTime": {
     "end_time": "2025-05-27T09:08:53.657188Z",
     "start_time": "2025-05-27T09:08:53.530618Z"
    }
   },
   "outputs": [
    {
     "name": "stdout",
     "output_type": "stream",
     "text": [
      "RF\n",
      "  Precision: 86.11%\n",
      "  Recall: 25.00%\n",
      "\n",
      "RF with cost-sensitive learning\n",
      "  Precision: 84.62%\n",
      "  Recall: 17.74%\n"
     ]
    }
   ],
   "source": [
    "from sklearn.metrics import precision_score, recall_score\n",
    "\n",
    "print(\"RF\")\n",
    "rf_precision = precision_score(y_test, clf_rf.predict(X_test))\n",
    "rf_recall = recall_score(y_test, clf_rf.predict(X_test))\n",
    "print(f\"  Precision: {100 * rf_precision:.2f}%\")\n",
    "print(f\"  Recall: {100 * rf_recall:.2f}%\")\n",
    "\n",
    "print()\n",
    "\n",
    "print(\"RF with cost-sensitive learning\")\n",
    "rf_csl_precision = precision_score(y_test, clf_rf_csl.predict(X_test))\n",
    "rf_csl_recall = recall_score(y_test, clf_rf_csl.predict(X_test))\n",
    "print(f\"  Precision: {100 * rf_csl_precision:.2f}%\")\n",
    "print(f\"  Recall: {100 * rf_csl_recall:.2f}%\")"
   ]
  },
  {
   "cell_type": "markdown",
   "metadata": {},
   "source": [
    "Z cost-sensitive learningiem predykcje prawdopodobieństwa co prawda są lepsze (bo mamy wyższy AUROC), ale i precyzja, i czułość spadły. No i w obu przypadkach mamy naprawdę niski recall!\n",
    "\n",
    "Coś trzeba z tym zrobić. Skoro F1-score to metryka binarna, to najłatwiej zmienić próg klasy pozytywnej, czyli zrobić threshold tuning."
   ]
  },
  {
   "cell_type": "markdown",
   "metadata": {},
   "source": [
    "**Zadanie 2 (1.5 punktu)**\n",
    "\n",
    "Zaimplementuj threshold tuning z pomocą walidacji skrośnej. Skorzystaj z funkcji `thresholded_f1_score()`, która jest gotową metryką, obliczającą F1-score dla podanych prawdopodobieństw klasy pozytywnej i progu klasyfikacji.\n",
    "\n",
    "1. Stwórz listę progów [0.1, 0.15, 0.2, .., 0.5]\n",
    "2. Dla każdego progu stwórz nowy obiekt metryki z pomocą funkcji `make_scorer()`. Pamiętaj, że większa wartość jest lepsza i potrzebujemy prawdopodobieństw. Trzeba też podać wartość dla naszego progu (`threshold`) z pomocą `**kwargs`.\n",
    "3. Oblicz wyniki walidacji skrośnej z pomocą funkcji `cross_val_score` dla Random Forest z cost-sensitive tuning. Wykorzystaj 5-fold CV. Funkcja ta zwraca wyniki dla wszystkich foldów - oblicz średni wynik.\n",
    "4. Zwizualizuj na wykresie wyniki F1-score dla poszczególnych progów. Pamiętaj o opisaniu osi i tytule wykresu.\n",
    "5. Dla optymalnego progu oblicz i wypisz F1-score, precision i recall. Próg, dla którego osiągnięto najwyższy F1-score, można łatwo wyciągnąć z pomocą `np.argmax()`.\n",
    "6. Skomentuj zmianę w precision i recall. Czy twoim zdaniem warto dokonać takiej zmiany w przypadku tego zbioru, tj. przewidywania, czy spółka zbankrutuje?"
   ]
  },
  {
   "cell_type": "code",
   "execution_count": 13,
   "metadata": {
    "ExecuteTime": {
     "end_time": "2025-05-27T09:08:53.662216Z",
     "start_time": "2025-05-27T09:08:53.658180Z"
    }
   },
   "outputs": [],
   "source": [
    "def thresholded_f1_score(y_true, y_score, threshold: float, **kwargs) -> float:\n",
    "    y_pred = y_score >= threshold\n",
    "    return f1_score(y_true, y_pred, **kwargs)"
   ]
  },
  {
   "cell_type": "code",
   "execution_count": 14,
   "metadata": {
    "ExecuteTime": {
     "end_time": "2025-05-27T09:08:53.666506Z",
     "start_time": "2025-05-27T09:08:53.663209Z"
    }
   },
   "outputs": [],
   "source": [
    "import numpy as np\n",
    "\n",
    "thresholds = np.round(np.linspace(0.1, 0.5, num=9), 2)"
   ]
  },
  {
   "cell_type": "code",
   "execution_count": 15,
   "metadata": {
    "ExecuteTime": {
     "end_time": "2025-05-27T09:09:15.077812Z",
     "start_time": "2025-05-27T09:08:53.667508Z"
    },
    "collapsed": false
   },
   "outputs": [
    {
     "data": {
      "text/plain": "<Axes: title={'center': 'Threshold tuning'}, xlabel='Threshold', ylabel='Mean F1-score (CV)'>"
     },
     "execution_count": 15,
     "metadata": {},
     "output_type": "execute_result"
    },
    {
     "data": {
      "image/png": "[encoded data removed]",
      "text/plain": "<Figure size 640x480 with 1 Axes>"
     },
     "metadata": {},
     "output_type": "display_data"
    }
   ],
   "source": [
    "from sklearn.metrics import make_scorer\n",
    "from sklearn.model_selection import cross_val_score\n",
    "\n",
    "f1_scores = []\n",
    "for threshold in thresholds:\n",
    "    scorer = make_scorer(\n",
    "        thresholded_f1_score, response_method=\"predict_proba\", threshold=threshold\n",
    "    )\n",
    "    clf_rf_csl = RandomForestClassifier(\n",
    "        class_weight=\"balanced\", random_state=0, n_jobs=-1\n",
    "    )\n",
    "    scores = cross_val_score(\n",
    "        clf_rf_csl, X_train, y_train, cv=5, n_jobs=-1, scoring=scorer\n",
    "    )\n",
    "    f1_scores.append(np.mean(scores))\n",
    "\n",
    "s = pd.Series(data=f1_scores, index=thresholds)\n",
    "s.plot.bar(\n",
    "    title=\"Threshold tuning\",\n",
    "    rot=0,\n",
    "    xlabel=\"Threshold\",\n",
    "    ylabel=\"Mean F1-score (CV)\",\n",
    ")"
   ]
  },
  {
   "cell_type": "code",
   "execution_count": 16,
   "metadata": {
    "ExecuteTime": {
     "end_time": "2025-05-27T09:09:15.616779Z",
     "start_time": "2025-05-27T09:09:15.078807Z"
    },
    "collapsed": false
   },
   "outputs": [],
   "source": [
    "best_threshold = thresholds[np.argmax(f1_scores)]\n",
    "clf_rf_csl_t = RandomForestClassifier(\n",
    "    class_weight=\"balanced\", random_state=0, n_jobs=-1\n",
    ")\n",
    "clf_rf_csl_t.fit(X_train, y_train)\n",
    "y_pred = clf_rf_csl_t.predict_proba(X_test)[:, 1]"
   ]
  },
  {
   "cell_type": "code",
   "execution_count": 17,
   "metadata": {
    "ExecuteTime": {
     "end_time": "2025-05-27T09:09:15.621208Z",
     "start_time": "2025-05-27T09:09:15.617779Z"
    },
    "collapsed": false
   },
   "outputs": [],
   "source": [
    "def thresholded_precision_score(y_true, y_score, threshold: float, **kwargs) -> float:\n",
    "    y_pred = y_score >= threshold\n",
    "    return precision_score(y_true, y_pred, **kwargs)\n",
    "\n",
    "\n",
    "def thresholded_recall_score(y_true, y_score, threshold: float, **kwargs) -> float:\n",
    "    y_pred = y_score >= threshold\n",
    "    return recall_score(y_true, y_pred, **kwargs)"
   ]
  },
  {
   "cell_type": "code",
   "execution_count": 18,
   "metadata": {
    "ExecuteTime": {
     "end_time": "2025-05-27T09:09:15.632938Z",
     "start_time": "2025-05-27T09:09:15.622207Z"
    },
    "collapsed": false
   },
   "outputs": [
    {
     "name": "stdout",
     "output_type": "stream",
     "text": [
      "RF with threshold tuning\n",
      "  F1-score: 47.75%\n",
      "  Precision: 54.08%\n",
      "  Recall: 42.74%\n"
     ]
    }
   ],
   "source": [
    "print(\"RF with threshold tuning\")\n",
    "rf_csl_precision_tuning = thresholded_precision_score(y_test, y_pred, best_threshold)\n",
    "rf_csl_recall_tuning = thresholded_recall_score(y_test, y_pred, best_threshold)\n",
    "f1_tuning = thresholded_f1_score(y_test, y_pred, best_threshold)\n",
    "print(f\"  F1-score: {100 * f1_tuning:.2f}%\")\n",
    "print(f\"  Precision: {100 * rf_csl_precision_tuning:.2f}%\")\n",
    "print(f\"  Recall: {100 * rf_csl_recall_tuning:.2f}%\")"
   ]
  },
  {
   "cell_type": "markdown",
   "metadata": {},
   "source": [
    "Jak widać, zaszedł wyraźny trade-off między precision a recall. W porównaniu do RF z cost-sensitive learning\n",
    "Recall wzrósł o ok. 25%, co oznacza, że model wykrywa znacznie więcej rzeczywistych przypadków bankructwa.\n",
    "Precision spadło o ok. 30%, co przekłada się na większą liczbę fałszywych alarmów.\n",
    "Moim zdaniem w naszym przypadku warto zaakceptować większą liczbę fałszywych alarmów dotyczących potencjalnego bankructwa, zamiast przegapić rzeczywistą niewypłacalność firmy.\n"
   ]
  },
  {
   "cell_type": "markdown",
   "metadata": {},
   "source": [
    "## Undersampling, oversampling"
   ]
  },
  {
   "cell_type": "markdown",
   "metadata": {},
   "source": [
    "Być może klasa większościowa, której jest 95%, jest mocno zaszumiona i są tam przykłady, które warto byłoby usunąć. Czemu tak może być?\n",
    "\n",
    "Pamiętajmy, że klasa pozytywna to spółki, które zbankrutują w ciągu najbliższych 3 lat. Przy granicy decyzyjnej w klasie dominującej mogą być na przykład startupy o dużym ryzyku, które nie zbankrutowały, ale było to kwestią dobrej koniunktury i szczęśliwego trafu tych spółek. Równie dobrze mogłyby upaść przez niskie zasoby twarde czy rosnące koszty. Można je potraktować jak mało miarodajny szum, który tylko z przyczyn dość losowych nie stał się klasą pozytywną (tj. spółkami, które zamknęły działalność).\n",
    "\n",
    "Dla uproszczenia w tym i dalszych zadaniach skorzystamy z funkcji `assess_rf_performance()`, żeby łatwo sprawdzać AUROC i F1-score klasyfikatorów.\n",
    "\n",
    "Najpierw zastosujemy algorytm Edited Nearest Neighbors (ENN) z domyślnymi parametrami: \n",
    "- `k=3`\n",
    "- `kind_sel=\"all\"` (wszyscy sąsiedzi muszą być z klasy dominującej, aby punkt pozostał w zbiorze)\n",
    "\n",
    "Biblioteka imbalanced-learn opiera się o metodę `.fit_resample()`, która zwraca zmodyfikowany zbiór uczący (z usuniętymi/dodatkowymi próbkami). Implementuje także zmodyfikowany `Pipeline`, bo ten domyślny ze Scikit-learn nie wspierałby takiej metody. Warto pamiętać o tym, żeby tworzyć nowe zmienne dla zmodyfikowanych zbiorów, bo inaczej trzeba by wykonywać duże części notebooka na nowo."
   ]
  },
  {
   "cell_type": "code",
   "execution_count": 19,
   "metadata": {
    "ExecuteTime": {
     "end_time": "2025-05-27T09:09:15.637137Z",
     "start_time": "2025-05-27T09:09:15.632938Z"
    }
   },
   "outputs": [],
   "source": [
    "def assess_rf_performance(estimator: RandomForestClassifier, X_test, y_test) -> None:\n",
    "    y_score = estimator.predict_proba(X_test)[:, 1]\n",
    "    y_pred = estimator.predict(X_test)\n",
    "    auroc = roc_auc_score(y_test, y_score)\n",
    "    f1 = f1_score(y_test, y_pred)\n",
    "\n",
    "    print(f\"AUROC: {100 * auroc:.2f}%\")\n",
    "    print(f\"F1-score: {100 * f1:.2f}%\")"
   ]
  },
  {
   "cell_type": "code",
   "execution_count": 20,
   "metadata": {
    "ExecuteTime": {
     "end_time": "2025-05-27T09:09:16.464540Z",
     "start_time": "2025-05-27T09:09:15.638139Z"
    }
   },
   "outputs": [
    {
     "name": "stdout",
     "output_type": "stream",
     "text": [
      "Samples before ENN: 7877\n",
      "Samples after ENN: 7020\n",
      "AUROC: 88.26%\n",
      "F1-score: 30.46%\n"
     ]
    }
   ],
   "source": [
    "from imblearn.under_sampling import EditedNearestNeighbours\n",
    "\n",
    "enn = EditedNearestNeighbours()\n",
    "print(f\"Samples before ENN: {len(X_train)}\")\n",
    "X_train_enn, y_train_enn = enn.fit_resample(X_train, y_train)\n",
    "print(f\"Samples after ENN: {len(X_train_enn)}\")\n",
    "\n",
    "clf_rf_csl = RandomForestClassifier(class_weight=\"balanced\", random_state=0, n_jobs=-1)\n",
    "clf_rf_csl.fit(X_train_enn, y_train_enn)\n",
    "\n",
    "assess_rf_performance(clf_rf_csl, X_test, y_test)"
   ]
  },
  {
   "cell_type": "markdown",
   "metadata": {},
   "source": [
    "Wcześniej AUROC wynosiło 89.30%, a F1-score 28.00%. Mamy spadek obu metryk - niedobrze! Usunęliśmy jednak około 10% zbioru, może to za dużo?"
   ]
  },
  {
   "cell_type": "markdown",
   "metadata": {},
   "source": [
    "**Zadanie 3 (1.5 punktu)**\n",
    "\n",
    "1. Dokonaj tuningu hiperparametrów ENN:\n",
    "   - stwórz siatkę hiperparametrów: \n",
    "     - liczba sąsiadów: `[1, 3, 5]`\n",
    "     - tryb wyboru punktów: `[\"all\", \"mode\"]`\n",
    "   - przed użyciem `GridSearchCV` stwórz pipeline (ten z biblioteki imbalanced-learn), łączący ENN i Random Forest\n",
    "   - wybierz klasyfikator o najwyższym AUROC\n",
    "   - wykorzystaj 10-fold CV - przy zbiorach niezbalansowanych często daje to dokładniejsze oszacowanie\n",
    "   - pamiętaj, żeby podać, którego elementu pipeline'u dotyczą hiperparametry w siatce (np. `enn__n_neighbors`)\n",
    "2. Wypisz znalezione optymalne wartości hiperparametrów. Sprawdź wyniki na zbiorze testowym.\n",
    "3. Czy usuwamy punkty agresywniej, czy bardziej konwerwatywnie? Zweryfikuj swoją intuicję, sprawdzając liczność zbioru przed i po zastosowaniu ENN z optymalnymi hiperparametrami.\n",
    "4. Czy undersampling ostatecznie poprawił wynik? Czy twoim zdaniem warto tu zastosować taką technikę?"
   ]
  },
  {
   "cell_type": "code",
   "execution_count": 21,
   "metadata": {
    "ExecuteTime": {
     "end_time": "2025-05-27T09:09:57.340339Z",
     "start_time": "2025-05-27T09:09:16.465536Z"
    }
   },
   "outputs": [
    {
     "name": "stdout",
     "output_type": "stream",
     "text": [
      "Best ENN params: {'enn__kind_sel': 'all', 'enn__n_neighbors': 1}\n",
      "Best CV AUROC: 0.8803173838706602\n",
      "Samples before ENN: 7877\n",
      "Samples after ENN: 7571\n",
      "AUROC: 88.33%\n",
      "F1-score: 31.37%\n"
     ]
    }
   ],
   "source": [
    "from sklearn.model_selection import GridSearchCV\n",
    "from imblearn.pipeline import Pipeline\n",
    "from imblearn.under_sampling import EditedNearestNeighbours\n",
    "\n",
    "pipe = Pipeline(\n",
    "    [\n",
    "        (\"enn\", EditedNearestNeighbours()),\n",
    "        (\n",
    "            \"rf\",\n",
    "            RandomForestClassifier(class_weight=\"balanced\", random_state=0, n_jobs=-1),\n",
    "        ),\n",
    "    ]\n",
    ")\n",
    "n_neighbors = [1, 3, 5]\n",
    "kinds_sel = [\"all\", \"mode\"]\n",
    "\n",
    "param_grid = {\"enn__n_neighbors\": n_neighbors, \"enn__kind_sel\": kinds_sel}\n",
    "grid = GridSearchCV(pipe, param_grid, scoring=\"roc_auc\", cv=10)\n",
    "grid.fit(X_train, y_train)\n",
    "\n",
    "print(\"Best ENN params:\", grid.best_params_)\n",
    "print(\"Best CV AUROC:\", grid.best_score_)\n",
    "best_pipe = grid.best_estimator_\n",
    "enn = best_pipe.named_steps[\"enn\"]\n",
    "print(f\"Samples before ENN: {len(X_train)}\")\n",
    "X_train_enn, y_train_enn = enn.fit_resample(X_train, y_train)\n",
    "print(f\"Samples after ENN: {len(X_train_enn)}\")\n",
    "\n",
    "RandomForestClassifier(class_weight=\"balanced\", random_state=0, n_jobs=-1)\n",
    "clf_rf_csl.fit(X_train_enn, y_train_enn)\n",
    "\n",
    "assess_rf_performance(clf_rf_csl, X_test, y_test)"
   ]
  },
  {
   "cell_type": "markdown",
   "metadata": {},
   "source": [
    "Wartość F1-score wzrosła natomiast wartość AUROC ponownie spadła. Nasz ENN stał się bardziej konserwatywny zostawił 550 próbek więcej. Podsumowójąc undersampling nie daje jakiś wyśmienitych rezultatów dla tego zbioru"
   ]
  },
  {
   "cell_type": "markdown",
   "metadata": {},
   "source": [
    "Być może oversampling da nam większe korzyści, w końcu klasy pozytywnej jest naprawdę mało. Wypróbujmy najpierw SMOTE z domyślnymi hiperparametrami."
   ]
  },
  {
   "cell_type": "code",
   "execution_count": 22,
   "metadata": {
    "ExecuteTime": {
     "end_time": "2025-05-27T09:09:58.642411Z",
     "start_time": "2025-05-27T09:09:57.341334Z"
    }
   },
   "outputs": [
    {
     "name": "stdout",
     "output_type": "stream",
     "text": [
      "Samples before SMOTE: 7877\n",
      "Samples after SMOTE: 15012\n",
      "AUROC: 88.81%\n",
      "F1-score: 41.67%\n"
     ]
    }
   ],
   "source": [
    "from imblearn.over_sampling import SMOTE\n",
    "\n",
    "smote = SMOTE(random_state=0)\n",
    "print(f\"Samples before SMOTE: {len(X_train)}\")\n",
    "X_train_smote, y_train_smote = smote.fit_resample(X_train, y_train)\n",
    "print(f\"Samples after SMOTE: {len(X_train_smote)}\")\n",
    "\n",
    "clf_rf_csl = RandomForestClassifier(class_weight=\"balanced\", random_state=0, n_jobs=-1)\n",
    "clf_rf_csl.fit(X_train_smote, y_train_smote)\n",
    "\n",
    "assess_rf_performance(clf_rf_csl, X_test, y_test)"
   ]
  },
  {
   "cell_type": "markdown",
   "metadata": {},
   "source": [
    "Jest definitywnie lepiej! Liczba przykładów z klasy pozytywnej wzrosła bardzo mocno, ale dzięki skalowalności lasu losowego nie jest to drastycznie odczuwalne. Za to F1-score bardzo wzrósł, bo zwiększyliśmy znacząco wagę klasy mniejszościowej, i to zagęszczając ją w przestrzeni zbioru danych. Dzięki temu i FP, i FN spadną.\n",
    "\n",
    "Imbalanced-learn domyślnie generuje tyle klasy mniejszościowej, żeby było jej tyle samo, co dominującej. Prawie zawsze powoduje to overfitting - zweryfikujmy to."
   ]
  },
  {
   "cell_type": "code",
   "execution_count": 23,
   "metadata": {
    "ExecuteTime": {
     "end_time": "2025-05-27T09:09:58.767875Z",
     "start_time": "2025-05-27T09:09:58.642411Z"
    }
   },
   "outputs": [
    {
     "name": "stdout",
     "output_type": "stream",
     "text": [
      "Train metrics\n",
      "AUROC: 100.00%\n",
      "F1-score: 100.00%\n",
      "\n",
      "Test metrics\n",
      "AUROC: 88.81%\n",
      "F1-score: 41.67%\n"
     ]
    }
   ],
   "source": [
    "print(\"Train metrics\")\n",
    "assess_rf_performance(clf_rf_csl, X_train, y_train)\n",
    "print()\n",
    "print(\"Test metrics\")\n",
    "assess_rf_performance(clf_rf_csl, X_test, y_test)"
   ]
  },
  {
   "cell_type": "markdown",
   "metadata": {},
   "source": [
    "Jest to wręcz tragiczny overfitting! Definitywnie trzeba tutaj tuningu. Imbalanced-learn pozwala na to poprzez parametr `sampling_strategy`. Jeżeli jest to liczba, to oznacza stosunek liczby przykładów klasy mniejszościowej do liczby przykładów klasy większościowej po oversamplingu.\n",
    "\n",
    "Przykładowo, domyślne ustawienia odpowiadają `sampling_strategy=1`, czyli:\n",
    "\n",
    "$$\\large\n",
    "\\frac{n_{minority}}{n_{majority}} = 1 \\longrightarrow n_{minority} = n_{majority}\n",
    "$$\n",
    "\n",
    "Żeby zmniejszyć overfitting, trzeba generować mniej klasy pozytywnej, czyli zmniejszyć tę proporcję. Dodatkowo możemy zmienić wartość najbliższych sąsiadów - mniejsza liczba będzie skutkować generacją bardziej wiernych lokalnie próbek, a większa zwiększy różnorodność."
   ]
  },
  {
   "cell_type": "markdown",
   "metadata": {},
   "source": [
    "**Zadanie 4 (2 punkty)**\n",
    "\n",
    "Ze względu na koszt obliczeniowy połączenia 10-fold CV i metod opartych o sąsiedztwo można wykonać **step-wise tuning**, w którym robimy walidację skrośną po kolei dla parametrów, zamiast sprawdzać wszystkie kombinacje po kolei. Nie daje to gwarancji optymalności, ale typowo działa bardzo dobrze, a przy tym jest dużo szybsze. Jest to typowo stosowane w boostingu, który ma bardzo dużo hiperparametrów, ale także przy innych kosztownych algorytmach. Dobrze opisuje to [ten artykuł](https://medium.com/optuna/lightgbm-tuner-new-optuna-integration-for-hyperparameter-optimization-8b7095e99258).\n",
    "\n",
    "Dokonaj po kolei tuningu:\n",
    "- liczby sąsiadów w SMOTE w zakresie `[1, 2, 3, 4, 5]`\n",
    "- ilości klasy pozytywnej w zakresie od 0.25 do 1 z krokiem 0.25 (może się przydać `np.linspace()` albo  `np.arange()`)\n",
    "\n",
    "Zwróć uwagę na:\n",
    "- 10-fold CV\n",
    "- ustawienie `random_state=0`\n",
    "- przyda się ustawić `verbose=4`, żeby mieć logi z wykonania, bo będzie się to chwilę liczyć\n",
    "\n",
    "Sprawdź wyniki obu pipeline'ów (z osobna) na zbiorze treningowym oraz testowym. Wytrenuj także łączny pipeline, wykorzystując oba znalezione parametry naraz, i sprawdź jego wyniki.\n",
    "\n",
    "Pamiętaj, że nie trzeba przetrenowywać klasyfikatorów na finalnych hiperparametrach - obiekt `GridSearchCV` też ma metodę `.predict()`, w któryj pod spodem użyje modelu z najlepszymi znalezionymi wartościami hiperparametrów.\n",
    "\n",
    "Skomentuj:\n",
    "- czy wynik się poprawił?\n",
    "- czy zmniejszono lub wyeliminowano overfitting w którymś przypadku?\n",
    "- czy warto było tune'ować oba parametry?\n",
    "- czy połączenie parametrów poprawiło wynik?\n",
    "\n",
    "Oszacuj, ile wolniej wykonywałby się grid search na pełnej, kwadratowej siatce hiperparametrów. Oblicz liczbę modeli, którą trzeba by wytrenować w obu przypadkach (step-wise oraz na pełnej siatce) przy 10-fold CV, i przyjmij stały średni czas na jeden fold według logów z treningu."
   ]
  },
  {
   "cell_type": "code",
   "execution_count": 24,
   "metadata": {
    "ExecuteTime": {
     "end_time": "2025-05-27T09:09:58.772277Z",
     "start_time": "2025-05-27T09:09:58.767875Z"
    },
    "scrolled": true
   },
   "outputs": [],
   "source": [
    "k_neighbors = [1, 2, 3, 4, 5]\n",
    "sampling_strategy = np.arange(0.25, 1.01, 0.25)\n",
    "\n",
    "pipe_1 = Pipeline(\n",
    "    [\n",
    "        (\"smote\", SMOTE(random_state=0)),\n",
    "        (\n",
    "            \"rf\",\n",
    "            RandomForestClassifier(class_weight=\"balanced\", random_state=0, n_jobs=-1),\n",
    "        ),\n",
    "    ]\n",
    ")\n",
    "\n",
    "param_grid_1 = {\"smote__k_neighbors\": k_neighbors}\n",
    "\n",
    "grid_1 = GridSearchCV(pipe_1, param_grid_1, scoring=\"roc_auc\", verbose=4, cv=10)"
   ]
  },
  {
   "cell_type": "code",
   "execution_count": 25,
   "metadata": {
    "ExecuteTime": {
     "end_time": "2025-05-27T09:11:05.247555Z",
     "start_time": "2025-05-27T09:09:58.773278Z"
    },
    "collapsed": false
   },
   "outputs": [
    {
     "name": "stdout",
     "output_type": "stream",
     "text": [
      "Fitting 10 folds for each of 5 candidates, totalling 50 fits\n",
      "[CV 1/10] END .............smote__k_neighbors=1;, score=0.861 total time=   1.2s\n",
      "[CV 2/10] END .............smote__k_neighbors=1;, score=0.868 total time=   1.3s\n",
      "[CV 3/10] END .............smote__k_neighbors=1;, score=0.833 total time=   1.2s\n",
      "[CV 4/10] END .............smote__k_neighbors=1;, score=0.880 total time=   1.2s\n",
      "[CV 5/10] END .............smote__k_neighbors=1;, score=0.895 total time=   1.3s\n",
      "[CV 6/10] END .............smote__k_neighbors=1;, score=0.882 total time=   1.2s\n",
      "[CV 7/10] END .............smote__k_neighbors=1;, score=0.908 total time=   1.2s\n",
      "[CV 8/10] END .............smote__k_neighbors=1;, score=0.903 total time=   1.1s\n",
      "[CV 9/10] END .............smote__k_neighbors=1;, score=0.846 total time=   1.0s\n",
      "[CV 10/10] END ............smote__k_neighbors=1;, score=0.851 total time=   1.1s\n",
      "[CV 1/10] END .............smote__k_neighbors=2;, score=0.855 total time=   1.2s\n",
      "[CV 2/10] END .............smote__k_neighbors=2;, score=0.851 total time=   1.3s\n",
      "[CV 3/10] END .............smote__k_neighbors=2;, score=0.840 total time=   1.2s\n",
      "[CV 4/10] END .............smote__k_neighbors=2;, score=0.891 total time=   1.2s\n",
      "[CV 5/10] END .............smote__k_neighbors=2;, score=0.871 total time=   1.1s\n",
      "[CV 6/10] END .............smote__k_neighbors=2;, score=0.886 total time=   1.3s\n",
      "[CV 7/10] END .............smote__k_neighbors=2;, score=0.922 total time=   1.1s\n",
      "[CV 8/10] END .............smote__k_neighbors=2;, score=0.896 total time=   1.0s\n",
      "[CV 9/10] END .............smote__k_neighbors=2;, score=0.863 total time=   1.3s\n",
      "[CV 10/10] END ............smote__k_neighbors=2;, score=0.854 total time=   1.2s\n",
      "[CV 1/10] END .............smote__k_neighbors=3;, score=0.867 total time=   1.3s\n",
      "[CV 2/10] END .............smote__k_neighbors=3;, score=0.856 total time=   1.3s\n",
      "[CV 3/10] END .............smote__k_neighbors=3;, score=0.829 total time=   1.3s\n",
      "[CV 4/10] END .............smote__k_neighbors=3;, score=0.908 total time=   1.4s\n",
      "[CV 5/10] END .............smote__k_neighbors=3;, score=0.878 total time=   1.2s\n",
      "[CV 6/10] END .............smote__k_neighbors=3;, score=0.885 total time=   1.2s\n",
      "[CV 7/10] END .............smote__k_neighbors=3;, score=0.914 total time=   1.1s\n",
      "[CV 8/10] END .............smote__k_neighbors=3;, score=0.888 total time=   1.1s\n",
      "[CV 9/10] END .............smote__k_neighbors=3;, score=0.862 total time=   1.1s\n",
      "[CV 10/10] END ............smote__k_neighbors=3;, score=0.847 total time=   1.1s\n",
      "[CV 1/10] END .............smote__k_neighbors=4;, score=0.875 total time=   1.2s\n",
      "[CV 2/10] END .............smote__k_neighbors=4;, score=0.858 total time=   1.1s\n",
      "[CV 3/10] END .............smote__k_neighbors=4;, score=0.850 total time=   1.0s\n",
      "[CV 4/10] END .............smote__k_neighbors=4;, score=0.898 total time=   1.3s\n",
      "[CV 5/10] END .............smote__k_neighbors=4;, score=0.871 total time=   1.1s\n",
      "[CV 6/10] END .............smote__k_neighbors=4;, score=0.895 total time=   1.4s\n",
      "[CV 7/10] END .............smote__k_neighbors=4;, score=0.908 total time=   1.3s\n",
      "[CV 8/10] END .............smote__k_neighbors=4;, score=0.892 total time=   1.3s\n",
      "[CV 9/10] END .............smote__k_neighbors=4;, score=0.866 total time=   1.0s\n",
      "[CV 10/10] END ............smote__k_neighbors=4;, score=0.838 total time=   1.4s\n",
      "[CV 1/10] END .............smote__k_neighbors=5;, score=0.858 total time=   1.1s\n",
      "[CV 2/10] END .............smote__k_neighbors=5;, score=0.859 total time=   1.4s\n",
      "[CV 3/10] END .............smote__k_neighbors=5;, score=0.842 total time=   1.1s\n",
      "[CV 4/10] END .............smote__k_neighbors=5;, score=0.899 total time=   1.3s\n",
      "[CV 5/10] END .............smote__k_neighbors=5;, score=0.876 total time=   1.1s\n",
      "[CV 6/10] END .............smote__k_neighbors=5;, score=0.886 total time=   1.0s\n",
      "[CV 7/10] END .............smote__k_neighbors=5;, score=0.928 total time=   1.3s\n",
      "[CV 8/10] END .............smote__k_neighbors=5;, score=0.909 total time=   1.2s\n",
      "[CV 9/10] END .............smote__k_neighbors=5;, score=0.860 total time=   1.4s\n",
      "[CV 10/10] END ............smote__k_neighbors=5;, score=0.863 total time=   1.0s\n",
      "CPU times: total: 12min 7s\n",
      "Wall time: 1min 6s\n"
     ]
    },
    {
     "data": {
      "text/html": "<style>#sk-container-id-1 {\n  /* Definition of color scheme common for light and dark mode */\n  --sklearn-color-text: #000;\n  --sklearn-color-text-muted: #666;\n  --sklearn-color-line: gray;\n  /* Definition of color scheme for unfitted estimators */\n  --sklearn-color-unfitted-level-0: #fff5e6;\n  --sklearn-color-unfitted-level-1: #f6e4d2;\n  --sklearn-color-unfitted-level-2: #ffe0b3;\n  --sklearn-color-unfitted-level-3: chocolate;\n  /* Definition of color scheme for fitted estimators */\n  --sklearn-color-fitted-level-0: #f0f8ff;\n  --sklearn-color-fitted-level-1: #d4ebff;\n  --sklearn-color-fitted-level-2: #b3dbfd;\n  --sklearn-color-fitted-level-3: cornflowerblue;\n\n  /* Specific color for light theme */\n  --sklearn-color-text-on-default-background: var(--sg-text-color, var(--theme-code-foreground, var(--jp-content-font-color1, black)));\n  --sklearn-color-background: var(--sg-background-color, var(--theme-background, var(--jp-layout-color0, white)));\n  --sklearn-color-border-box: var(--sg-text-color, var(--theme-code-foreground, var(--jp-content-font-color1, black)));\n  --sklearn-color-icon: #696969;\n\n  @media (prefers-color-scheme: dark) {\n    /* Redefinition of color scheme for dark theme */\n    --sklearn-color-text-on-default-background: var(--sg-text-color, var(--theme-code-foreground, var(--jp-content-font-color1, white)));\n    --sklearn-color-background: var(--sg-background-color, var(--theme-background, var(--jp-layout-color0, #111)));\n    --sklearn-color-border-box: var(--sg-text-color, var(--theme-code-foreground, var(--jp-content-font-color1, white)));\n    --sklearn-color-icon: #878787;\n  }\n}\n\n#sk-container-id-1 {\n  color: var(--sklearn-color-text);\n}\n\n#sk-container-id-1 pre {\n  padding: 0;\n}\n\n#sk-container-id-1 input.sk-hidden--visually {\n  border: 0;\n  clip: rect(1px 1px 1px 1px);\n  clip: rect(1px, 1px, 1px, 1px);\n  height: 1px;\n  margin: -1px;\n  overflow: hidden;\n  padding: 0;\n  position: absolute;\n  width: 1px;\n}\n\n#sk-container-id-1 div.sk-dashed-wrapped {\n  border: 1px dashed var(--sklearn-color-line);\n  margin: 0 0.4em 0.5em 0.4em;\n  box-sizing: border-box;\n  padding-bottom: 0.4em;\n  background-color: var(--sklearn-color-background);\n}\n\n#sk-container-id-1 div.sk-container {\n  /* jupyter's `normalize.less` sets `[hidden] { display: none; }`\n     but bootstrap.min.css set `[hidden] { display: none !important; }`\n     so we also need the `!important` here to be able to override the\n     default hidden behavior on the sphinx rendered scikit-learn.org.\n     See: https://github.com/scikit-learn/scikit-learn/issues/21755 */\n  display: inline-block !important;\n  position: relative;\n}\n\n#sk-container-id-1 div.sk-text-repr-fallback {\n  display: none;\n}\n\ndiv.sk-parallel-item,\ndiv.sk-serial,\ndiv.sk-item {\n  /* draw centered vertical line to link estimators */\n  background-image: linear-gradient(var(--sklearn-color-text-on-default-background), var(--sklearn-color-text-on-default-background));\n  background-size: 2px 100%;\n  background-repeat: no-repeat;\n  background-position: center center;\n}\n\n/* Parallel-specific style estimator block */\n\n#sk-container-id-1 div.sk-parallel-item::after {\n  content: \"\";\n  width: 100%;\n  border-bottom: 2px solid var(--sklearn-color-text-on-default-background);\n  flex-grow: 1;\n}\n\n#sk-container-id-1 div.sk-parallel {\n  display: flex;\n  align-items: stretch;\n  justify-content: center;\n  background-color: var(--sklearn-color-background);\n  position: relative;\n}\n\n#sk-container-id-1 div.sk-parallel-item {\n  display: flex;\n  flex-direction: column;\n}\n\n#sk-container-id-1 div.sk-parallel-item:first-child::after {\n  align-self: flex-end;\n  width: 50%;\n}\n\n#sk-container-id-1 div.sk-parallel-item:last-child::after {\n  align-self: flex-start;\n  width: 50%;\n}\n\n#sk-container-id-1 div.sk-parallel-item:only-child::after {\n  width: 0;\n}\n\n/* Serial-specific style estimator block */\n\n#sk-container-id-1 div.sk-serial {\n  display: flex;\n  flex-direction: column;\n  align-items: center;\n  background-color: var(--sklearn-color-background);\n  padding-right: 1em;\n  padding-left: 1em;\n}\n\n\n/* Toggleable style: style used for estimator/Pipeline/ColumnTransformer box that is\nclickable and can be expanded/collapsed.\n- Pipeline and ColumnTransformer use this feature and define the default style\n- Estimators will overwrite some part of the style using the `sk-estimator` class\n*/\n\n/* Pipeline and ColumnTransformer style (default) */\n\n#sk-container-id-1 div.sk-toggleable {\n  /* Default theme specific background. It is overwritten whether we have a\n  specific estimator or a Pipeline/ColumnTransformer */\n  background-color: var(--sklearn-color-background);\n}\n\n/* Toggleable label */\n#sk-container-id-1 label.sk-toggleable__label {\n  cursor: pointer;\n  display: flex;\n  width: 100%;\n  margin-bottom: 0;\n  padding: 0.5em;\n  box-sizing: border-box;\n  text-align: center;\n  align-items: start;\n  justify-content: space-between;\n  gap: 0.5em;\n}\n\n#sk-container-id-1 label.sk-toggleable__label .caption {\n  font-size: 0.6rem;\n  font-weight: lighter;\n  color: var(--sklearn-color-text-muted);\n}\n\n#sk-container-id-1 label.sk-toggleable__label-arrow:before {\n  /* Arrow on the left of the label */\n  content: \"▸\";\n  float: left;\n  margin-right: 0.25em;\n  color: var(--sklearn-color-icon);\n}\n\n#sk-container-id-1 label.sk-toggleable__label-arrow:hover:before {\n  color: var(--sklearn-color-text);\n}\n\n/* Toggleable content - dropdown */\n\n#sk-container-id-1 div.sk-toggleable__content {\n  max-height: 0;\n  max-width: 0;\n  overflow: hidden;\n  text-align: left;\n  /* unfitted */\n  background-color: var(--sklearn-color-unfitted-level-0);\n}\n\n#sk-container-id-1 div.sk-toggleable__content.fitted {\n  /* fitted */\n  background-color: var(--sklearn-color-fitted-level-0);\n}\n\n#sk-container-id-1 div.sk-toggleable__content pre {\n  margin: 0.2em;\n  border-radius: 0.25em;\n  color: var(--sklearn-color-text);\n  /* unfitted */\n  background-color: var(--sklearn-color-unfitted-level-0);\n}\n\n#sk-container-id-1 div.sk-toggleable__content.fitted pre {\n  /* unfitted */\n  background-color: var(--sklearn-color-fitted-level-0);\n}\n\n#sk-container-id-1 input.sk-toggleable__control:checked~div.sk-toggleable__content {\n  /* Expand drop-down */\n  max-height: 200px;\n  max-width: 100%;\n  overflow: auto;\n}\n\n#sk-container-id-1 input.sk-toggleable__control:checked~label.sk-toggleable__label-arrow:before {\n  content: \"▾\";\n}\n\n/* Pipeline/ColumnTransformer-specific style */\n\n#sk-container-id-1 div.sk-label input.sk-toggleable__control:checked~label.sk-toggleable__label {\n  color: var(--sklearn-color-text);\n  background-color: var(--sklearn-color-unfitted-level-2);\n}\n\n#sk-container-id-1 div.sk-label.fitted input.sk-toggleable__control:checked~label.sk-toggleable__label {\n  background-color: var(--sklearn-color-fitted-level-2);\n}\n\n/* Estimator-specific style */\n\n/* Colorize estimator box */\n#sk-container-id-1 div.sk-estimator input.sk-toggleable__control:checked~label.sk-toggleable__label {\n  /* unfitted */\n  background-color: var(--sklearn-color-unfitted-level-2);\n}\n\n#sk-container-id-1 div.sk-estimator.fitted input.sk-toggleable__control:checked~label.sk-toggleable__label {\n  /* fitted */\n  background-color: var(--sklearn-color-fitted-level-2);\n}\n\n#sk-container-id-1 div.sk-label label.sk-toggleable__label,\n#sk-container-id-1 div.sk-label label {\n  /* The background is the default theme color */\n  color: var(--sklearn-color-text-on-default-background);\n}\n\n/* On hover, darken the color of the background */\n#sk-container-id-1 div.sk-label:hover label.sk-toggleable__label {\n  color: var(--sklearn-color-text);\n  background-color: var(--sklearn-color-unfitted-level-2);\n}\n\n/* Label box, darken color on hover, fitted */\n#sk-container-id-1 div.sk-label.fitted:hover label.sk-toggleable__label.fitted {\n  color: var(--sklearn-color-text);\n  background-color: var(--sklearn-color-fitted-level-2);\n}\n\n/* Estimator label */\n\n#sk-container-id-1 div.sk-label label {\n  font-family: monospace;\n  font-weight: bold;\n  display: inline-block;\n  line-height: 1.2em;\n}\n\n#sk-container-id-1 div.sk-label-container {\n  text-align: center;\n}\n\n/* Estimator-specific */\n#sk-container-id-1 div.sk-estimator {\n  font-family: monospace;\n  border: 1px dotted var(--sklearn-color-border-box);\n  border-radius: 0.25em;\n  box-sizing: border-box;\n  margin-bottom: 0.5em;\n  /* unfitted */\n  background-color: var(--sklearn-color-unfitted-level-0);\n}\n\n#sk-container-id-1 div.sk-estimator.fitted {\n  /* fitted */\n  background-color: var(--sklearn-color-fitted-level-0);\n}\n\n/* on hover */\n#sk-container-id-1 div.sk-estimator:hover {\n  /* unfitted */\n  background-color: var(--sklearn-color-unfitted-level-2);\n}\n\n#sk-container-id-1 div.sk-estimator.fitted:hover {\n  /* fitted */\n  background-color: var(--sklearn-color-fitted-level-2);\n}\n\n/* Specification for estimator info (e.g. \"i\" and \"?\") */\n\n/* Common style for \"i\" and \"?\" */\n\n.sk-estimator-doc-link,\na:link.sk-estimator-doc-link,\na:visited.sk-estimator-doc-link {\n  float: right;\n  font-size: smaller;\n  line-height: 1em;\n  font-family: monospace;\n  background-color: var(--sklearn-color-background);\n  border-radius: 1em;\n  height: 1em;\n  width: 1em;\n  text-decoration: none !important;\n  margin-left: 0.5em;\n  text-align: center;\n  /* unfitted */\n  border: var(--sklearn-color-unfitted-level-1) 1pt solid;\n  color: var(--sklearn-color-unfitted-level-1);\n}\n\n.sk-estimator-doc-link.fitted,\na:link.sk-estimator-doc-link.fitted,\na:visited.sk-estimator-doc-link.fitted {\n  /* fitted */\n  border: var(--sklearn-color-fitted-level-1) 1pt solid;\n  color: var(--sklearn-color-fitted-level-1);\n}\n\n/* On hover */\ndiv.sk-estimator:hover .sk-estimator-doc-link:hover,\n.sk-estimator-doc-link:hover,\ndiv.sk-label-container:hover .sk-estimator-doc-link:hover,\n.sk-estimator-doc-link:hover {\n  /* unfitted */\n  background-color: var(--sklearn-color-unfitted-level-3);\n  color: var(--sklearn-color-background);\n  text-decoration: none;\n}\n\ndiv.sk-estimator.fitted:hover .sk-estimator-doc-link.fitted:hover,\n.sk-estimator-doc-link.fitted:hover,\ndiv.sk-label-container:hover .sk-estimator-doc-link.fitted:hover,\n.sk-estimator-doc-link.fitted:hover {\n  /* fitted */\n  background-color: var(--sklearn-color-fitted-level-3);\n  color: var(--sklearn-color-background);\n  text-decoration: none;\n}\n\n/* Span, style for the box shown on hovering the info icon */\n.sk-estimator-doc-link span {\n  display: none;\n  z-index: 9999;\n  position: relative;\n  font-weight: normal;\n  right: .2ex;\n  padding: .5ex;\n  margin: .5ex;\n  width: min-content;\n  min-width: 20ex;\n  max-width: 50ex;\n  color: var(--sklearn-color-text);\n  box-shadow: 2pt 2pt 4pt #999;\n  /* unfitted */\n  background: var(--sklearn-color-unfitted-level-0);\n  border: .5pt solid var(--sklearn-color-unfitted-level-3);\n}\n\n.sk-estimator-doc-link.fitted span {\n  /* fitted */\n  background: var(--sklearn-color-fitted-level-0);\n  border: var(--sklearn-color-fitted-level-3);\n}\n\n.sk-estimator-doc-link:hover span {\n  display: block;\n}\n\n/* \"?\"-specific style due to the `<a>` HTML tag */\n\n#sk-container-id-1 a.estimator_doc_link {\n  float: right;\n  font-size: 1rem;\n  line-height: 1em;\n  font-family: monospace;\n  background-color: var(--sklearn-color-background);\n  border-radius: 1rem;\n  height: 1rem;\n  width: 1rem;\n  text-decoration: none;\n  /* unfitted */\n  color: var(--sklearn-color-unfitted-level-1);\n  border: var(--sklearn-color-unfitted-level-1) 1pt solid;\n}\n\n#sk-container-id-1 a.estimator_doc_link.fitted {\n  /* fitted */\n  border: var(--sklearn-color-fitted-level-1) 1pt solid;\n  color: var(--sklearn-color-fitted-level-1);\n}\n\n/* On hover */\n#sk-container-id-1 a.estimator_doc_link:hover {\n  /* unfitted */\n  background-color: var(--sklearn-color-unfitted-level-3);\n  color: var(--sklearn-color-background);\n  text-decoration: none;\n}\n\n#sk-container-id-1 a.estimator_doc_link.fitted:hover {\n  /* fitted */\n  background-color: var(--sklearn-color-fitted-level-3);\n}\n</style><div id=\"sk-container-id-1\" class=\"sk-top-container\"><div class=\"sk-text-repr-fallback\"><pre>GridSearchCV(cv=10,\n             estimator=Pipeline(steps=[(&#x27;smote&#x27;, SMOTE(random_state=0)),\n                                       (&#x27;rf&#x27;,\n                                        RandomForestClassifier(class_weight=&#x27;balanced&#x27;,\n                                                               n_jobs=-1,\n                                                               random_state=0))]),\n             param_grid={&#x27;smote__k_neighbors&#x27;: [1, 2, 3, 4, 5]},\n             scoring=&#x27;roc_auc&#x27;, verbose=4)</pre><b>In a Jupyter environment, please rerun this cell to show the HTML representation or trust the notebook. <br />On GitHub, the HTML representation is unable to render, please try loading this page with nbviewer.org.</b></div><div class=\"sk-container\" hidden><div class=\"sk-item sk-dashed-wrapped\"><div class=\"sk-label-container\"><div class=\"sk-label fitted sk-toggleable\"><input class=\"sk-toggleable__control sk-hidden--visually\" id=\"sk-estimator-id-1\" type=\"checkbox\" ><label for=\"sk-estimator-id-1\" class=\"sk-toggleable__label fitted sk-toggleable__label-arrow\"><div><div>GridSearchCV</div></div><div><a class=\"sk-estimator-doc-link fitted\" rel=\"noreferrer\" target=\"_blank\" href=\"https://scikit-learn.org/1.6/modules/generated/sklearn.model_selection.GridSearchCV.html\">?<span>Documentation for GridSearchCV</span></a><span class=\"sk-estimator-doc-link fitted\">i<span>Fitted</span></span></div></label><div class=\"sk-toggleable__content fitted\"><pre>GridSearchCV(cv=10,\n             estimator=Pipeline(steps=[(&#x27;smote&#x27;, SMOTE(random_state=0)),\n                                       (&#x27;rf&#x27;,\n                                        RandomForestClassifier(class_weight=&#x27;balanced&#x27;,\n                                                               n_jobs=-1,\n                                                               random_state=0))]),\n             param_grid={&#x27;smote__k_neighbors&#x27;: [1, 2, 3, 4, 5]},\n             scoring=&#x27;roc_auc&#x27;, verbose=4)</pre></div> </div></div><div class=\"sk-parallel\"><div class=\"sk-parallel-item\"><div class=\"sk-item\"><div class=\"sk-label-container\"><div class=\"sk-label fitted sk-toggleable\"><input class=\"sk-toggleable__control sk-hidden--visually\" id=\"sk-estimator-id-2\" type=\"checkbox\" ><label for=\"sk-estimator-id-2\" class=\"sk-toggleable__label fitted sk-toggleable__label-arrow\"><div><div>best_estimator_: Pipeline</div></div></label><div class=\"sk-toggleable__content fitted\"><pre>Pipeline(steps=[(&#x27;smote&#x27;, SMOTE(random_state=0)),\n                (&#x27;rf&#x27;,\n                 RandomForestClassifier(class_weight=&#x27;balanced&#x27;, n_jobs=-1,\n                                        random_state=0))])</pre></div> </div></div><div class=\"sk-serial\"><div class=\"sk-item\"><div class=\"sk-serial\"><div class=\"sk-item\"><div class=\"sk-estimator fitted sk-toggleable\"><input class=\"sk-toggleable__control sk-hidden--visually\" id=\"sk-estimator-id-3\" type=\"checkbox\" ><label for=\"sk-estimator-id-3\" class=\"sk-toggleable__label fitted sk-toggleable__label-arrow\"><div><div>SMOTE</div></div></label><div class=\"sk-toggleable__content fitted\"><pre>SMOTE(random_state=0)</pre></div> </div></div><div class=\"sk-item\"><div class=\"sk-estimator fitted sk-toggleable\"><input class=\"sk-toggleable__control sk-hidden--visually\" id=\"sk-estimator-id-4\" type=\"checkbox\" ><label for=\"sk-estimator-id-4\" class=\"sk-toggleable__label fitted sk-toggleable__label-arrow\"><div><div>RandomForestClassifier</div></div><div><a class=\"sk-estimator-doc-link fitted\" rel=\"noreferrer\" target=\"_blank\" href=\"https://scikit-learn.org/1.6/modules/generated/sklearn.ensemble.RandomForestClassifier.html\">?<span>Documentation for RandomForestClassifier</span></a></div></label><div class=\"sk-toggleable__content fitted\"><pre>RandomForestClassifier(class_weight=&#x27;balanced&#x27;, n_jobs=-1, random_state=0)</pre></div> </div></div></div></div></div></div></div></div></div></div></div>",
      "text/plain": "GridSearchCV(cv=10,\n             estimator=Pipeline(steps=[('smote', SMOTE(random_state=0)),\n                                       ('rf',\n                                        RandomForestClassifier(class_weight='balanced',\n                                                               n_jobs=-1,\n                                                               random_state=0))]),\n             param_grid={'smote__k_neighbors': [1, 2, 3, 4, 5]},\n             scoring='roc_auc', verbose=4)"
     },
     "execution_count": 25,
     "metadata": {},
     "output_type": "execute_result"
    }
   ],
   "source": [
    "%%time\n",
    "grid_1.fit(X_train, y_train)"
   ]
  },
  {
   "cell_type": "code",
   "execution_count": 26,
   "metadata": {
    "ExecuteTime": {
     "end_time": "2025-05-27T09:11:05.272073Z",
     "start_time": "2025-05-27T09:11:05.248553Z"
    },
    "collapsed": false
   },
   "outputs": [
    {
     "name": "stdout",
     "output_type": "stream",
     "text": [
      "Best SMOTE params: {'smote__k_neighbors': 5}\n",
      "Best CV AUROC: 0.8779811510368033\n",
      "Samples before SMOTE: 7877\n",
      "Samples after SMOTE: 15012\n"
     ]
    }
   ],
   "source": [
    "print(\"Best SMOTE params:\", grid_1.best_params_)\n",
    "print(\"Best CV AUROC:\", grid_1.best_score_)\n",
    "best_pipe_1 = grid_1.best_estimator_\n",
    "smote_1 = best_pipe_1.named_steps[\"smote\"]\n",
    "print(f\"Samples before SMOTE: {len(X_train)}\")\n",
    "X_train_smote, y_train_smote = smote_1.fit_resample(X_train, y_train)\n",
    "print(f\"Samples after SMOTE: {len(X_train_smote)}\")"
   ]
  },
  {
   "cell_type": "code",
   "execution_count": 27,
   "metadata": {
    "ExecuteTime": {
     "end_time": "2025-05-27T09:11:05.430109Z",
     "start_time": "2025-05-27T09:11:05.273062Z"
    },
    "collapsed": false
   },
   "outputs": [
    {
     "name": "stdout",
     "output_type": "stream",
     "text": [
      "Train metrics\n",
      "AUROC: 100.00%\n",
      "F1-score: 100.00%\n",
      "\n",
      "Test metrics\n",
      "AUROC: 88.81%\n",
      "F1-score: 41.67%\n"
     ]
    }
   ],
   "source": [
    "print(\"Train metrics\")\n",
    "assess_rf_performance(best_pipe_1, X_train_smote, y_train_smote)\n",
    "print()\n",
    "print(\"Test metrics\")\n",
    "assess_rf_performance(best_pipe_1, X_test, y_test)"
   ]
  },
  {
   "cell_type": "code",
   "execution_count": 28,
   "metadata": {
    "ExecuteTime": {
     "end_time": "2025-05-27T09:11:05.434930Z",
     "start_time": "2025-05-27T09:11:05.431107Z"
    },
    "collapsed": false
   },
   "outputs": [],
   "source": [
    "best_k = grid_1.best_params_[\"smote__k_neighbors\"]\n",
    "\n",
    "pipe_2 = Pipeline(\n",
    "    [\n",
    "        (\"smote\", SMOTE(k_neighbors=best_k, random_state=0)),\n",
    "        (\n",
    "            \"rf\",\n",
    "            RandomForestClassifier(class_weight=\"balanced\", random_state=0, n_jobs=-1),\n",
    "        ),\n",
    "    ]\n",
    ")\n",
    "\n",
    "param_grid_2 = {\"smote__sampling_strategy\": sampling_strategy}\n",
    "\n",
    "grid_2 = GridSearchCV(pipe_2, param_grid_2, scoring=\"roc_auc\", verbose=4, cv=10)"
   ]
  },
  {
   "cell_type": "code",
   "execution_count": 29,
   "metadata": {
    "ExecuteTime": {
     "end_time": "2025-05-27T09:11:49.786014Z",
     "start_time": "2025-05-27T09:11:05.435886Z"
    },
    "collapsed": false
   },
   "outputs": [
    {
     "name": "stdout",
     "output_type": "stream",
     "text": [
      "Fitting 10 folds for each of 4 candidates, totalling 40 fits\n",
      "[CV 1/10] END ....smote__sampling_strategy=0.25;, score=0.877 total time=   0.6s\n",
      "[CV 2/10] END ....smote__sampling_strategy=0.25;, score=0.869 total time=   0.6s\n",
      "[CV 3/10] END ....smote__sampling_strategy=0.25;, score=0.844 total time=   0.7s\n",
      "[CV 4/10] END ....smote__sampling_strategy=0.25;, score=0.926 total time=   0.8s\n",
      "[CV 5/10] END ....smote__sampling_strategy=0.25;, score=0.893 total time=   0.8s\n",
      "[CV 6/10] END ....smote__sampling_strategy=0.25;, score=0.906 total time=   0.9s\n",
      "[CV 7/10] END ....smote__sampling_strategy=0.25;, score=0.923 total time=   0.9s\n",
      "[CV 8/10] END ....smote__sampling_strategy=0.25;, score=0.898 total time=   0.7s\n",
      "[CV 9/10] END ....smote__sampling_strategy=0.25;, score=0.863 total time=   0.7s\n",
      "[CV 10/10] END ...smote__sampling_strategy=0.25;, score=0.810 total time=   0.8s\n",
      "[CV 1/10] END .....smote__sampling_strategy=0.5;, score=0.875 total time=   1.0s\n",
      "[CV 2/10] END .....smote__sampling_strategy=0.5;, score=0.854 total time=   0.8s\n",
      "[CV 3/10] END .....smote__sampling_strategy=0.5;, score=0.843 total time=   0.8s\n",
      "[CV 4/10] END .....smote__sampling_strategy=0.5;, score=0.896 total time=   1.0s\n",
      "[CV 5/10] END .....smote__sampling_strategy=0.5;, score=0.860 total time=   0.8s\n",
      "[CV 6/10] END .....smote__sampling_strategy=0.5;, score=0.897 total time=   0.8s\n",
      "[CV 7/10] END .....smote__sampling_strategy=0.5;, score=0.921 total time=   0.9s\n",
      "[CV 8/10] END .....smote__sampling_strategy=0.5;, score=0.897 total time=   0.8s\n",
      "[CV 9/10] END .....smote__sampling_strategy=0.5;, score=0.852 total time=   1.0s\n",
      "[CV 10/10] END ....smote__sampling_strategy=0.5;, score=0.851 total time=   0.8s\n",
      "[CV 1/10] END ....smote__sampling_strategy=0.75;, score=0.874 total time=   1.2s\n",
      "[CV 2/10] END ....smote__sampling_strategy=0.75;, score=0.860 total time=   1.1s\n",
      "[CV 3/10] END ....smote__sampling_strategy=0.75;, score=0.834 total time=   1.0s\n",
      "[CV 4/10] END ....smote__sampling_strategy=0.75;, score=0.904 total time=   1.1s\n",
      "[CV 5/10] END ....smote__sampling_strategy=0.75;, score=0.889 total time=   1.0s\n",
      "[CV 6/10] END ....smote__sampling_strategy=0.75;, score=0.900 total time=   0.9s\n",
      "[CV 7/10] END ....smote__sampling_strategy=0.75;, score=0.928 total time=   1.1s\n",
      "[CV 8/10] END ....smote__sampling_strategy=0.75;, score=0.891 total time=   1.0s\n",
      "[CV 9/10] END ....smote__sampling_strategy=0.75;, score=0.854 total time=   1.1s\n",
      "[CV 10/10] END ...smote__sampling_strategy=0.75;, score=0.827 total time=   1.0s\n",
      "[CV 1/10] END .....smote__sampling_strategy=1.0;, score=0.858 total time=   1.3s\n",
      "[CV 2/10] END .....smote__sampling_strategy=1.0;, score=0.859 total time=   1.3s\n",
      "[CV 3/10] END .....smote__sampling_strategy=1.0;, score=0.842 total time=   1.2s\n",
      "[CV 4/10] END .....smote__sampling_strategy=1.0;, score=0.899 total time=   1.3s\n",
      "[CV 5/10] END .....smote__sampling_strategy=1.0;, score=0.876 total time=   1.2s\n",
      "[CV 6/10] END .....smote__sampling_strategy=1.0;, score=0.886 total time=   1.3s\n",
      "[CV 7/10] END .....smote__sampling_strategy=1.0;, score=0.928 total time=   1.3s\n",
      "[CV 8/10] END .....smote__sampling_strategy=1.0;, score=0.909 total time=   1.3s\n",
      "[CV 9/10] END .....smote__sampling_strategy=1.0;, score=0.860 total time=   1.4s\n",
      "[CV 10/10] END ....smote__sampling_strategy=1.0;, score=0.863 total time=   1.2s\n",
      "CPU times: total: 8min\n",
      "Wall time: 44.3 s\n"
     ]
    },
    {
     "data": {
      "text/html": "<style>#sk-container-id-2 {\n  /* Definition of color scheme common for light and dark mode */\n  --sklearn-color-text: #000;\n  --sklearn-color-text-muted: #666;\n  --sklearn-color-line: gray;\n  /* Definition of color scheme for unfitted estimators */\n  --sklearn-color-unfitted-level-0: #fff5e6;\n  --sklearn-color-unfitted-level-1: #f6e4d2;\n  --sklearn-color-unfitted-level-2: #ffe0b3;\n  --sklearn-color-unfitted-level-3: chocolate;\n  /* Definition of color scheme for fitted estimators */\n  --sklearn-color-fitted-level-0: #f0f8ff;\n  --sklearn-color-fitted-level-1: #d4ebff;\n  --sklearn-color-fitted-level-2: #b3dbfd;\n  --sklearn-color-fitted-level-3: cornflowerblue;\n\n  /* Specific color for light theme */\n  --sklearn-color-text-on-default-background: var(--sg-text-color, var(--theme-code-foreground, var(--jp-content-font-color1, black)));\n  --sklearn-color-background: var(--sg-background-color, var(--theme-background, var(--jp-layout-color0, white)));\n  --sklearn-color-border-box: var(--sg-text-color, var(--theme-code-foreground, var(--jp-content-font-color1, black)));\n  --sklearn-color-icon: #696969;\n\n  @media (prefers-color-scheme: dark) {\n    /* Redefinition of color scheme for dark theme */\n    --sklearn-color-text-on-default-background: var(--sg-text-color, var(--theme-code-foreground, var(--jp-content-font-color1, white)));\n    --sklearn-color-background: var(--sg-background-color, var(--theme-background, var(--jp-layout-color0, #111)));\n    --sklearn-color-border-box: var(--sg-text-color, var(--theme-code-foreground, var(--jp-content-font-color1, white)));\n    --sklearn-color-icon: #878787;\n  }\n}\n\n#sk-container-id-2 {\n  color: var(--sklearn-color-text);\n}\n\n#sk-container-id-2 pre {\n  padding: 0;\n}\n\n#sk-container-id-2 input.sk-hidden--visually {\n  border: 0;\n  clip: rect(1px 1px 1px 1px);\n  clip: rect(1px, 1px, 1px, 1px);\n  height: 1px;\n  margin: -1px;\n  overflow: hidden;\n  padding: 0;\n  position: absolute;\n  width: 1px;\n}\n\n#sk-container-id-2 div.sk-dashed-wrapped {\n  border: 1px dashed var(--sklearn-color-line);\n  margin: 0 0.4em 0.5em 0.4em;\n  box-sizing: border-box;\n  padding-bottom: 0.4em;\n  background-color: var(--sklearn-color-background);\n}\n\n#sk-container-id-2 div.sk-container {\n  /* jupyter's `normalize.less` sets `[hidden] { display: none; }`\n     but bootstrap.min.css set `[hidden] { display: none !important; }`\n     so we also need the `!important` here to be able to override the\n     default hidden behavior on the sphinx rendered scikit-learn.org.\n     See: https://github.com/scikit-learn/scikit-learn/issues/21755 */\n  display: inline-block !important;\n  position: relative;\n}\n\n#sk-container-id-2 div.sk-text-repr-fallback {\n  display: none;\n}\n\ndiv.sk-parallel-item,\ndiv.sk-serial,\ndiv.sk-item {\n  /* draw centered vertical line to link estimators */\n  background-image: linear-gradient(var(--sklearn-color-text-on-default-background), var(--sklearn-color-text-on-default-background));\n  background-size: 2px 100%;\n  background-repeat: no-repeat;\n  background-position: center center;\n}\n\n/* Parallel-specific style estimator block */\n\n#sk-container-id-2 div.sk-parallel-item::after {\n  content: \"\";\n  width: 100%;\n  border-bottom: 2px solid var(--sklearn-color-text-on-default-background);\n  flex-grow: 1;\n}\n\n#sk-container-id-2 div.sk-parallel {\n  display: flex;\n  align-items: stretch;\n  justify-content: center;\n  background-color: var(--sklearn-color-background);\n  position: relative;\n}\n\n#sk-container-id-2 div.sk-parallel-item {\n  display: flex;\n  flex-direction: column;\n}\n\n#sk-container-id-2 div.sk-parallel-item:first-child::after {\n  align-self: flex-end;\n  width: 50%;\n}\n\n#sk-container-id-2 div.sk-parallel-item:last-child::after {\n  align-self: flex-start;\n  width: 50%;\n}\n\n#sk-container-id-2 div.sk-parallel-item:only-child::after {\n  width: 0;\n}\n\n/* Serial-specific style estimator block */\n\n#sk-container-id-2 div.sk-serial {\n  display: flex;\n  flex-direction: column;\n  align-items: center;\n  background-color: var(--sklearn-color-background);\n  padding-right: 1em;\n  padding-left: 1em;\n}\n\n\n/* Toggleable style: style used for estimator/Pipeline/ColumnTransformer box that is\nclickable and can be expanded/collapsed.\n- Pipeline and ColumnTransformer use this feature and define the default style\n- Estimators will overwrite some part of the style using the `sk-estimator` class\n*/\n\n/* Pipeline and ColumnTransformer style (default) */\n\n#sk-container-id-2 div.sk-toggleable {\n  /* Default theme specific background. It is overwritten whether we have a\n  specific estimator or a Pipeline/ColumnTransformer */\n  background-color: var(--sklearn-color-background);\n}\n\n/* Toggleable label */\n#sk-container-id-2 label.sk-toggleable__label {\n  cursor: pointer;\n  display: flex;\n  width: 100%;\n  margin-bottom: 0;\n  padding: 0.5em;\n  box-sizing: border-box;\n  text-align: center;\n  align-items: start;\n  justify-content: space-between;\n  gap: 0.5em;\n}\n\n#sk-container-id-2 label.sk-toggleable__label .caption {\n  font-size: 0.6rem;\n  font-weight: lighter;\n  color: var(--sklearn-color-text-muted);\n}\n\n#sk-container-id-2 label.sk-toggleable__label-arrow:before {\n  /* Arrow on the left of the label */\n  content: \"▸\";\n  float: left;\n  margin-right: 0.25em;\n  color: var(--sklearn-color-icon);\n}\n\n#sk-container-id-2 label.sk-toggleable__label-arrow:hover:before {\n  color: var(--sklearn-color-text);\n}\n\n/* Toggleable content - dropdown */\n\n#sk-container-id-2 div.sk-toggleable__content {\n  max-height: 0;\n  max-width: 0;\n  overflow: hidden;\n  text-align: left;\n  /* unfitted */\n  background-color: var(--sklearn-color-unfitted-level-0);\n}\n\n#sk-container-id-2 div.sk-toggleable__content.fitted {\n  /* fitted */\n  background-color: var(--sklearn-color-fitted-level-0);\n}\n\n#sk-container-id-2 div.sk-toggleable__content pre {\n  margin: 0.2em;\n  border-radius: 0.25em;\n  color: var(--sklearn-color-text);\n  /* unfitted */\n  background-color: var(--sklearn-color-unfitted-level-0);\n}\n\n#sk-container-id-2 div.sk-toggleable__content.fitted pre {\n  /* unfitted */\n  background-color: var(--sklearn-color-fitted-level-0);\n}\n\n#sk-container-id-2 input.sk-toggleable__control:checked~div.sk-toggleable__content {\n  /* Expand drop-down */\n  max-height: 200px;\n  max-width: 100%;\n  overflow: auto;\n}\n\n#sk-container-id-2 input.sk-toggleable__control:checked~label.sk-toggleable__label-arrow:before {\n  content: \"▾\";\n}\n\n/* Pipeline/ColumnTransformer-specific style */\n\n#sk-container-id-2 div.sk-label input.sk-toggleable__control:checked~label.sk-toggleable__label {\n  color: var(--sklearn-color-text);\n  background-color: var(--sklearn-color-unfitted-level-2);\n}\n\n#sk-container-id-2 div.sk-label.fitted input.sk-toggleable__control:checked~label.sk-toggleable__label {\n  background-color: var(--sklearn-color-fitted-level-2);\n}\n\n/* Estimator-specific style */\n\n/* Colorize estimator box */\n#sk-container-id-2 div.sk-estimator input.sk-toggleable__control:checked~label.sk-toggleable__label {\n  /* unfitted */\n  background-color: var(--sklearn-color-unfitted-level-2);\n}\n\n#sk-container-id-2 div.sk-estimator.fitted input.sk-toggleable__control:checked~label.sk-toggleable__label {\n  /* fitted */\n  background-color: var(--sklearn-color-fitted-level-2);\n}\n\n#sk-container-id-2 div.sk-label label.sk-toggleable__label,\n#sk-container-id-2 div.sk-label label {\n  /* The background is the default theme color */\n  color: var(--sklearn-color-text-on-default-background);\n}\n\n/* On hover, darken the color of the background */\n#sk-container-id-2 div.sk-label:hover label.sk-toggleable__label {\n  color: var(--sklearn-color-text);\n  background-color: var(--sklearn-color-unfitted-level-2);\n}\n\n/* Label box, darken color on hover, fitted */\n#sk-container-id-2 div.sk-label.fitted:hover label.sk-toggleable__label.fitted {\n  color: var(--sklearn-color-text);\n  background-color: var(--sklearn-color-fitted-level-2);\n}\n\n/* Estimator label */\n\n#sk-container-id-2 div.sk-label label {\n  font-family: monospace;\n  font-weight: bold;\n  display: inline-block;\n  line-height: 1.2em;\n}\n\n#sk-container-id-2 div.sk-label-container {\n  text-align: center;\n}\n\n/* Estimator-specific */\n#sk-container-id-2 div.sk-estimator {\n  font-family: monospace;\n  border: 1px dotted var(--sklearn-color-border-box);\n  border-radius: 0.25em;\n  box-sizing: border-box;\n  margin-bottom: 0.5em;\n  /* unfitted */\n  background-color: var(--sklearn-color-unfitted-level-0);\n}\n\n#sk-container-id-2 div.sk-estimator.fitted {\n  /* fitted */\n  background-color: var(--sklearn-color-fitted-level-0);\n}\n\n/* on hover */\n#sk-container-id-2 div.sk-estimator:hover {\n  /* unfitted */\n  background-color: var(--sklearn-color-unfitted-level-2);\n}\n\n#sk-container-id-2 div.sk-estimator.fitted:hover {\n  /* fitted */\n  background-color: var(--sklearn-color-fitted-level-2);\n}\n\n/* Specification for estimator info (e.g. \"i\" and \"?\") */\n\n/* Common style for \"i\" and \"?\" */\n\n.sk-estimator-doc-link,\na:link.sk-estimator-doc-link,\na:visited.sk-estimator-doc-link {\n  float: right;\n  font-size: smaller;\n  line-height: 1em;\n  font-family: monospace;\n  background-color: var(--sklearn-color-background);\n  border-radius: 1em;\n  height: 1em;\n  width: 1em;\n  text-decoration: none !important;\n  margin-left: 0.5em;\n  text-align: center;\n  /* unfitted */\n  border: var(--sklearn-color-unfitted-level-1) 1pt solid;\n  color: var(--sklearn-color-unfitted-level-1);\n}\n\n.sk-estimator-doc-link.fitted,\na:link.sk-estimator-doc-link.fitted,\na:visited.sk-estimator-doc-link.fitted {\n  /* fitted */\n  border: var(--sklearn-color-fitted-level-1) 1pt solid;\n  color: var(--sklearn-color-fitted-level-1);\n}\n\n/* On hover */\ndiv.sk-estimator:hover .sk-estimator-doc-link:hover,\n.sk-estimator-doc-link:hover,\ndiv.sk-label-container:hover .sk-estimator-doc-link:hover,\n.sk-estimator-doc-link:hover {\n  /* unfitted */\n  background-color: var(--sklearn-color-unfitted-level-3);\n  color: var(--sklearn-color-background);\n  text-decoration: none;\n}\n\ndiv.sk-estimator.fitted:hover .sk-estimator-doc-link.fitted:hover,\n.sk-estimator-doc-link.fitted:hover,\ndiv.sk-label-container:hover .sk-estimator-doc-link.fitted:hover,\n.sk-estimator-doc-link.fitted:hover {\n  /* fitted */\n  background-color: var(--sklearn-color-fitted-level-3);\n  color: var(--sklearn-color-background);\n  text-decoration: none;\n}\n\n/* Span, style for the box shown on hovering the info icon */\n.sk-estimator-doc-link span {\n  display: none;\n  z-index: 9999;\n  position: relative;\n  font-weight: normal;\n  right: .2ex;\n  padding: .5ex;\n  margin: .5ex;\n  width: min-content;\n  min-width: 20ex;\n  max-width: 50ex;\n  color: var(--sklearn-color-text);\n  box-shadow: 2pt 2pt 4pt #999;\n  /* unfitted */\n  background: var(--sklearn-color-unfitted-level-0);\n  border: .5pt solid var(--sklearn-color-unfitted-level-3);\n}\n\n.sk-estimator-doc-link.fitted span {\n  /* fitted */\n  background: var(--sklearn-color-fitted-level-0);\n  border: var(--sklearn-color-fitted-level-3);\n}\n\n.sk-estimator-doc-link:hover span {\n  display: block;\n}\n\n/* \"?\"-specific style due to the `<a>` HTML tag */\n\n#sk-container-id-2 a.estimator_doc_link {\n  float: right;\n  font-size: 1rem;\n  line-height: 1em;\n  font-family: monospace;\n  background-color: var(--sklearn-color-background);\n  border-radius: 1rem;\n  height: 1rem;\n  width: 1rem;\n  text-decoration: none;\n  /* unfitted */\n  color: var(--sklearn-color-unfitted-level-1);\n  border: var(--sklearn-color-unfitted-level-1) 1pt solid;\n}\n\n#sk-container-id-2 a.estimator_doc_link.fitted {\n  /* fitted */\n  border: var(--sklearn-color-fitted-level-1) 1pt solid;\n  color: var(--sklearn-color-fitted-level-1);\n}\n\n/* On hover */\n#sk-container-id-2 a.estimator_doc_link:hover {\n  /* unfitted */\n  background-color: var(--sklearn-color-unfitted-level-3);\n  color: var(--sklearn-color-background);\n  text-decoration: none;\n}\n\n#sk-container-id-2 a.estimator_doc_link.fitted:hover {\n  /* fitted */\n  background-color: var(--sklearn-color-fitted-level-3);\n}\n</style><div id=\"sk-container-id-2\" class=\"sk-top-container\"><div class=\"sk-text-repr-fallback\"><pre>GridSearchCV(cv=10,\n             estimator=Pipeline(steps=[(&#x27;smote&#x27;, SMOTE(random_state=0)),\n                                       (&#x27;rf&#x27;,\n                                        RandomForestClassifier(class_weight=&#x27;balanced&#x27;,\n                                                               n_jobs=-1,\n                                                               random_state=0))]),\n             param_grid={&#x27;smote__sampling_strategy&#x27;: array([0.25, 0.5 , 0.75, 1.  ])},\n             scoring=&#x27;roc_auc&#x27;, verbose=4)</pre><b>In a Jupyter environment, please rerun this cell to show the HTML representation or trust the notebook. <br />On GitHub, the HTML representation is unable to render, please try loading this page with nbviewer.org.</b></div><div class=\"sk-container\" hidden><div class=\"sk-item sk-dashed-wrapped\"><div class=\"sk-label-container\"><div class=\"sk-label fitted sk-toggleable\"><input class=\"sk-toggleable__control sk-hidden--visually\" id=\"sk-estimator-id-5\" type=\"checkbox\" ><label for=\"sk-estimator-id-5\" class=\"sk-toggleable__label fitted sk-toggleable__label-arrow\"><div><div>GridSearchCV</div></div><div><a class=\"sk-estimator-doc-link fitted\" rel=\"noreferrer\" target=\"_blank\" href=\"https://scikit-learn.org/1.6/modules/generated/sklearn.model_selection.GridSearchCV.html\">?<span>Documentation for GridSearchCV</span></a><span class=\"sk-estimator-doc-link fitted\">i<span>Fitted</span></span></div></label><div class=\"sk-toggleable__content fitted\"><pre>GridSearchCV(cv=10,\n             estimator=Pipeline(steps=[(&#x27;smote&#x27;, SMOTE(random_state=0)),\n                                       (&#x27;rf&#x27;,\n                                        RandomForestClassifier(class_weight=&#x27;balanced&#x27;,\n                                                               n_jobs=-1,\n                                                               random_state=0))]),\n             param_grid={&#x27;smote__sampling_strategy&#x27;: array([0.25, 0.5 , 0.75, 1.  ])},\n             scoring=&#x27;roc_auc&#x27;, verbose=4)</pre></div> </div></div><div class=\"sk-parallel\"><div class=\"sk-parallel-item\"><div class=\"sk-item\"><div class=\"sk-label-container\"><div class=\"sk-label fitted sk-toggleable\"><input class=\"sk-toggleable__control sk-hidden--visually\" id=\"sk-estimator-id-6\" type=\"checkbox\" ><label for=\"sk-estimator-id-6\" class=\"sk-toggleable__label fitted sk-toggleable__label-arrow\"><div><div>best_estimator_: Pipeline</div></div></label><div class=\"sk-toggleable__content fitted\"><pre>Pipeline(steps=[(&#x27;smote&#x27;,\n                 SMOTE(random_state=0, sampling_strategy=np.float64(0.25))),\n                (&#x27;rf&#x27;,\n                 RandomForestClassifier(class_weight=&#x27;balanced&#x27;, n_jobs=-1,\n                                        random_state=0))])</pre></div> </div></div><div class=\"sk-serial\"><div class=\"sk-item\"><div class=\"sk-serial\"><div class=\"sk-item\"><div class=\"sk-estimator fitted sk-toggleable\"><input class=\"sk-toggleable__control sk-hidden--visually\" id=\"sk-estimator-id-7\" type=\"checkbox\" ><label for=\"sk-estimator-id-7\" class=\"sk-toggleable__label fitted sk-toggleable__label-arrow\"><div><div>SMOTE</div></div></label><div class=\"sk-toggleable__content fitted\"><pre>SMOTE(random_state=0, sampling_strategy=np.float64(0.25))</pre></div> </div></div><div class=\"sk-item\"><div class=\"sk-estimator fitted sk-toggleable\"><input class=\"sk-toggleable__control sk-hidden--visually\" id=\"sk-estimator-id-8\" type=\"checkbox\" ><label for=\"sk-estimator-id-8\" class=\"sk-toggleable__label fitted sk-toggleable__label-arrow\"><div><div>RandomForestClassifier</div></div><div><a class=\"sk-estimator-doc-link fitted\" rel=\"noreferrer\" target=\"_blank\" href=\"https://scikit-learn.org/1.6/modules/generated/sklearn.ensemble.RandomForestClassifier.html\">?<span>Documentation for RandomForestClassifier</span></a></div></label><div class=\"sk-toggleable__content fitted\"><pre>RandomForestClassifier(class_weight=&#x27;balanced&#x27;, n_jobs=-1, random_state=0)</pre></div> </div></div></div></div></div></div></div></div></div></div></div>",
      "text/plain": "GridSearchCV(cv=10,\n             estimator=Pipeline(steps=[('smote', SMOTE(random_state=0)),\n                                       ('rf',\n                                        RandomForestClassifier(class_weight='balanced',\n                                                               n_jobs=-1,\n                                                               random_state=0))]),\n             param_grid={'smote__sampling_strategy': array([0.25, 0.5 , 0.75, 1.  ])},\n             scoring='roc_auc', verbose=4)"
     },
     "execution_count": 29,
     "metadata": {},
     "output_type": "execute_result"
    }
   ],
   "source": [
    "%%time\n",
    "grid_2.fit(X_train, y_train)"
   ]
  },
  {
   "cell_type": "code",
   "execution_count": 30,
   "metadata": {
    "ExecuteTime": {
     "end_time": "2025-05-27T09:11:49.806529Z",
     "start_time": "2025-05-27T09:11:49.790003Z"
    },
    "collapsed": false
   },
   "outputs": [
    {
     "name": "stdout",
     "output_type": "stream",
     "text": [
      "Best SMOTE params: {'smote__sampling_strategy': np.float64(0.25)}\n",
      "Best CV AUROC: 0.8809187975065962\n",
      "Samples before SMOTE: 7877\n",
      "Samples after SMOTE: 9382\n"
     ]
    }
   ],
   "source": [
    "print(\"Best SMOTE params:\", grid_2.best_params_)\n",
    "print(\"Best CV AUROC:\", grid_2.best_score_)\n",
    "best_pipe_2 = grid_2.best_estimator_\n",
    "smote_2 = best_pipe_2.named_steps[\"smote\"]\n",
    "print(f\"Samples before SMOTE: {len(X_train)}\")\n",
    "X_train_smote, y_train_smote = smote_2.fit_resample(X_train, y_train)\n",
    "print(f\"Samples after SMOTE: {len(X_train_smote)}\")"
   ]
  },
  {
   "cell_type": "code",
   "execution_count": 31,
   "metadata": {
    "ExecuteTime": {
     "end_time": "2025-05-27T09:11:49.973525Z",
     "start_time": "2025-05-27T09:11:49.807523Z"
    },
    "collapsed": false
   },
   "outputs": [
    {
     "name": "stdout",
     "output_type": "stream",
     "text": [
      "Train metrics\n",
      "AUROC: 100.00%\n",
      "F1-score: 100.00%\n",
      "\n",
      "Test metrics\n",
      "AUROC: 89.43%\n",
      "F1-score: 40.68%\n"
     ]
    }
   ],
   "source": [
    "print(\"Train metrics\")\n",
    "assess_rf_performance(best_pipe_2, X_train_smote, y_train_smote)\n",
    "print()\n",
    "print(\"Test metrics\")\n",
    "assess_rf_performance(best_pipe_2, X_test, y_test)"
   ]
  },
  {
   "cell_type": "markdown",
   "metadata": {},
   "source": [
    "### 1. Czy wynik się poprawił\n",
    "- Auroc wzrosło o 0.6%\n",
    "- F1-score spadło o 1%\n",
    "### 2. Czy zmniejszono lub wyeliminowano overfitting?\n",
    "- Nie overfitting nadal występuje\n",
    "### 3. Czy warto było tune’ować oba parametry?\n",
    "- Pierwszego parametru nie warto było trenować bo dał ustawienia domyślne\n",
    "- Drugiego w zasadzie też bo jedną metrykę podniósł minimalnie a drugą mocniej obniżył\n",
    "### 4. Czy połączenie parametrów poprawiło wynik?\n",
    "- Auroc wzrosło o 0.6%\n",
    "- F1-score spadło o 1%"
   ]
  },
  {
   "cell_type": "markdown",
   "metadata": {},
   "source": [
    "// Obliczenia:\n",
    "### 1. Step-wise\n",
    "Dla naszego przypadku mamy następującą sytuacje:\n",
    "* Pierwszy pipeline 10 foldów każdy sprawdza 5 wartości czyli 50 estymatorów \n",
    "* Drugi pipeline 10 foldów każdy sprawdza 4 wartości czyli 40 estymatorów\n",
    "\n",
    "Załóżmy że każdy estymator ma stały czas treningu t (około 1.1s)\n",
    "\n",
    "Czyli nasz całkowity czas to:\n",
    "$$\n",
    "50t + 40t = 90t \\text{ (około 100 sekund)}\n",
    "$$\n",
    "---  \n",
    "### 2. Full grid\n",
    "Dla pełnej siatki mamy następującą sytuację:\n",
    "* Zbiorczy pipeline 10 foldów każdy sprawdza 20 wartości czyli 200 estymatorów\n",
    "    \n",
    "załóżmy że każdy estymator ma stały czas treningu t (około 1.1s)\n",
    "\n",
    "Czyli nasz całkowity czas to:\n",
    "$$\n",
    "200t \\text{ (około 220 sekund)}\n",
    "$$\n",
    "---\n",
    "Porównując te 2 wartości:\n",
    "$$\n",
    "\\frac{200t}{90t} \\approx 2{,}22\n",
    "$$\n",
    "nasze podejście jest 2,2 raza szybsze"
   ]
  },
  {
   "cell_type": "markdown",
   "metadata": {},
   "source": [
    "Ostatnią rzeczą, którą możemy tu zrobić, jest połączenie naszych technik. Imbalanced-learn implementuje wygodne połączenie oversamplingu z undersamplingu w module `combine`, np. klasą `SMOTEENN`."
   ]
  },
  {
   "cell_type": "code",
   "execution_count": 32,
   "metadata": {
    "ExecuteTime": {
     "end_time": "2025-05-27T09:11:51.781179Z",
     "start_time": "2025-05-27T09:11:49.974523Z"
    }
   },
   "outputs": [
    {
     "name": "stdout",
     "output_type": "stream",
     "text": [
      "AUROC: 99.84%\n",
      "F1-score: 75.39%\n",
      "AUROC: 87.90%\n",
      "F1-score: 42.07%\n"
     ]
    }
   ],
   "source": [
    "from imblearn.combine import SMOTEENN\n",
    "\n",
    "smote_enn_pipeline = Pipeline(\n",
    "    [\n",
    "        (\"smoteenn\", SMOTEENN(random_state=0)),\n",
    "        (\n",
    "            \"rf\",\n",
    "            RandomForestClassifier(class_weight=\"balanced\", random_state=0, n_jobs=-1),\n",
    "        ),\n",
    "    ]\n",
    ")\n",
    "smote_enn_pipeline.fit(X_train, y_train)\n",
    "\n",
    "assess_rf_performance(smote_enn_pipeline, X_train, y_train)\n",
    "assess_rf_performance(smote_enn_pipeline, X_test, y_test)"
   ]
  },
  {
   "cell_type": "markdown",
   "metadata": {},
   "source": [
    "Przy domyślnych hiperparametrach, połączenie SMOTE i ENN daje gorsze wyniki niż sam SMOTE. Może jednak to kwestia tuningu?"
   ]
  },
  {
   "cell_type": "markdown",
   "metadata": {},
   "source": [
    "**Zadanie 5 (0.5 punktu)**\n",
    "\n",
    "Wytrenuj SMOTEENN, wykorzystując optymalne hiperparametry znalezione podczas tuningu ENN oraz SMOTE. Sprawdź wyniki na zbiorze testowym.\n",
    "\n",
    "Porównaj wyniki ENN, SMOTE oraz ich połączenia. Które rozwiązanie wybrałbyś w praktyce i dlaczego?"
   ]
  },
  {
   "cell_type": "code",
   "execution_count": 33,
   "metadata": {
    "ExecuteTime": {
     "end_time": "2025-05-27T09:11:52.732275Z",
     "start_time": "2025-05-27T09:11:51.782177Z"
    }
   },
   "outputs": [
    {
     "name": "stdout",
     "output_type": "stream",
     "text": [
      "AUROC: 99.94%\n",
      "F1-score: 95.37%\n",
      "AUROC: 88.61%\n",
      "F1-score: 40.00%\n"
     ]
    }
   ],
   "source": [
    "from imblearn.combine import SMOTEENN\n",
    "\n",
    "smote_enn_pipeline = Pipeline(\n",
    "    [\n",
    "        (\n",
    "            \"smoteenn\",\n",
    "            SMOTEENN(\n",
    "                random_state=0,\n",
    "                smote=SMOTE(sampling_strategy=0.25, k_neighbors=5, random_state=0),\n",
    "                enn=EditedNearestNeighbours(n_neighbors=1, kind_sel=\"all\"),\n",
    "            ),\n",
    "        ),\n",
    "        (\n",
    "            \"rf\",\n",
    "            RandomForestClassifier(class_weight=\"balanced\", random_state=0, n_jobs=-1),\n",
    "        ),\n",
    "    ]\n",
    ")\n",
    "smote_enn_pipeline.fit(X_train, y_train)\n",
    "\n",
    "assess_rf_performance(smote_enn_pipeline, X_train, y_train)\n",
    "assess_rf_performance(smote_enn_pipeline, X_test, y_test)"
   ]
  },
  {
   "cell_type": "markdown",
   "metadata": {},
   "source": [
    "Mamy większy overfitting niż przy domyślnych wartościach. Auroc sie porpawił F1-score pogorszył. \n",
    "Finalnie wybrałbym SMOTE daje najwyższe AUROC. Zapewnia dobry kompromis pomiędzy recall a precision wartość F1-score."
   ]
  },
  {
   "cell_type": "markdown",
   "metadata": {},
   "source": [
    "## Klasyfikacja ekstremalnie niezbalansowana i anomaly detection"
   ]
  },
  {
   "cell_type": "markdown",
   "metadata": {},
   "source": [
    "Jako nasz drugi zbiór wykorzystamy [Credit Card Fraud Detection dataset](https://www.kaggle.com/datasets/mlg-ulb/creditcardfraud). Został on stworzony przez naukowców z Université Libre de Bruxelles we współpracy z firmą Wordline, obsługującą transakcje finansowe. Jest to największa europejska firma tego typu, i jedna z największych na świecie. Na potrzeby tego datasetu udostępniła transakcje z Europy z września 2013 roku.\n",
    "\n",
    "Jest to ponad 284 tysiące transakcji, z czego zaledwie 492 to transakcje będące wynikiem przestępstwa (fraud transaction). Klasa pozytywna to zatem około 0.172% danych, co wymaga specjalnych algorytmów i metryk. Cechy w zbiorze zostały zanonimizowane za pomocą transformacji PCA, dzięki czemu można było publicznie udostępnić taki zbiór. Jedynie publicznie znane cechy to \"Time\" i \"Amount\". Wszystkie cechy są numeryczne i nie ma wartości brakujących, a dane są najwyższej możliwej jakości (generowane automatycznie, a fraud jest bardzo dokładnie sprawdzany jako przestępstwa), więc jest doskonały do uczenia maszynowego.\n",
    "\n",
    "Warto pamiętać, że chociaż fraud to tak mało danych, to każdy jeden przypadek to bardzo ciężkie przestępstwo, często mogące zrujnować komuś życie, więc wykrycie możliwie jak największej liczby z nich obowiązkiem prawnym firm finansowych. Z tego względu algorytmy stanowią tutaj część systemu, flagujące transakcje jako podejrzane według prawdopodobieństwa. Później następuje weryfikacja ręczna w takich wypadkach.\n",
    "\n",
    "Ze względu na powyższe cechy zbioru, autorzy proponują metrykę **Area Under Precision-Recall Curve (AUPRC)**. Trzeba pamiętać, żeby uważać przy łączeniu jej z under- i oversamplingiem, bo zmieniają one proporcję klasy pozytywnej."
   ]
  },
  {
   "cell_type": "markdown",
   "metadata": {},
   "source": [
    "Ze względu na bardzo duży rozmiar zbioru został on zmniejszony przez losowy downsampling klasy negatywnej, żeby wszystko liczyło się w rozsąðnym czasie. Co prawda w ten sposób trochę naruszono balans klas i zwiększymy stosunek outlierów, ale ze względów czysto praktycznych jesteśmy do tego zmuszeni.\n",
    "\n",
    "W praktyce też tak się czasem robi - na nic nam potężna ilość danych, jeżeli nie jesteśmy w stanie nic na tym policzyć. Ostatecznie fraud transaction stanowią dalej niecały 1% naszych danych, więc zbiór dalej jest ekstremalnie niezbalansowany i przybliżenie prawdziwych danych jest dobre.\n",
    "\n",
    "Ma to też tę zaletę, że zwalcza zjawisko nazywane **swamping**. Występuje ono w anomaly detection, gdy mamy totalnie za dużo klasy dominującej i nachodzi ona na chmurę punktów z klasy mniejszościowej (anomalii), \"zalewając\" ją. Powoduje to często FP, kiedy te przykłady z klasy dominującej zostają uznane za pozytywne.\n",
    "\n",
    "Standaryzujemy też dane, bo skorzystamy z metod opartych o najbliższych sąsiadów."
   ]
  },
  {
   "cell_type": "code",
   "execution_count": 34,
   "metadata": {
    "ExecuteTime": {
     "end_time": "2025-05-27T09:11:52.823790Z",
     "start_time": "2025-05-27T09:11:52.733272Z"
    }
   },
   "outputs": [],
   "source": [
    "df = pd.read_parquet(\"credit_card_fraud_data.parquet\")\n",
    "y = df.pop(\"Class\")\n",
    "\n",
    "X_train, X_test, y_train, y_test = train_test_split(\n",
    "    df, y, test_size=0.25, random_state=0, stratify=y\n",
    ")\n",
    "\n",
    "scaler = StandardScaler()\n",
    "scaler.fit(X_train)\n",
    "\n",
    "X_train = scaler.transform(X_train)\n",
    "X_test = scaler.transform(X_test)"
   ]
  },
  {
   "cell_type": "code",
   "execution_count": 35,
   "metadata": {
    "ExecuteTime": {
     "end_time": "2025-05-27T09:11:52.828907Z",
     "start_time": "2025-05-27T09:11:52.824320Z"
    }
   },
   "outputs": [
    {
     "name": "stdout",
     "output_type": "stream",
     "text": [
      "Fraud class percentage: 0.97%\n"
     ]
    }
   ],
   "source": [
    "y_pos_count = (y == 1).sum()\n",
    "y_pos_perc = y_pos_count / len(y)\n",
    "\n",
    "print(f\"Fraud class percentage: {100 * y_pos_perc:.2f}%\")"
   ]
  },
  {
   "cell_type": "markdown",
   "metadata": {},
   "source": [
    "Użyjemy po kolei dwóch algorytmów nienadzorowanego outlier detection:\n",
    "- kNN\n",
    "- Isolation Forest\n",
    "\n",
    "Jako wartość parametru `contamination`, czyli oczekiwanej proporcji outlierów, warto zacząć po prostu od ułamka anomalii w zbiorze treningowym, jeżeli jest ona znana."
   ]
  },
  {
   "cell_type": "code",
   "execution_count": 36,
   "metadata": {
    "ExecuteTime": {
     "end_time": "2025-05-27T09:11:52.833934Z",
     "start_time": "2025-05-27T09:11:52.829904Z"
    }
   },
   "outputs": [],
   "source": [
    "from sklearn.metrics import average_precision_score\n",
    "\n",
    "\n",
    "def assess_anomaly_detection_model(estimator, X_test, y_test) -> None:\n",
    "    y_pred_score = estimator.predict_proba(X_test)\n",
    "\n",
    "    # in PyOD, .predict_proba() sometimes returns probability distribution,\n",
    "    # and sometimes it returns only probability of being anomaly\n",
    "    if len(y_pred_score.shape) > 1:\n",
    "        y_pred_score = y_pred_score[:, 1]\n",
    "\n",
    "    auprc = average_precision_score(y_test, y_pred_score)\n",
    "    print(f\"AUPRC: {100 * auprc:.2f}%\")"
   ]
  },
  {
   "cell_type": "code",
   "execution_count": 37,
   "metadata": {
    "ExecuteTime": {
     "end_time": "2025-05-27T09:12:15.966770Z",
     "start_time": "2025-05-27T09:11:52.834917Z"
    }
   },
   "outputs": [
    {
     "name": "stdout",
     "output_type": "stream",
     "text": [
      "kNN metrics\n",
      "AUPRC: 19.98%\n",
      "Isolation Forest metrics\n",
      "AUPRC: 56.49%\n"
     ]
    }
   ],
   "source": [
    "from pyod.models.iforest import IForest\n",
    "from pyod.models.knn import KNN\n",
    "\n",
    "contamination = (y == 1).sum() / len(y)\n",
    "\n",
    "knn = KNN(contamination=contamination, n_jobs=-1)\n",
    "knn.fit(X_train)\n",
    "print(\"kNN metrics\")\n",
    "assess_anomaly_detection_model(knn, X_test, y_test)\n",
    "print()\n",
    "\n",
    "iforest = IForest(\n",
    "    contamination=contamination, behaviour=\"new\", random_state=0, n_jobs=-1\n",
    ")\n",
    "iforest.fit(X_train)\n",
    "print(\"Isolation Forest metrics\")\n",
    "assess_anomaly_detection_model(iforest, X_test, y_test)\n",
    "print()"
   ]
  },
  {
   "cell_type": "markdown",
   "metadata": {},
   "source": [
    "kNN wykazuje na pewno potencjał (pamiętajmy, że AUPRC ma typowo bardzo niskie wartości!), ale nasz zbiór jest dość duży, więc czuć wolniejsze tempo tej metody, a niestety PyOD nie współgra dobrze z PyNNDescent, żeby go przyspieszyć z użyciem ANN. Dlatego skupimy się teraz na Isolation Forest.\n",
    "\n",
    "Jego najważniejsze hiperparametry to:\n",
    "- `n_estimators` - liczba drzew, typowo ok. 500 jest już osiągana asymptota wyniku\n",
    "- `max_samples` - wielkość próbki per drzewo, domyślnie 256, ale nieco większa może pomóc, jeżeli mamy naprawdę masywny zbiór\n",
    "\n",
    "Typowo `contamination` niewiele zmienia w przypadku tego algorytmu, kiedy używamy metryki opartej o prawdopodobieństwa, takiej jak AUPRC."
   ]
  },
  {
   "cell_type": "markdown",
   "metadata": {},
   "source": [
    "**Zadanie 6 (1.5 punktu)**\n",
    "\n",
    "1. Dokonaj tuningu hiperarametrów po kolei (step-wise) za pomocą walidacji skrośnej:\n",
    "   - najpierw `n_estimators`, wartości `[100, 200, 300, 400, 500]`\n",
    "   - później `max_samples`,  wartości `[100, 200, 256, 300, 400, 500]`\n",
    "   - wykorzystaj wartość `contamination` obliczoną wcześniej\n",
    "   - użyj `random_state=0` i `n_jobs=-1` dla obiektu `IForest`\n",
    "   - użyj 5-krotnej walidacji skrośnej, optymalizując `\"average_precision\"` (AUPRC)\n",
    "2. Wypisz znalezione optymalne wartości parametrów.\n",
    "3. Wytrenuj Isolation Forest z wartościami obu parametrów. Sprawdź wynik na zbiorze testowym.\n",
    "4. Skomentuj, czy udało się poprawić wynik. Czy twoim zdaniem było warto dokonać tuningu obu hiperparamametrów, czy wystarczyłby jeden z nich?\n",
    "\n",
    "**Uwaga:** przez drobnego buga w połączeniu `pyod` i najnowszych wersji Scikit-learn trzeba użyć explicite funkcji obliczającej AUPRC, przygotowano ją poniżej."
   ]
  },
  {
   "cell_type": "code",
   "execution_count": 38,
   "metadata": {
    "ExecuteTime": {
     "end_time": "2025-05-27T09:12:15.972662Z",
     "start_time": "2025-05-27T09:12:15.967768Z"
    }
   },
   "outputs": [],
   "source": [
    "from sklearn.metrics import make_scorer\n",
    "\n",
    "\n",
    "def auprc(estimator, X, y):\n",
    "    return average_precision_score(y, estimator.predict_proba(X))\n",
    "\n",
    "\n",
    "auprc = make_scorer(average_precision_score)"
   ]
  },
  {
   "cell_type": "code",
   "execution_count": 39,
   "metadata": {
    "ExecuteTime": {
     "end_time": "2025-05-27T09:12:15.978160Z",
     "start_time": "2025-05-27T09:12:15.974654Z"
    },
    "scrolled": true
   },
   "outputs": [],
   "source": [
    "n_estimators = [100, 200, 300, 400, 500]\n",
    "max_samples = [100, 200, 256, 300, 400, 500]"
   ]
  },
  {
   "cell_type": "code",
   "execution_count": 61,
   "metadata": {
    "ExecuteTime": {
     "end_time": "2025-05-27T11:09:02.989911Z",
     "start_time": "2025-05-27T11:09:02.984437Z"
    },
    "collapsed": false
   },
   "outputs": [],
   "source": [
    "param_grid_1 = {\"n_estimators\": n_estimators}\n",
    "iforest = IForest(\n",
    "    contamination=contamination, behaviour=\"new\", random_state=0, n_jobs=-1\n",
    ")\n",
    "grid_iforest_1 = GridSearchCV(iforest, param_grid_1, cv=5, scoring=auprc, verbose=4)"
   ]
  },
  {
   "cell_type": "code",
   "execution_count": 62,
   "metadata": {
    "ExecuteTime": {
     "end_time": "2025-05-27T11:09:20.868624Z",
     "start_time": "2025-05-27T11:09:03.813540Z"
    },
    "collapsed": false
   },
   "outputs": [
    {
     "name": "stdout",
     "output_type": "stream",
     "text": [
      "Fitting 5 folds for each of 4 candidates, totalling 20 fits\n"
     ]
    },
    {
     "name": "stderr",
     "output_type": "stream",
     "text": [
      "C:\\Users\\stas69\\Documents\\Studia\\podstawy-uczenia-maszynowego-24-25\\.venv\\Lib\\site-packages\\pyod\\models\\base.py:554: UserWarning: y should not be presented in unsupervised learning.\n",
      "  warnings.warn(\n"
     ]
    },
    {
     "name": "stdout",
     "output_type": "stream",
     "text": [
      "[CV 1/5] END ...................n_estimators=50;, score=0.205 total time=   0.2s\n"
     ]
    },
    {
     "name": "stderr",
     "output_type": "stream",
     "text": [
      "C:\\Users\\stas69\\Documents\\Studia\\podstawy-uczenia-maszynowego-24-25\\.venv\\Lib\\site-packages\\pyod\\models\\base.py:554: UserWarning: y should not be presented in unsupervised learning.\n",
      "  warnings.warn(\n"
     ]
    },
    {
     "name": "stdout",
     "output_type": "stream",
     "text": [
      "[CV 2/5] END ...................n_estimators=50;, score=0.288 total time=   0.1s\n"
     ]
    },
    {
     "name": "stderr",
     "output_type": "stream",
     "text": [
      "C:\\Users\\stas69\\Documents\\Studia\\podstawy-uczenia-maszynowego-24-25\\.venv\\Lib\\site-packages\\pyod\\models\\base.py:554: UserWarning: y should not be presented in unsupervised learning.\n",
      "  warnings.warn(\n"
     ]
    },
    {
     "name": "stdout",
     "output_type": "stream",
     "text": [
      "[CV 3/5] END ...................n_estimators=50;, score=0.245 total time=   0.1s\n"
     ]
    },
    {
     "name": "stderr",
     "output_type": "stream",
     "text": [
      "C:\\Users\\stas69\\Documents\\Studia\\podstawy-uczenia-maszynowego-24-25\\.venv\\Lib\\site-packages\\pyod\\models\\base.py:554: UserWarning: y should not be presented in unsupervised learning.\n",
      "  warnings.warn(\n"
     ]
    },
    {
     "name": "stdout",
     "output_type": "stream",
     "text": [
      "[CV 4/5] END ...................n_estimators=50;, score=0.182 total time=   0.1s\n"
     ]
    },
    {
     "name": "stderr",
     "output_type": "stream",
     "text": [
      "C:\\Users\\stas69\\Documents\\Studia\\podstawy-uczenia-maszynowego-24-25\\.venv\\Lib\\site-packages\\pyod\\models\\base.py:554: UserWarning: y should not be presented in unsupervised learning.\n",
      "  warnings.warn(\n"
     ]
    },
    {
     "name": "stdout",
     "output_type": "stream",
     "text": [
      "[CV 5/5] END ...................n_estimators=50;, score=0.192 total time=   0.1s\n"
     ]
    },
    {
     "name": "stderr",
     "output_type": "stream",
     "text": [
      "C:\\Users\\stas69\\Documents\\Studia\\podstawy-uczenia-maszynowego-24-25\\.venv\\Lib\\site-packages\\pyod\\models\\base.py:554: UserWarning: y should not be presented in unsupervised learning.\n",
      "  warnings.warn(\n"
     ]
    },
    {
     "name": "stdout",
     "output_type": "stream",
     "text": [
      "[CV 1/5] END ..................n_estimators=100;, score=0.238 total time=   0.4s\n"
     ]
    },
    {
     "name": "stderr",
     "output_type": "stream",
     "text": [
      "C:\\Users\\stas69\\Documents\\Studia\\podstawy-uczenia-maszynowego-24-25\\.venv\\Lib\\site-packages\\pyod\\models\\base.py:554: UserWarning: y should not be presented in unsupervised learning.\n",
      "  warnings.warn(\n"
     ]
    },
    {
     "name": "stdout",
     "output_type": "stream",
     "text": [
      "[CV 2/5] END ..................n_estimators=100;, score=0.325 total time=   0.4s\n"
     ]
    },
    {
     "name": "stderr",
     "output_type": "stream",
     "text": [
      "C:\\Users\\stas69\\Documents\\Studia\\podstawy-uczenia-maszynowego-24-25\\.venv\\Lib\\site-packages\\pyod\\models\\base.py:554: UserWarning: y should not be presented in unsupervised learning.\n",
      "  warnings.warn(\n"
     ]
    },
    {
     "name": "stdout",
     "output_type": "stream",
     "text": [
      "[CV 3/5] END ..................n_estimators=100;, score=0.262 total time=   0.4s\n"
     ]
    },
    {
     "name": "stderr",
     "output_type": "stream",
     "text": [
      "C:\\Users\\stas69\\Documents\\Studia\\podstawy-uczenia-maszynowego-24-25\\.venv\\Lib\\site-packages\\pyod\\models\\base.py:554: UserWarning: y should not be presented in unsupervised learning.\n",
      "  warnings.warn(\n"
     ]
    },
    {
     "name": "stdout",
     "output_type": "stream",
     "text": [
      "[CV 4/5] END ..................n_estimators=100;, score=0.166 total time=   0.4s\n"
     ]
    },
    {
     "name": "stderr",
     "output_type": "stream",
     "text": [
      "C:\\Users\\stas69\\Documents\\Studia\\podstawy-uczenia-maszynowego-24-25\\.venv\\Lib\\site-packages\\pyod\\models\\base.py:554: UserWarning: y should not be presented in unsupervised learning.\n",
      "  warnings.warn(\n"
     ]
    },
    {
     "name": "stdout",
     "output_type": "stream",
     "text": [
      "[CV 5/5] END ..................n_estimators=100;, score=0.180 total time=   0.4s\n"
     ]
    },
    {
     "name": "stderr",
     "output_type": "stream",
     "text": [
      "C:\\Users\\stas69\\Documents\\Studia\\podstawy-uczenia-maszynowego-24-25\\.venv\\Lib\\site-packages\\pyod\\models\\base.py:554: UserWarning: y should not be presented in unsupervised learning.\n",
      "  warnings.warn(\n"
     ]
    },
    {
     "name": "stdout",
     "output_type": "stream",
     "text": [
      "[CV 1/5] END ..................n_estimators=200;, score=0.195 total time=   0.9s\n"
     ]
    },
    {
     "name": "stderr",
     "output_type": "stream",
     "text": [
      "C:\\Users\\stas69\\Documents\\Studia\\podstawy-uczenia-maszynowego-24-25\\.venv\\Lib\\site-packages\\pyod\\models\\base.py:554: UserWarning: y should not be presented in unsupervised learning.\n",
      "  warnings.warn(\n"
     ]
    },
    {
     "name": "stdout",
     "output_type": "stream",
     "text": [
      "[CV 2/5] END ..................n_estimators=200;, score=0.364 total time=   0.8s\n"
     ]
    },
    {
     "name": "stderr",
     "output_type": "stream",
     "text": [
      "C:\\Users\\stas69\\Documents\\Studia\\podstawy-uczenia-maszynowego-24-25\\.venv\\Lib\\site-packages\\pyod\\models\\base.py:554: UserWarning: y should not be presented in unsupervised learning.\n",
      "  warnings.warn(\n"
     ]
    },
    {
     "name": "stdout",
     "output_type": "stream",
     "text": [
      "[CV 3/5] END ..................n_estimators=200;, score=0.250 total time=   0.8s\n"
     ]
    },
    {
     "name": "stderr",
     "output_type": "stream",
     "text": [
      "C:\\Users\\stas69\\Documents\\Studia\\podstawy-uczenia-maszynowego-24-25\\.venv\\Lib\\site-packages\\pyod\\models\\base.py:554: UserWarning: y should not be presented in unsupervised learning.\n",
      "  warnings.warn(\n"
     ]
    },
    {
     "name": "stdout",
     "output_type": "stream",
     "text": [
      "[CV 4/5] END ..................n_estimators=200;, score=0.168 total time=   0.9s\n"
     ]
    },
    {
     "name": "stderr",
     "output_type": "stream",
     "text": [
      "C:\\Users\\stas69\\Documents\\Studia\\podstawy-uczenia-maszynowego-24-25\\.venv\\Lib\\site-packages\\pyod\\models\\base.py:554: UserWarning: y should not be presented in unsupervised learning.\n",
      "  warnings.warn(\n"
     ]
    },
    {
     "name": "stdout",
     "output_type": "stream",
     "text": [
      "[CV 5/5] END ..................n_estimators=200;, score=0.205 total time=   0.9s\n"
     ]
    },
    {
     "name": "stderr",
     "output_type": "stream",
     "text": [
      "C:\\Users\\stas69\\Documents\\Studia\\podstawy-uczenia-maszynowego-24-25\\.venv\\Lib\\site-packages\\pyod\\models\\base.py:554: UserWarning: y should not be presented in unsupervised learning.\n",
      "  warnings.warn(\n"
     ]
    },
    {
     "name": "stdout",
     "output_type": "stream",
     "text": [
      "[CV 1/5] END ..................n_estimators=300;, score=0.196 total time=   1.3s\n"
     ]
    },
    {
     "name": "stderr",
     "output_type": "stream",
     "text": [
      "C:\\Users\\stas69\\Documents\\Studia\\podstawy-uczenia-maszynowego-24-25\\.venv\\Lib\\site-packages\\pyod\\models\\base.py:554: UserWarning: y should not be presented in unsupervised learning.\n",
      "  warnings.warn(\n"
     ]
    },
    {
     "name": "stdout",
     "output_type": "stream",
     "text": [
      "[CV 2/5] END ..................n_estimators=300;, score=0.373 total time=   1.3s\n"
     ]
    },
    {
     "name": "stderr",
     "output_type": "stream",
     "text": [
      "C:\\Users\\stas69\\Documents\\Studia\\podstawy-uczenia-maszynowego-24-25\\.venv\\Lib\\site-packages\\pyod\\models\\base.py:554: UserWarning: y should not be presented in unsupervised learning.\n",
      "  warnings.warn(\n"
     ]
    },
    {
     "name": "stdout",
     "output_type": "stream",
     "text": [
      "[CV 3/5] END ..................n_estimators=300;, score=0.278 total time=   1.3s\n"
     ]
    },
    {
     "name": "stderr",
     "output_type": "stream",
     "text": [
      "C:\\Users\\stas69\\Documents\\Studia\\podstawy-uczenia-maszynowego-24-25\\.venv\\Lib\\site-packages\\pyod\\models\\base.py:554: UserWarning: y should not be presented in unsupervised learning.\n",
      "  warnings.warn(\n"
     ]
    },
    {
     "name": "stdout",
     "output_type": "stream",
     "text": [
      "[CV 4/5] END ..................n_estimators=300;, score=0.161 total time=   1.3s\n"
     ]
    },
    {
     "name": "stderr",
     "output_type": "stream",
     "text": [
      "C:\\Users\\stas69\\Documents\\Studia\\podstawy-uczenia-maszynowego-24-25\\.venv\\Lib\\site-packages\\pyod\\models\\base.py:554: UserWarning: y should not be presented in unsupervised learning.\n",
      "  warnings.warn(\n"
     ]
    },
    {
     "name": "stdout",
     "output_type": "stream",
     "text": [
      "[CV 5/5] END ..................n_estimators=300;, score=0.222 total time=   1.3s\n"
     ]
    },
    {
     "name": "stderr",
     "output_type": "stream",
     "text": [
      "C:\\Users\\stas69\\Documents\\Studia\\podstawy-uczenia-maszynowego-24-25\\.venv\\Lib\\site-packages\\pyod\\models\\base.py:554: UserWarning: y should not be presented in unsupervised learning.\n",
      "  warnings.warn(\n"
     ]
    },
    {
     "name": "stdout",
     "output_type": "stream",
     "text": [
      "CPU times: total: 17.4 s\n",
      "Wall time: 17 s\n"
     ]
    },
    {
     "data": {
      "text/html": "<style>#sk-container-id-5 {\n  /* Definition of color scheme common for light and dark mode */\n  --sklearn-color-text: #000;\n  --sklearn-color-text-muted: #666;\n  --sklearn-color-line: gray;\n  /* Definition of color scheme for unfitted estimators */\n  --sklearn-color-unfitted-level-0: #fff5e6;\n  --sklearn-color-unfitted-level-1: #f6e4d2;\n  --sklearn-color-unfitted-level-2: #ffe0b3;\n  --sklearn-color-unfitted-level-3: chocolate;\n  /* Definition of color scheme for fitted estimators */\n  --sklearn-color-fitted-level-0: #f0f8ff;\n  --sklearn-color-fitted-level-1: #d4ebff;\n  --sklearn-color-fitted-level-2: #b3dbfd;\n  --sklearn-color-fitted-level-3: cornflowerblue;\n\n  /* Specific color for light theme */\n  --sklearn-color-text-on-default-background: var(--sg-text-color, var(--theme-code-foreground, var(--jp-content-font-color1, black)));\n  --sklearn-color-background: var(--sg-background-color, var(--theme-background, var(--jp-layout-color0, white)));\n  --sklearn-color-border-box: var(--sg-text-color, var(--theme-code-foreground, var(--jp-content-font-color1, black)));\n  --sklearn-color-icon: #696969;\n\n  @media (prefers-color-scheme: dark) {\n    /* Redefinition of color scheme for dark theme */\n    --sklearn-color-text-on-default-background: var(--sg-text-color, var(--theme-code-foreground, var(--jp-content-font-color1, white)));\n    --sklearn-color-background: var(--sg-background-color, var(--theme-background, var(--jp-layout-color0, #111)));\n    --sklearn-color-border-box: var(--sg-text-color, var(--theme-code-foreground, var(--jp-content-font-color1, white)));\n    --sklearn-color-icon: #878787;\n  }\n}\n\n#sk-container-id-5 {\n  color: var(--sklearn-color-text);\n}\n\n#sk-container-id-5 pre {\n  padding: 0;\n}\n\n#sk-container-id-5 input.sk-hidden--visually {\n  border: 0;\n  clip: rect(1px 1px 1px 1px);\n  clip: rect(1px, 1px, 1px, 1px);\n  height: 1px;\n  margin: -1px;\n  overflow: hidden;\n  padding: 0;\n  position: absolute;\n  width: 1px;\n}\n\n#sk-container-id-5 div.sk-dashed-wrapped {\n  border: 1px dashed var(--sklearn-color-line);\n  margin: 0 0.4em 0.5em 0.4em;\n  box-sizing: border-box;\n  padding-bottom: 0.4em;\n  background-color: var(--sklearn-color-background);\n}\n\n#sk-container-id-5 div.sk-container {\n  /* jupyter's `normalize.less` sets `[hidden] { display: none; }`\n     but bootstrap.min.css set `[hidden] { display: none !important; }`\n     so we also need the `!important` here to be able to override the\n     default hidden behavior on the sphinx rendered scikit-learn.org.\n     See: https://github.com/scikit-learn/scikit-learn/issues/21755 */\n  display: inline-block !important;\n  position: relative;\n}\n\n#sk-container-id-5 div.sk-text-repr-fallback {\n  display: none;\n}\n\ndiv.sk-parallel-item,\ndiv.sk-serial,\ndiv.sk-item {\n  /* draw centered vertical line to link estimators */\n  background-image: linear-gradient(var(--sklearn-color-text-on-default-background), var(--sklearn-color-text-on-default-background));\n  background-size: 2px 100%;\n  background-repeat: no-repeat;\n  background-position: center center;\n}\n\n/* Parallel-specific style estimator block */\n\n#sk-container-id-5 div.sk-parallel-item::after {\n  content: \"\";\n  width: 100%;\n  border-bottom: 2px solid var(--sklearn-color-text-on-default-background);\n  flex-grow: 1;\n}\n\n#sk-container-id-5 div.sk-parallel {\n  display: flex;\n  align-items: stretch;\n  justify-content: center;\n  background-color: var(--sklearn-color-background);\n  position: relative;\n}\n\n#sk-container-id-5 div.sk-parallel-item {\n  display: flex;\n  flex-direction: column;\n}\n\n#sk-container-id-5 div.sk-parallel-item:first-child::after {\n  align-self: flex-end;\n  width: 50%;\n}\n\n#sk-container-id-5 div.sk-parallel-item:last-child::after {\n  align-self: flex-start;\n  width: 50%;\n}\n\n#sk-container-id-5 div.sk-parallel-item:only-child::after {\n  width: 0;\n}\n\n/* Serial-specific style estimator block */\n\n#sk-container-id-5 div.sk-serial {\n  display: flex;\n  flex-direction: column;\n  align-items: center;\n  background-color: var(--sklearn-color-background);\n  padding-right: 1em;\n  padding-left: 1em;\n}\n\n\n/* Toggleable style: style used for estimator/Pipeline/ColumnTransformer box that is\nclickable and can be expanded/collapsed.\n- Pipeline and ColumnTransformer use this feature and define the default style\n- Estimators will overwrite some part of the style using the `sk-estimator` class\n*/\n\n/* Pipeline and ColumnTransformer style (default) */\n\n#sk-container-id-5 div.sk-toggleable {\n  /* Default theme specific background. It is overwritten whether we have a\n  specific estimator or a Pipeline/ColumnTransformer */\n  background-color: var(--sklearn-color-background);\n}\n\n/* Toggleable label */\n#sk-container-id-5 label.sk-toggleable__label {\n  cursor: pointer;\n  display: flex;\n  width: 100%;\n  margin-bottom: 0;\n  padding: 0.5em;\n  box-sizing: border-box;\n  text-align: center;\n  align-items: start;\n  justify-content: space-between;\n  gap: 0.5em;\n}\n\n#sk-container-id-5 label.sk-toggleable__label .caption {\n  font-size: 0.6rem;\n  font-weight: lighter;\n  color: var(--sklearn-color-text-muted);\n}\n\n#sk-container-id-5 label.sk-toggleable__label-arrow:before {\n  /* Arrow on the left of the label */\n  content: \"▸\";\n  float: left;\n  margin-right: 0.25em;\n  color: var(--sklearn-color-icon);\n}\n\n#sk-container-id-5 label.sk-toggleable__label-arrow:hover:before {\n  color: var(--sklearn-color-text);\n}\n\n/* Toggleable content - dropdown */\n\n#sk-container-id-5 div.sk-toggleable__content {\n  max-height: 0;\n  max-width: 0;\n  overflow: hidden;\n  text-align: left;\n  /* unfitted */\n  background-color: var(--sklearn-color-unfitted-level-0);\n}\n\n#sk-container-id-5 div.sk-toggleable__content.fitted {\n  /* fitted */\n  background-color: var(--sklearn-color-fitted-level-0);\n}\n\n#sk-container-id-5 div.sk-toggleable__content pre {\n  margin: 0.2em;\n  border-radius: 0.25em;\n  color: var(--sklearn-color-text);\n  /* unfitted */\n  background-color: var(--sklearn-color-unfitted-level-0);\n}\n\n#sk-container-id-5 div.sk-toggleable__content.fitted pre {\n  /* unfitted */\n  background-color: var(--sklearn-color-fitted-level-0);\n}\n\n#sk-container-id-5 input.sk-toggleable__control:checked~div.sk-toggleable__content {\n  /* Expand drop-down */\n  max-height: 200px;\n  max-width: 100%;\n  overflow: auto;\n}\n\n#sk-container-id-5 input.sk-toggleable__control:checked~label.sk-toggleable__label-arrow:before {\n  content: \"▾\";\n}\n\n/* Pipeline/ColumnTransformer-specific style */\n\n#sk-container-id-5 div.sk-label input.sk-toggleable__control:checked~label.sk-toggleable__label {\n  color: var(--sklearn-color-text);\n  background-color: var(--sklearn-color-unfitted-level-2);\n}\n\n#sk-container-id-5 div.sk-label.fitted input.sk-toggleable__control:checked~label.sk-toggleable__label {\n  background-color: var(--sklearn-color-fitted-level-2);\n}\n\n/* Estimator-specific style */\n\n/* Colorize estimator box */\n#sk-container-id-5 div.sk-estimator input.sk-toggleable__control:checked~label.sk-toggleable__label {\n  /* unfitted */\n  background-color: var(--sklearn-color-unfitted-level-2);\n}\n\n#sk-container-id-5 div.sk-estimator.fitted input.sk-toggleable__control:checked~label.sk-toggleable__label {\n  /* fitted */\n  background-color: var(--sklearn-color-fitted-level-2);\n}\n\n#sk-container-id-5 div.sk-label label.sk-toggleable__label,\n#sk-container-id-5 div.sk-label label {\n  /* The background is the default theme color */\n  color: var(--sklearn-color-text-on-default-background);\n}\n\n/* On hover, darken the color of the background */\n#sk-container-id-5 div.sk-label:hover label.sk-toggleable__label {\n  color: var(--sklearn-color-text);\n  background-color: var(--sklearn-color-unfitted-level-2);\n}\n\n/* Label box, darken color on hover, fitted */\n#sk-container-id-5 div.sk-label.fitted:hover label.sk-toggleable__label.fitted {\n  color: var(--sklearn-color-text);\n  background-color: var(--sklearn-color-fitted-level-2);\n}\n\n/* Estimator label */\n\n#sk-container-id-5 div.sk-label label {\n  font-family: monospace;\n  font-weight: bold;\n  display: inline-block;\n  line-height: 1.2em;\n}\n\n#sk-container-id-5 div.sk-label-container {\n  text-align: center;\n}\n\n/* Estimator-specific */\n#sk-container-id-5 div.sk-estimator {\n  font-family: monospace;\n  border: 1px dotted var(--sklearn-color-border-box);\n  border-radius: 0.25em;\n  box-sizing: border-box;\n  margin-bottom: 0.5em;\n  /* unfitted */\n  background-color: var(--sklearn-color-unfitted-level-0);\n}\n\n#sk-container-id-5 div.sk-estimator.fitted {\n  /* fitted */\n  background-color: var(--sklearn-color-fitted-level-0);\n}\n\n/* on hover */\n#sk-container-id-5 div.sk-estimator:hover {\n  /* unfitted */\n  background-color: var(--sklearn-color-unfitted-level-2);\n}\n\n#sk-container-id-5 div.sk-estimator.fitted:hover {\n  /* fitted */\n  background-color: var(--sklearn-color-fitted-level-2);\n}\n\n/* Specification for estimator info (e.g. \"i\" and \"?\") */\n\n/* Common style for \"i\" and \"?\" */\n\n.sk-estimator-doc-link,\na:link.sk-estimator-doc-link,\na:visited.sk-estimator-doc-link {\n  float: right;\n  font-size: smaller;\n  line-height: 1em;\n  font-family: monospace;\n  background-color: var(--sklearn-color-background);\n  border-radius: 1em;\n  height: 1em;\n  width: 1em;\n  text-decoration: none !important;\n  margin-left: 0.5em;\n  text-align: center;\n  /* unfitted */\n  border: var(--sklearn-color-unfitted-level-1) 1pt solid;\n  color: var(--sklearn-color-unfitted-level-1);\n}\n\n.sk-estimator-doc-link.fitted,\na:link.sk-estimator-doc-link.fitted,\na:visited.sk-estimator-doc-link.fitted {\n  /* fitted */\n  border: var(--sklearn-color-fitted-level-1) 1pt solid;\n  color: var(--sklearn-color-fitted-level-1);\n}\n\n/* On hover */\ndiv.sk-estimator:hover .sk-estimator-doc-link:hover,\n.sk-estimator-doc-link:hover,\ndiv.sk-label-container:hover .sk-estimator-doc-link:hover,\n.sk-estimator-doc-link:hover {\n  /* unfitted */\n  background-color: var(--sklearn-color-unfitted-level-3);\n  color: var(--sklearn-color-background);\n  text-decoration: none;\n}\n\ndiv.sk-estimator.fitted:hover .sk-estimator-doc-link.fitted:hover,\n.sk-estimator-doc-link.fitted:hover,\ndiv.sk-label-container:hover .sk-estimator-doc-link.fitted:hover,\n.sk-estimator-doc-link.fitted:hover {\n  /* fitted */\n  background-color: var(--sklearn-color-fitted-level-3);\n  color: var(--sklearn-color-background);\n  text-decoration: none;\n}\n\n/* Span, style for the box shown on hovering the info icon */\n.sk-estimator-doc-link span {\n  display: none;\n  z-index: 9999;\n  position: relative;\n  font-weight: normal;\n  right: .2ex;\n  padding: .5ex;\n  margin: .5ex;\n  width: min-content;\n  min-width: 20ex;\n  max-width: 50ex;\n  color: var(--sklearn-color-text);\n  box-shadow: 2pt 2pt 4pt #999;\n  /* unfitted */\n  background: var(--sklearn-color-unfitted-level-0);\n  border: .5pt solid var(--sklearn-color-unfitted-level-3);\n}\n\n.sk-estimator-doc-link.fitted span {\n  /* fitted */\n  background: var(--sklearn-color-fitted-level-0);\n  border: var(--sklearn-color-fitted-level-3);\n}\n\n.sk-estimator-doc-link:hover span {\n  display: block;\n}\n\n/* \"?\"-specific style due to the `<a>` HTML tag */\n\n#sk-container-id-5 a.estimator_doc_link {\n  float: right;\n  font-size: 1rem;\n  line-height: 1em;\n  font-family: monospace;\n  background-color: var(--sklearn-color-background);\n  border-radius: 1rem;\n  height: 1rem;\n  width: 1rem;\n  text-decoration: none;\n  /* unfitted */\n  color: var(--sklearn-color-unfitted-level-1);\n  border: var(--sklearn-color-unfitted-level-1) 1pt solid;\n}\n\n#sk-container-id-5 a.estimator_doc_link.fitted {\n  /* fitted */\n  border: var(--sklearn-color-fitted-level-1) 1pt solid;\n  color: var(--sklearn-color-fitted-level-1);\n}\n\n/* On hover */\n#sk-container-id-5 a.estimator_doc_link:hover {\n  /* unfitted */\n  background-color: var(--sklearn-color-unfitted-level-3);\n  color: var(--sklearn-color-background);\n  text-decoration: none;\n}\n\n#sk-container-id-5 a.estimator_doc_link.fitted:hover {\n  /* fitted */\n  background-color: var(--sklearn-color-fitted-level-3);\n}\n</style><div id=\"sk-container-id-5\" class=\"sk-top-container\"><div class=\"sk-text-repr-fallback\"><pre>GridSearchCV(cv=5,\n             estimator=IForest(behaviour=&#x27;new&#x27;, bootstrap=False,\n    contamination=np.float64(0.009744117880060207), max_features=1.0,\n    max_samples=&#x27;auto&#x27;, n_estimators=100, n_jobs=-1, random_state=0,\n    verbose=0),\n             param_grid={&#x27;n_estimators&#x27;: [50, 100, 200, 300]},\n             scoring=make_scorer(average_precision_score, response_method=&#x27;predict&#x27;),\n             verbose=4)</pre><b>In a Jupyter environment, please rerun this cell to show the HTML representation or trust the notebook. <br />On GitHub, the HTML representation is unable to render, please try loading this page with nbviewer.org.</b></div><div class=\"sk-container\" hidden><div class=\"sk-item sk-dashed-wrapped\"><div class=\"sk-label-container\"><div class=\"sk-label fitted sk-toggleable\"><input class=\"sk-toggleable__control sk-hidden--visually\" id=\"sk-estimator-id-15\" type=\"checkbox\" ><label for=\"sk-estimator-id-15\" class=\"sk-toggleable__label fitted sk-toggleable__label-arrow\"><div><div>GridSearchCV</div></div><div><a class=\"sk-estimator-doc-link fitted\" rel=\"noreferrer\" target=\"_blank\" href=\"https://scikit-learn.org/1.6/modules/generated/sklearn.model_selection.GridSearchCV.html\">?<span>Documentation for GridSearchCV</span></a><span class=\"sk-estimator-doc-link fitted\">i<span>Fitted</span></span></div></label><div class=\"sk-toggleable__content fitted\"><pre>GridSearchCV(cv=5,\n             estimator=IForest(behaviour=&#x27;new&#x27;, bootstrap=False,\n    contamination=np.float64(0.009744117880060207), max_features=1.0,\n    max_samples=&#x27;auto&#x27;, n_estimators=100, n_jobs=-1, random_state=0,\n    verbose=0),\n             param_grid={&#x27;n_estimators&#x27;: [50, 100, 200, 300]},\n             scoring=make_scorer(average_precision_score, response_method=&#x27;predict&#x27;),\n             verbose=4)</pre></div> </div></div><div class=\"sk-parallel\"><div class=\"sk-parallel-item\"><div class=\"sk-item\"><div class=\"sk-label-container\"><div class=\"sk-label fitted sk-toggleable\"><input class=\"sk-toggleable__control sk-hidden--visually\" id=\"sk-estimator-id-16\" type=\"checkbox\" ><label for=\"sk-estimator-id-16\" class=\"sk-toggleable__label fitted sk-toggleable__label-arrow\"><div><div>best_estimator_: IForest</div></div></label><div class=\"sk-toggleable__content fitted\"><pre>IForest(behaviour=&#x27;new&#x27;, bootstrap=False,\n    contamination=np.float64(0.009744117880060207), max_features=1.0,\n    max_samples=&#x27;auto&#x27;, n_estimators=300, n_jobs=-1, random_state=0,\n    verbose=0)</pre></div> </div></div><div class=\"sk-serial\"><div class=\"sk-item\"><div class=\"sk-estimator fitted sk-toggleable\"><input class=\"sk-toggleable__control sk-hidden--visually\" id=\"sk-estimator-id-17\" type=\"checkbox\" ><label for=\"sk-estimator-id-17\" class=\"sk-toggleable__label fitted sk-toggleable__label-arrow\"><div><div>IForest</div></div></label><div class=\"sk-toggleable__content fitted\"><pre>IForest(behaviour=&#x27;new&#x27;, bootstrap=False,\n    contamination=np.float64(0.009744117880060207), max_features=1.0,\n    max_samples=&#x27;auto&#x27;, n_estimators=300, n_jobs=-1, random_state=0,\n    verbose=0)</pre></div> </div></div></div></div></div></div></div></div></div>",
      "text/plain": "GridSearchCV(cv=5,\n             estimator=IForest(behaviour='new', bootstrap=False,\n    contamination=np.float64(0.009744117880060207), max_features=1.0,\n    max_samples='auto', n_estimators=100, n_jobs=-1, random_state=0,\n    verbose=0),\n             param_grid={'n_estimators': [50, 100, 200, 300]},\n             scoring=make_scorer(average_precision_score, response_method='predict'),\n             verbose=4)"
     },
     "execution_count": 62,
     "metadata": {},
     "output_type": "execute_result"
    }
   ],
   "source": [
    "%%time\n",
    "grid_iforest_1.fit(X_train, y_train)"
   ]
  },
  {
   "cell_type": "code",
   "execution_count": 42,
   "metadata": {
    "ExecuteTime": {
     "end_time": "2025-05-27T09:12:53.484949Z",
     "start_time": "2025-05-27T09:12:53.240805Z"
    },
    "collapsed": false
   },
   "outputs": [
    {
     "name": "stdout",
     "output_type": "stream",
     "text": [
      "Best iforest params: {'n_estimators': 500}\n",
      "Best CV AUPRC: 0.24645672980205094\n",
      "Isolation Forest metrics after tuning\n",
      "AUPRC: 57.45%\n"
     ]
    }
   ],
   "source": [
    "print(\"Best iforest params:\", grid_iforest_1.best_params_)\n",
    "print(\"Best CV AUPRC:\", grid_iforest_1.best_score_)\n",
    "print(\"Isolation Forest metrics after tuning\")\n",
    "assess_anomaly_detection_model(grid_iforest_1, X_test, y_test)"
   ]
  },
  {
   "cell_type": "code",
   "execution_count": 43,
   "metadata": {
    "ExecuteTime": {
     "end_time": "2025-05-27T09:34:28.227669Z",
     "start_time": "2025-05-27T09:34:28.224857Z"
    },
    "collapsed": false
   },
   "outputs": [],
   "source": [
    "n_estimators = grid_iforest_1.best_params_[\"n_estimators\"]"
   ]
  },
  {
   "cell_type": "code",
   "execution_count": 44,
   "metadata": {
    "ExecuteTime": {
     "end_time": "2025-05-27T09:34:33.209855Z",
     "start_time": "2025-05-27T09:34:33.206295Z"
    },
    "collapsed": false
   },
   "outputs": [],
   "source": [
    "param_grid_2 = {\"max_samples\": max_samples}\n",
    "iforest = IForest(\n",
    "    contamination=contamination,\n",
    "    n_estimators=n_estimators,\n",
    "    behaviour=\"new\",\n",
    "    random_state=0,\n",
    "    n_jobs=-1,\n",
    ")\n",
    "grid_iforest_2 = GridSearchCV(iforest, param_grid_2, cv=5, scoring=auprc)"
   ]
  },
  {
   "cell_type": "code",
   "execution_count": 45,
   "metadata": {
    "ExecuteTime": {
     "end_time": "2025-05-27T09:35:41.198978Z",
     "start_time": "2025-05-27T09:34:33.720130Z"
    },
    "collapsed": false
   },
   "outputs": [
    {
     "name": "stderr",
     "output_type": "stream",
     "text": [
      "C:\\Users\\stas69\\Documents\\Studia\\podstawy-uczenia-maszynowego-24-25\\.venv\\Lib\\site-packages\\pyod\\models\\base.py:554: UserWarning: y should not be presented in unsupervised learning.\n",
      "  warnings.warn(\n",
      "C:\\Users\\stas69\\Documents\\Studia\\podstawy-uczenia-maszynowego-24-25\\.venv\\Lib\\site-packages\\pyod\\models\\base.py:554: UserWarning: y should not be presented in unsupervised learning.\n",
      "  warnings.warn(\n",
      "C:\\Users\\stas69\\Documents\\Studia\\podstawy-uczenia-maszynowego-24-25\\.venv\\Lib\\site-packages\\pyod\\models\\base.py:554: UserWarning: y should not be presented in unsupervised learning.\n",
      "  warnings.warn(\n",
      "C:\\Users\\stas69\\Documents\\Studia\\podstawy-uczenia-maszynowego-24-25\\.venv\\Lib\\site-packages\\pyod\\models\\base.py:554: UserWarning: y should not be presented in unsupervised learning.\n",
      "  warnings.warn(\n",
      "C:\\Users\\stas69\\Documents\\Studia\\podstawy-uczenia-maszynowego-24-25\\.venv\\Lib\\site-packages\\pyod\\models\\base.py:554: UserWarning: y should not be presented in unsupervised learning.\n",
      "  warnings.warn(\n",
      "C:\\Users\\stas69\\Documents\\Studia\\podstawy-uczenia-maszynowego-24-25\\.venv\\Lib\\site-packages\\pyod\\models\\base.py:554: UserWarning: y should not be presented in unsupervised learning.\n",
      "  warnings.warn(\n",
      "C:\\Users\\stas69\\Documents\\Studia\\podstawy-uczenia-maszynowego-24-25\\.venv\\Lib\\site-packages\\pyod\\models\\base.py:554: UserWarning: y should not be presented in unsupervised learning.\n",
      "  warnings.warn(\n",
      "C:\\Users\\stas69\\Documents\\Studia\\podstawy-uczenia-maszynowego-24-25\\.venv\\Lib\\site-packages\\pyod\\models\\base.py:554: UserWarning: y should not be presented in unsupervised learning.\n",
      "  warnings.warn(\n",
      "C:\\Users\\stas69\\Documents\\Studia\\podstawy-uczenia-maszynowego-24-25\\.venv\\Lib\\site-packages\\pyod\\models\\base.py:554: UserWarning: y should not be presented in unsupervised learning.\n",
      "  warnings.warn(\n",
      "C:\\Users\\stas69\\Documents\\Studia\\podstawy-uczenia-maszynowego-24-25\\.venv\\Lib\\site-packages\\pyod\\models\\base.py:554: UserWarning: y should not be presented in unsupervised learning.\n",
      "  warnings.warn(\n",
      "C:\\Users\\stas69\\Documents\\Studia\\podstawy-uczenia-maszynowego-24-25\\.venv\\Lib\\site-packages\\pyod\\models\\base.py:554: UserWarning: y should not be presented in unsupervised learning.\n",
      "  warnings.warn(\n",
      "C:\\Users\\stas69\\Documents\\Studia\\podstawy-uczenia-maszynowego-24-25\\.venv\\Lib\\site-packages\\pyod\\models\\base.py:554: UserWarning: y should not be presented in unsupervised learning.\n",
      "  warnings.warn(\n",
      "C:\\Users\\stas69\\Documents\\Studia\\podstawy-uczenia-maszynowego-24-25\\.venv\\Lib\\site-packages\\pyod\\models\\base.py:554: UserWarning: y should not be presented in unsupervised learning.\n",
      "  warnings.warn(\n",
      "C:\\Users\\stas69\\Documents\\Studia\\podstawy-uczenia-maszynowego-24-25\\.venv\\Lib\\site-packages\\pyod\\models\\base.py:554: UserWarning: y should not be presented in unsupervised learning.\n",
      "  warnings.warn(\n",
      "C:\\Users\\stas69\\Documents\\Studia\\podstawy-uczenia-maszynowego-24-25\\.venv\\Lib\\site-packages\\pyod\\models\\base.py:554: UserWarning: y should not be presented in unsupervised learning.\n",
      "  warnings.warn(\n",
      "C:\\Users\\stas69\\Documents\\Studia\\podstawy-uczenia-maszynowego-24-25\\.venv\\Lib\\site-packages\\pyod\\models\\base.py:554: UserWarning: y should not be presented in unsupervised learning.\n",
      "  warnings.warn(\n",
      "C:\\Users\\stas69\\Documents\\Studia\\podstawy-uczenia-maszynowego-24-25\\.venv\\Lib\\site-packages\\pyod\\models\\base.py:554: UserWarning: y should not be presented in unsupervised learning.\n",
      "  warnings.warn(\n",
      "C:\\Users\\stas69\\Documents\\Studia\\podstawy-uczenia-maszynowego-24-25\\.venv\\Lib\\site-packages\\pyod\\models\\base.py:554: UserWarning: y should not be presented in unsupervised learning.\n",
      "  warnings.warn(\n",
      "C:\\Users\\stas69\\Documents\\Studia\\podstawy-uczenia-maszynowego-24-25\\.venv\\Lib\\site-packages\\pyod\\models\\base.py:554: UserWarning: y should not be presented in unsupervised learning.\n",
      "  warnings.warn(\n",
      "C:\\Users\\stas69\\Documents\\Studia\\podstawy-uczenia-maszynowego-24-25\\.venv\\Lib\\site-packages\\pyod\\models\\base.py:554: UserWarning: y should not be presented in unsupervised learning.\n",
      "  warnings.warn(\n",
      "C:\\Users\\stas69\\Documents\\Studia\\podstawy-uczenia-maszynowego-24-25\\.venv\\Lib\\site-packages\\pyod\\models\\base.py:554: UserWarning: y should not be presented in unsupervised learning.\n",
      "  warnings.warn(\n",
      "C:\\Users\\stas69\\Documents\\Studia\\podstawy-uczenia-maszynowego-24-25\\.venv\\Lib\\site-packages\\pyod\\models\\base.py:554: UserWarning: y should not be presented in unsupervised learning.\n",
      "  warnings.warn(\n",
      "C:\\Users\\stas69\\Documents\\Studia\\podstawy-uczenia-maszynowego-24-25\\.venv\\Lib\\site-packages\\pyod\\models\\base.py:554: UserWarning: y should not be presented in unsupervised learning.\n",
      "  warnings.warn(\n",
      "C:\\Users\\stas69\\Documents\\Studia\\podstawy-uczenia-maszynowego-24-25\\.venv\\Lib\\site-packages\\pyod\\models\\base.py:554: UserWarning: y should not be presented in unsupervised learning.\n",
      "  warnings.warn(\n",
      "C:\\Users\\stas69\\Documents\\Studia\\podstawy-uczenia-maszynowego-24-25\\.venv\\Lib\\site-packages\\pyod\\models\\base.py:554: UserWarning: y should not be presented in unsupervised learning.\n",
      "  warnings.warn(\n",
      "C:\\Users\\stas69\\Documents\\Studia\\podstawy-uczenia-maszynowego-24-25\\.venv\\Lib\\site-packages\\pyod\\models\\base.py:554: UserWarning: y should not be presented in unsupervised learning.\n",
      "  warnings.warn(\n",
      "C:\\Users\\stas69\\Documents\\Studia\\podstawy-uczenia-maszynowego-24-25\\.venv\\Lib\\site-packages\\pyod\\models\\base.py:554: UserWarning: y should not be presented in unsupervised learning.\n",
      "  warnings.warn(\n",
      "C:\\Users\\stas69\\Documents\\Studia\\podstawy-uczenia-maszynowego-24-25\\.venv\\Lib\\site-packages\\pyod\\models\\base.py:554: UserWarning: y should not be presented in unsupervised learning.\n",
      "  warnings.warn(\n",
      "C:\\Users\\stas69\\Documents\\Studia\\podstawy-uczenia-maszynowego-24-25\\.venv\\Lib\\site-packages\\pyod\\models\\base.py:554: UserWarning: y should not be presented in unsupervised learning.\n",
      "  warnings.warn(\n",
      "C:\\Users\\stas69\\Documents\\Studia\\podstawy-uczenia-maszynowego-24-25\\.venv\\Lib\\site-packages\\pyod\\models\\base.py:554: UserWarning: y should not be presented in unsupervised learning.\n",
      "  warnings.warn(\n",
      "C:\\Users\\stas69\\Documents\\Studia\\podstawy-uczenia-maszynowego-24-25\\.venv\\Lib\\site-packages\\pyod\\models\\base.py:554: UserWarning: y should not be presented in unsupervised learning.\n",
      "  warnings.warn(\n"
     ]
    },
    {
     "name": "stdout",
     "output_type": "stream",
     "text": [
      "CPU times: total: 1min 9s\n",
      "Wall time: 1min 7s\n"
     ]
    },
    {
     "data": {
      "text/html": "<style>#sk-container-id-4 {\n  /* Definition of color scheme common for light and dark mode */\n  --sklearn-color-text: #000;\n  --sklearn-color-text-muted: #666;\n  --sklearn-color-line: gray;\n  /* Definition of color scheme for unfitted estimators */\n  --sklearn-color-unfitted-level-0: #fff5e6;\n  --sklearn-color-unfitted-level-1: #f6e4d2;\n  --sklearn-color-unfitted-level-2: #ffe0b3;\n  --sklearn-color-unfitted-level-3: chocolate;\n  /* Definition of color scheme for fitted estimators */\n  --sklearn-color-fitted-level-0: #f0f8ff;\n  --sklearn-color-fitted-level-1: #d4ebff;\n  --sklearn-color-fitted-level-2: #b3dbfd;\n  --sklearn-color-fitted-level-3: cornflowerblue;\n\n  /* Specific color for light theme */\n  --sklearn-color-text-on-default-background: var(--sg-text-color, var(--theme-code-foreground, var(--jp-content-font-color1, black)));\n  --sklearn-color-background: var(--sg-background-color, var(--theme-background, var(--jp-layout-color0, white)));\n  --sklearn-color-border-box: var(--sg-text-color, var(--theme-code-foreground, var(--jp-content-font-color1, black)));\n  --sklearn-color-icon: #696969;\n\n  @media (prefers-color-scheme: dark) {\n    /* Redefinition of color scheme for dark theme */\n    --sklearn-color-text-on-default-background: var(--sg-text-color, var(--theme-code-foreground, var(--jp-content-font-color1, white)));\n    --sklearn-color-background: var(--sg-background-color, var(--theme-background, var(--jp-layout-color0, #111)));\n    --sklearn-color-border-box: var(--sg-text-color, var(--theme-code-foreground, var(--jp-content-font-color1, white)));\n    --sklearn-color-icon: #878787;\n  }\n}\n\n#sk-container-id-4 {\n  color: var(--sklearn-color-text);\n}\n\n#sk-container-id-4 pre {\n  padding: 0;\n}\n\n#sk-container-id-4 input.sk-hidden--visually {\n  border: 0;\n  clip: rect(1px 1px 1px 1px);\n  clip: rect(1px, 1px, 1px, 1px);\n  height: 1px;\n  margin: -1px;\n  overflow: hidden;\n  padding: 0;\n  position: absolute;\n  width: 1px;\n}\n\n#sk-container-id-4 div.sk-dashed-wrapped {\n  border: 1px dashed var(--sklearn-color-line);\n  margin: 0 0.4em 0.5em 0.4em;\n  box-sizing: border-box;\n  padding-bottom: 0.4em;\n  background-color: var(--sklearn-color-background);\n}\n\n#sk-container-id-4 div.sk-container {\n  /* jupyter's `normalize.less` sets `[hidden] { display: none; }`\n     but bootstrap.min.css set `[hidden] { display: none !important; }`\n     so we also need the `!important` here to be able to override the\n     default hidden behavior on the sphinx rendered scikit-learn.org.\n     See: https://github.com/scikit-learn/scikit-learn/issues/21755 */\n  display: inline-block !important;\n  position: relative;\n}\n\n#sk-container-id-4 div.sk-text-repr-fallback {\n  display: none;\n}\n\ndiv.sk-parallel-item,\ndiv.sk-serial,\ndiv.sk-item {\n  /* draw centered vertical line to link estimators */\n  background-image: linear-gradient(var(--sklearn-color-text-on-default-background), var(--sklearn-color-text-on-default-background));\n  background-size: 2px 100%;\n  background-repeat: no-repeat;\n  background-position: center center;\n}\n\n/* Parallel-specific style estimator block */\n\n#sk-container-id-4 div.sk-parallel-item::after {\n  content: \"\";\n  width: 100%;\n  border-bottom: 2px solid var(--sklearn-color-text-on-default-background);\n  flex-grow: 1;\n}\n\n#sk-container-id-4 div.sk-parallel {\n  display: flex;\n  align-items: stretch;\n  justify-content: center;\n  background-color: var(--sklearn-color-background);\n  position: relative;\n}\n\n#sk-container-id-4 div.sk-parallel-item {\n  display: flex;\n  flex-direction: column;\n}\n\n#sk-container-id-4 div.sk-parallel-item:first-child::after {\n  align-self: flex-end;\n  width: 50%;\n}\n\n#sk-container-id-4 div.sk-parallel-item:last-child::after {\n  align-self: flex-start;\n  width: 50%;\n}\n\n#sk-container-id-4 div.sk-parallel-item:only-child::after {\n  width: 0;\n}\n\n/* Serial-specific style estimator block */\n\n#sk-container-id-4 div.sk-serial {\n  display: flex;\n  flex-direction: column;\n  align-items: center;\n  background-color: var(--sklearn-color-background);\n  padding-right: 1em;\n  padding-left: 1em;\n}\n\n\n/* Toggleable style: style used for estimator/Pipeline/ColumnTransformer box that is\nclickable and can be expanded/collapsed.\n- Pipeline and ColumnTransformer use this feature and define the default style\n- Estimators will overwrite some part of the style using the `sk-estimator` class\n*/\n\n/* Pipeline and ColumnTransformer style (default) */\n\n#sk-container-id-4 div.sk-toggleable {\n  /* Default theme specific background. It is overwritten whether we have a\n  specific estimator or a Pipeline/ColumnTransformer */\n  background-color: var(--sklearn-color-background);\n}\n\n/* Toggleable label */\n#sk-container-id-4 label.sk-toggleable__label {\n  cursor: pointer;\n  display: flex;\n  width: 100%;\n  margin-bottom: 0;\n  padding: 0.5em;\n  box-sizing: border-box;\n  text-align: center;\n  align-items: start;\n  justify-content: space-between;\n  gap: 0.5em;\n}\n\n#sk-container-id-4 label.sk-toggleable__label .caption {\n  font-size: 0.6rem;\n  font-weight: lighter;\n  color: var(--sklearn-color-text-muted);\n}\n\n#sk-container-id-4 label.sk-toggleable__label-arrow:before {\n  /* Arrow on the left of the label */\n  content: \"▸\";\n  float: left;\n  margin-right: 0.25em;\n  color: var(--sklearn-color-icon);\n}\n\n#sk-container-id-4 label.sk-toggleable__label-arrow:hover:before {\n  color: var(--sklearn-color-text);\n}\n\n/* Toggleable content - dropdown */\n\n#sk-container-id-4 div.sk-toggleable__content {\n  max-height: 0;\n  max-width: 0;\n  overflow: hidden;\n  text-align: left;\n  /* unfitted */\n  background-color: var(--sklearn-color-unfitted-level-0);\n}\n\n#sk-container-id-4 div.sk-toggleable__content.fitted {\n  /* fitted */\n  background-color: var(--sklearn-color-fitted-level-0);\n}\n\n#sk-container-id-4 div.sk-toggleable__content pre {\n  margin: 0.2em;\n  border-radius: 0.25em;\n  color: var(--sklearn-color-text);\n  /* unfitted */\n  background-color: var(--sklearn-color-unfitted-level-0);\n}\n\n#sk-container-id-4 div.sk-toggleable__content.fitted pre {\n  /* unfitted */\n  background-color: var(--sklearn-color-fitted-level-0);\n}\n\n#sk-container-id-4 input.sk-toggleable__control:checked~div.sk-toggleable__content {\n  /* Expand drop-down */\n  max-height: 200px;\n  max-width: 100%;\n  overflow: auto;\n}\n\n#sk-container-id-4 input.sk-toggleable__control:checked~label.sk-toggleable__label-arrow:before {\n  content: \"▾\";\n}\n\n/* Pipeline/ColumnTransformer-specific style */\n\n#sk-container-id-4 div.sk-label input.sk-toggleable__control:checked~label.sk-toggleable__label {\n  color: var(--sklearn-color-text);\n  background-color: var(--sklearn-color-unfitted-level-2);\n}\n\n#sk-container-id-4 div.sk-label.fitted input.sk-toggleable__control:checked~label.sk-toggleable__label {\n  background-color: var(--sklearn-color-fitted-level-2);\n}\n\n/* Estimator-specific style */\n\n/* Colorize estimator box */\n#sk-container-id-4 div.sk-estimator input.sk-toggleable__control:checked~label.sk-toggleable__label {\n  /* unfitted */\n  background-color: var(--sklearn-color-unfitted-level-2);\n}\n\n#sk-container-id-4 div.sk-estimator.fitted input.sk-toggleable__control:checked~label.sk-toggleable__label {\n  /* fitted */\n  background-color: var(--sklearn-color-fitted-level-2);\n}\n\n#sk-container-id-4 div.sk-label label.sk-toggleable__label,\n#sk-container-id-4 div.sk-label label {\n  /* The background is the default theme color */\n  color: var(--sklearn-color-text-on-default-background);\n}\n\n/* On hover, darken the color of the background */\n#sk-container-id-4 div.sk-label:hover label.sk-toggleable__label {\n  color: var(--sklearn-color-text);\n  background-color: var(--sklearn-color-unfitted-level-2);\n}\n\n/* Label box, darken color on hover, fitted */\n#sk-container-id-4 div.sk-label.fitted:hover label.sk-toggleable__label.fitted {\n  color: var(--sklearn-color-text);\n  background-color: var(--sklearn-color-fitted-level-2);\n}\n\n/* Estimator label */\n\n#sk-container-id-4 div.sk-label label {\n  font-family: monospace;\n  font-weight: bold;\n  display: inline-block;\n  line-height: 1.2em;\n}\n\n#sk-container-id-4 div.sk-label-container {\n  text-align: center;\n}\n\n/* Estimator-specific */\n#sk-container-id-4 div.sk-estimator {\n  font-family: monospace;\n  border: 1px dotted var(--sklearn-color-border-box);\n  border-radius: 0.25em;\n  box-sizing: border-box;\n  margin-bottom: 0.5em;\n  /* unfitted */\n  background-color: var(--sklearn-color-unfitted-level-0);\n}\n\n#sk-container-id-4 div.sk-estimator.fitted {\n  /* fitted */\n  background-color: var(--sklearn-color-fitted-level-0);\n}\n\n/* on hover */\n#sk-container-id-4 div.sk-estimator:hover {\n  /* unfitted */\n  background-color: var(--sklearn-color-unfitted-level-2);\n}\n\n#sk-container-id-4 div.sk-estimator.fitted:hover {\n  /* fitted */\n  background-color: var(--sklearn-color-fitted-level-2);\n}\n\n/* Specification for estimator info (e.g. \"i\" and \"?\") */\n\n/* Common style for \"i\" and \"?\" */\n\n.sk-estimator-doc-link,\na:link.sk-estimator-doc-link,\na:visited.sk-estimator-doc-link {\n  float: right;\n  font-size: smaller;\n  line-height: 1em;\n  font-family: monospace;\n  background-color: var(--sklearn-color-background);\n  border-radius: 1em;\n  height: 1em;\n  width: 1em;\n  text-decoration: none !important;\n  margin-left: 0.5em;\n  text-align: center;\n  /* unfitted */\n  border: var(--sklearn-color-unfitted-level-1) 1pt solid;\n  color: var(--sklearn-color-unfitted-level-1);\n}\n\n.sk-estimator-doc-link.fitted,\na:link.sk-estimator-doc-link.fitted,\na:visited.sk-estimator-doc-link.fitted {\n  /* fitted */\n  border: var(--sklearn-color-fitted-level-1) 1pt solid;\n  color: var(--sklearn-color-fitted-level-1);\n}\n\n/* On hover */\ndiv.sk-estimator:hover .sk-estimator-doc-link:hover,\n.sk-estimator-doc-link:hover,\ndiv.sk-label-container:hover .sk-estimator-doc-link:hover,\n.sk-estimator-doc-link:hover {\n  /* unfitted */\n  background-color: var(--sklearn-color-unfitted-level-3);\n  color: var(--sklearn-color-background);\n  text-decoration: none;\n}\n\ndiv.sk-estimator.fitted:hover .sk-estimator-doc-link.fitted:hover,\n.sk-estimator-doc-link.fitted:hover,\ndiv.sk-label-container:hover .sk-estimator-doc-link.fitted:hover,\n.sk-estimator-doc-link.fitted:hover {\n  /* fitted */\n  background-color: var(--sklearn-color-fitted-level-3);\n  color: var(--sklearn-color-background);\n  text-decoration: none;\n}\n\n/* Span, style for the box shown on hovering the info icon */\n.sk-estimator-doc-link span {\n  display: none;\n  z-index: 9999;\n  position: relative;\n  font-weight: normal;\n  right: .2ex;\n  padding: .5ex;\n  margin: .5ex;\n  width: min-content;\n  min-width: 20ex;\n  max-width: 50ex;\n  color: var(--sklearn-color-text);\n  box-shadow: 2pt 2pt 4pt #999;\n  /* unfitted */\n  background: var(--sklearn-color-unfitted-level-0);\n  border: .5pt solid var(--sklearn-color-unfitted-level-3);\n}\n\n.sk-estimator-doc-link.fitted span {\n  /* fitted */\n  background: var(--sklearn-color-fitted-level-0);\n  border: var(--sklearn-color-fitted-level-3);\n}\n\n.sk-estimator-doc-link:hover span {\n  display: block;\n}\n\n/* \"?\"-specific style due to the `<a>` HTML tag */\n\n#sk-container-id-4 a.estimator_doc_link {\n  float: right;\n  font-size: 1rem;\n  line-height: 1em;\n  font-family: monospace;\n  background-color: var(--sklearn-color-background);\n  border-radius: 1rem;\n  height: 1rem;\n  width: 1rem;\n  text-decoration: none;\n  /* unfitted */\n  color: var(--sklearn-color-unfitted-level-1);\n  border: var(--sklearn-color-unfitted-level-1) 1pt solid;\n}\n\n#sk-container-id-4 a.estimator_doc_link.fitted {\n  /* fitted */\n  border: var(--sklearn-color-fitted-level-1) 1pt solid;\n  color: var(--sklearn-color-fitted-level-1);\n}\n\n/* On hover */\n#sk-container-id-4 a.estimator_doc_link:hover {\n  /* unfitted */\n  background-color: var(--sklearn-color-unfitted-level-3);\n  color: var(--sklearn-color-background);\n  text-decoration: none;\n}\n\n#sk-container-id-4 a.estimator_doc_link.fitted:hover {\n  /* fitted */\n  background-color: var(--sklearn-color-fitted-level-3);\n}\n</style><div id=\"sk-container-id-4\" class=\"sk-top-container\"><div class=\"sk-text-repr-fallback\"><pre>GridSearchCV(cv=5,\n             estimator=IForest(behaviour=&#x27;new&#x27;, bootstrap=False,\n    contamination=np.float64(0.009744117880060207), max_features=1.0,\n    max_samples=&#x27;auto&#x27;, n_estimators=500, n_jobs=-1, random_state=0,\n    verbose=0),\n             param_grid={&#x27;max_samples&#x27;: [100, 200, 256, 300, 400, 500]},\n             scoring=make_scorer(average_precision_score, response_method=&#x27;predict&#x27;))</pre><b>In a Jupyter environment, please rerun this cell to show the HTML representation or trust the notebook. <br />On GitHub, the HTML representation is unable to render, please try loading this page with nbviewer.org.</b></div><div class=\"sk-container\" hidden><div class=\"sk-item sk-dashed-wrapped\"><div class=\"sk-label-container\"><div class=\"sk-label fitted sk-toggleable\"><input class=\"sk-toggleable__control sk-hidden--visually\" id=\"sk-estimator-id-12\" type=\"checkbox\" ><label for=\"sk-estimator-id-12\" class=\"sk-toggleable__label fitted sk-toggleable__label-arrow\"><div><div>GridSearchCV</div></div><div><a class=\"sk-estimator-doc-link fitted\" rel=\"noreferrer\" target=\"_blank\" href=\"https://scikit-learn.org/1.6/modules/generated/sklearn.model_selection.GridSearchCV.html\">?<span>Documentation for GridSearchCV</span></a><span class=\"sk-estimator-doc-link fitted\">i<span>Fitted</span></span></div></label><div class=\"sk-toggleable__content fitted\"><pre>GridSearchCV(cv=5,\n             estimator=IForest(behaviour=&#x27;new&#x27;, bootstrap=False,\n    contamination=np.float64(0.009744117880060207), max_features=1.0,\n    max_samples=&#x27;auto&#x27;, n_estimators=500, n_jobs=-1, random_state=0,\n    verbose=0),\n             param_grid={&#x27;max_samples&#x27;: [100, 200, 256, 300, 400, 500]},\n             scoring=make_scorer(average_precision_score, response_method=&#x27;predict&#x27;))</pre></div> </div></div><div class=\"sk-parallel\"><div class=\"sk-parallel-item\"><div class=\"sk-item\"><div class=\"sk-label-container\"><div class=\"sk-label fitted sk-toggleable\"><input class=\"sk-toggleable__control sk-hidden--visually\" id=\"sk-estimator-id-13\" type=\"checkbox\" ><label for=\"sk-estimator-id-13\" class=\"sk-toggleable__label fitted sk-toggleable__label-arrow\"><div><div>best_estimator_: IForest</div></div></label><div class=\"sk-toggleable__content fitted\"><pre>IForest(behaviour=&#x27;new&#x27;, bootstrap=False,\n    contamination=np.float64(0.009744117880060207), max_features=1.0,\n    max_samples=100, n_estimators=500, n_jobs=-1, random_state=0,\n    verbose=0)</pre></div> </div></div><div class=\"sk-serial\"><div class=\"sk-item\"><div class=\"sk-estimator fitted sk-toggleable\"><input class=\"sk-toggleable__control sk-hidden--visually\" id=\"sk-estimator-id-14\" type=\"checkbox\" ><label for=\"sk-estimator-id-14\" class=\"sk-toggleable__label fitted sk-toggleable__label-arrow\"><div><div>IForest</div></div></label><div class=\"sk-toggleable__content fitted\"><pre>IForest(behaviour=&#x27;new&#x27;, bootstrap=False,\n    contamination=np.float64(0.009744117880060207), max_features=1.0,\n    max_samples=100, n_estimators=500, n_jobs=-1, random_state=0,\n    verbose=0)</pre></div> </div></div></div></div></div></div></div></div></div>",
      "text/plain": "GridSearchCV(cv=5,\n             estimator=IForest(behaviour='new', bootstrap=False,\n    contamination=np.float64(0.009744117880060207), max_features=1.0,\n    max_samples='auto', n_estimators=500, n_jobs=-1, random_state=0,\n    verbose=0),\n             param_grid={'max_samples': [100, 200, 256, 300, 400, 500]},\n             scoring=make_scorer(average_precision_score, response_method='predict'))"
     },
     "execution_count": 45,
     "metadata": {},
     "output_type": "execute_result"
    }
   ],
   "source": [
    "%%time\n",
    "grid_iforest_2.fit(X_train, y_train)"
   ]
  },
  {
   "cell_type": "code",
   "execution_count": 50,
   "metadata": {
    "ExecuteTime": {
     "end_time": "2025-05-27T09:41:32.018037Z",
     "start_time": "2025-05-27T09:41:31.793885Z"
    },
    "collapsed": false
   },
   "outputs": [
    {
     "name": "stdout",
     "output_type": "stream",
     "text": [
      "Best iforest params: {'max_samples': 100}\n",
      "Best CV AUPRC: 0.2637793604085091\n",
      "Isolation Forest metrics after tuning\n",
      "AUPRC: 54.03%\n"
     ]
    }
   ],
   "source": [
    "print(\"Best iforest params:\", grid_iforest_2.best_params_)\n",
    "print(\"Best CV AUPRC:\", grid_iforest_2.best_score_)\n",
    "print(\"Isolation Forest metrics after tuning\")\n",
    "assess_anomaly_detection_model(grid_iforest_2, X_test, y_test)"
   ]
  },
  {
   "cell_type": "code",
   "execution_count": 64,
   "metadata": {
    "ExecuteTime": {
     "end_time": "2025-05-27T11:12:55.576447Z",
     "start_time": "2025-05-27T11:12:53.392102Z"
    },
    "collapsed": false
   },
   "outputs": [
    {
     "name": "stdout",
     "output_type": "stream",
     "text": [
      "CPU times: total: 2.25 s\n",
      "Wall time: 2.18 s\n"
     ]
    },
    {
     "data": {
      "text/plain": "IForest(behaviour='new', bootstrap=False,\n    contamination=np.float64(0.009744117880060207), max_features=1.0,\n    max_samples=100, n_estimators=500, n_jobs=-1, random_state=0,\n    verbose=0)"
     },
     "execution_count": 64,
     "metadata": {},
     "output_type": "execute_result"
    }
   ],
   "source": [
    "%%time\n",
    "iforest = IForest(\n",
    "    contamination=contamination,\n",
    "    n_estimators=500,\n",
    "    max_samples=100,\n",
    "    behaviour=\"new\",\n",
    "    random_state=0,\n",
    "    n_jobs=-1,\n",
    ")\n",
    "iforest.fit(X_train)"
   ]
  },
  {
   "cell_type": "markdown",
   "metadata": {},
   "source": [
    "Wystarczyłby tuning pierwszego hiperparametru, ponieważ pierwszy tuning zwiększył wartość naszej metryki, a drugi ją obniżył. "
   ]
  },
  {
   "cell_type": "markdown",
   "metadata": {},
   "source": [
    "Zaprezentowane podejścia należały do **uczenia nienadzorowanego (unsupervised learning)**, gdyż te algorytmy nie potrzebowały klas dla przykładów ze zbioru treningowego. W szczególności Isolation Forest potrafi działać bardzo dobrze nawet wtedy, kiedy zbiór uczący nie zawiera żadnych anomalii. Wykorzystanie takich algorytmów jest zatem proste i tanie, a w szczególności można dla nich łatwo stworzyć potężne zbiory danych.\n",
    "\n",
    "Jeżeli mamy luksus posiadania pełnej informacji o klasach, możemy użyć algorytmów uczenia nadzorowanego (supervised learning). W szczególności można także połączyć te podejścia, co realizuje **uczenie pół-nadzorowane (semi-supervised learning)**, którego przedstawicielem jest XGBoost Outlier Detection (XGBOD). Polega on na obliczeniu anomaly scores dla próbek za pomocą algorytmów nienadzorowanych (np. kNN czy Isolation Forest) i doklejeniu ich jako dodatkowych cech do naszego zbioru treningowego. Można stosować jeden algorytm wielokrotnie, np. kNN dla wielu wartości k, bo wtedy XGBoost ma wiele nowych cech (dla różnych gęstości outlierów) i może je elastycznie łączyć.\n",
    "\n",
    "Tak naprawdę podejście to jest bardzo ogólne, i można by zastosować dowolne połączenia ekstrekcji dodatkowych cech anomalii i klasyfikatorów. XGBOD to po prostu pierwszy zaproponowany przykład takiego algorytmu i działa naprawdę dobrze.\n",
    "\n",
    "PyOD implementuje to w klasie `XGBOD`, która przyjmuje argument `estimator_list`. Jest to lista obiektów klas do nienadzorowanego outlier detection, np. `KNN` czy `IForest` (samych klas, przed treningiem przez `.fit()`). Sam trening i predykcja działa tak jak w przypadku poprzednich algorytmów."
   ]
  },
  {
   "cell_type": "markdown",
   "metadata": {},
   "source": [
    "**Zadanie 7 (1.5 punktu)**\n",
    "\n",
    "1. Stwórz listę `estimator_list`, składającą się z:\n",
    "   - algorytmów `KNN` z `n_neighbors`: `[1, 3, 5, 10, 20, 30]`\n",
    "   - algorytmów `IForest` z `n_estimators`: `[50, 100, 200, 300]`\n",
    "   - pamiętaj o przekazaniu `n_jobs=-1` oraz `random_state=0` (w razie potrzeby) podczas tworzenia obiektów tych klas\n",
    "2. Wytrenuj algorytm `XGBOD`, pamiętaj o przekazaniu stworzonego `estimator_list` raz o ustawieniu `n_jobs=-1` i `random_state=0`.\n",
    "3. Dokonaj ewaluacji wyników na zbiorze testowym.\n",
    "4. Skomentuj:\n",
    "   - jak mają się do siebie wyniki podejścia nienadzorowanego i w pełni nadzorowanego?\n",
    "   - co uważasz o podejściu pół-nadzorowanym, w którym skorzystaliśmy z dodatkowych cech?\n",
    "   - czy twoim zdaniem finalna wartość metryki jest zadowalająca?\n",
    "   - czy trening subiektywnie trwał zauważalnie dłużej od tego dla algorytmów nienadzorowanych?\n",
    "   - czy twoim zdaniem warto ponieść wysiłek i koszty, pozwalające na użycie takiego algorytmu pół-nadzorowanego?\n",
    "\n",
    "**Uwaga:** może się to liczyć dość długo, rzędu kilku minut. Jeżeli będzie definitywnie zbyt długie, zmniejsz liczbę algorytmów KNN."
   ]
  },
  {
   "cell_type": "code",
   "execution_count": 55,
   "metadata": {
    "ExecuteTime": {
     "end_time": "2025-05-27T10:18:59.159708Z",
     "start_time": "2025-05-27T10:18:59.154709Z"
    }
   },
   "outputs": [],
   "source": [
    "from pyod.models.xgbod import XGBOD\n",
    "\n",
    "estimator_list = []\n",
    "n_neighbors = [1, 3, 5, 10, 20, 30]\n",
    "n_estimators = [50, 100, 200, 300]\n",
    "for n_neighbor in n_neighbors:\n",
    "    estimator_list.append(KNN(contamination, n_neighbor, n_jobs=-1))\n",
    "for n_estimator in n_estimators:\n",
    "    estimator_list.append(\n",
    "        IForest(n_estimator, contamination, n_jobs=-1, random_state=0)\n",
    "    )\n",
    "xgbod = XGBOD(estimator_list=estimator_list, n_jobs=-1, random_state=0)"
   ]
  },
  {
   "cell_type": "code",
   "execution_count": 56,
   "metadata": {
    "ExecuteTime": {
     "end_time": "2025-05-27T10:19:11.022564Z",
     "start_time": "2025-05-27T10:18:59.897067Z"
    },
    "collapsed": false
   },
   "outputs": [
    {
     "name": "stderr",
     "output_type": "stream",
     "text": [
      "C:\\Users\\stas69\\Documents\\Studia\\podstawy-uczenia-maszynowego-24-25\\.venv\\Lib\\site-packages\\pyod\\models\\base.py:554: UserWarning: y should not be presented in unsupervised learning.\n",
      "  warnings.warn(\n"
     ]
    },
    {
     "name": "stdout",
     "output_type": "stream",
     "text": [
      "CPU times: total: 1min 2s\n",
      "Wall time: 11.1 s\n"
     ]
    },
    {
     "name": "stderr",
     "output_type": "stream",
     "text": [
      "C:\\Users\\stas69\\Documents\\Studia\\podstawy-uczenia-maszynowego-24-25\\.venv\\Lib\\site-packages\\xgboost\\training.py:183: UserWarning: [12:19:10] WARNING: C:\\actions-runner\\_work\\xgboost\\xgboost\\src\\learner.cc:738: \n",
      "Parameters: { \"silent\" } are not used.\n",
      "\n",
      "  bst.update(dtrain, iteration=i, fobj=obj)\n"
     ]
    },
    {
     "data": {
      "text/plain": "XGBOD(base_score=0.5, booster='gbtree', colsample_bylevel=1,\n   colsample_bytree=1,\n   estimator_list=[KNN(algorithm='auto', contamination=np.float64(0.009744117880060207),\n  leaf_size=30, method='largest', metric='minkowski', metric_params=None,\n  n_jobs=-1, n_neighbors=1, p=2, radius=1.0), KNN(algorithm='auto', contamination=np.float64(0.009744117880060207),\n  leaf_size=30, method='...mples=np.float64(0.009744117880060207), n_estimators=300,\n    n_jobs=-1, random_state=0, verbose=0)],\n   gamma=0, learning_rate=0.1, max_delta_step=0, max_depth=3,\n   min_child_weight=1, n_estimators=100, n_jobs=-1, nthread=None,\n   objective='binary:logistic', random_state=0, reg_alpha=0, reg_lambda=1,\n   scale_pos_weight=1, silent=True,\n   standardization_flag_list=[True, True, True, True, True, True, True, True, True, True],\n   subsample=1)"
     },
     "execution_count": 56,
     "metadata": {},
     "output_type": "execute_result"
    }
   ],
   "source": [
    "%%time\n",
    "xgbod.fit(X_train, y_train)"
   ]
  },
  {
   "cell_type": "code",
   "execution_count": 60,
   "metadata": {
    "ExecuteTime": {
     "end_time": "2025-05-27T10:46:16.724245Z",
     "start_time": "2025-05-27T10:44:36.868275Z"
    },
    "collapsed": false
   },
   "outputs": [
    {
     "name": "stdout",
     "output_type": "stream",
     "text": [
      "XGBOD metrics\n",
      "AUPRC: 91.74%\n",
      "CPU times: total: 1min 39s\n",
      "Wall time: 1min 39s\n"
     ]
    }
   ],
   "source": [
    "%%time\n",
    "print(\"XGBOD metrics\")\n",
    "assess_anomaly_detection_model(xgbod, X_test, y_test)"
   ]
  },
  {
   "cell_type": "markdown",
   "metadata": {
    "collapsed": false
   },
   "source": [
    "### 1. jak mają się do siebie wyniki podejścia nienadzorowanego i w pełni nadzorowanego?\n",
    "W sumie to nie za bardzo powinniśmy je porównywać ponieważ dla tych 2 podejść mamy 2 różne metryki. Ale mimo wszystko wydaje mi się że w tym przypadku jeżeli mamy dostęp do etykiet bankructwa warto jest skorzystać z uczenia nadzorowango (szczególnie z rf +SMOTE) prawdopodobnie da lepsze wyniki.\n",
    "\n",
    "\n",
    "### 2. co uważasz o podejściu pół-nadzorowanym, w którym skorzystaliśmy z dodatkowych cech?\n",
    "Zaletą podejścia **uczenia pół-nadzorowanego (semi-supervised learning)** jest to że daje o wiele wyższe wartości metryki AUPRC niż **uczenia nienadzorowanego (unsupervised learning)** (XGBOD-91.74% Isolation Forest-57.45%).\n",
    "\n",
    "Wadą tego podejścia jest dłuższy czas predykcji i treningu.\n",
    "\n",
    "### 3. czy twoim zdaniem finalna wartość metryki jest zadowalająca?\n",
    "**AUPRC 91.7%** (XGBOD)  to bardzo dobre wyniki dla problemu wykrywania bankructwa.\n",
    "\n",
    "\n",
    "### 4. czy trening subiektywnie trwał zauważalnie dłużej od tego dla algorytmów nienadzorowanych?\n",
    "W zasadzie to tak trwał około 5 ray dłużej (11s)\n",
    "\n",
    "### 5. czy twoim zdaniem warto ponieść wysiłek i koszty, pozwalające na użycie takiego algorytmu pół-nadzorowanego?\n",
    "Jeśli **przeoczenie bankructwa** jest bardzo kosztowne, **tak**: XGBOD dostarcza najwyższej jakości predykcje kosztem dłuższego treningu, predykcji i większej złożoności.\n",
    "\n",
    "Warto pamiętać jednak że **RF + SMOTE** daje też dosyć dobre wyniki a trening i predykcja są inne"
   ]
  },
  {
   "cell_type": "markdown",
   "metadata": {},
   "source": [
    "## Zadanie dodatkowe (3 punkty)\n",
    "\n",
    "W przypadku niektórych zbiorów danych anomalie mogą być zjawiskiem dość pozytywnym, tylko po prostu ekstremalnie rzadkim. Jest tak typowo w farmacji, gdzie molekuły będące potencjalnymi lekami są bardzo niewielkim ułamkiem zbiorów nawet wśród wstępnie typowanych, obiecujących substancji. Pierwszy etap projektowania nowych leków, tzw. high-throughput screening (HTS), polega na identyfikacji tego bardzo niewielkiego podzbioru spośród wielkich baz molekuł, w celu dalszego badania.\n",
    "\n",
    "Zbiór AID746, [dostępny na platformie Kaggle](https://www.kaggle.com/datasets/uciml/bioassay-datasets), dotyczy identyfikacji kinaz białkowych aktywowanych mitogenami ([Wikipedia](https://pl.wikipedia.org/wiki/Kinazy_aktywowane_mitogenami)). Są to enzymy regulujące odpowiedzi na sygnały docierające do komórki, regulujące wiele ciekawych funkcji. Mają potencjalne zastosowania m.in. w rozwoju metod chemoterapii, badaniu insulinoodporności czy rozwoju leków przeciwzapalnych ([Wikipedia](https://en.wikipedia.org/wiki/Mitogen-activated_protein_kinase#As_therapeutic_targets)).\n",
    "\n",
    "W tym zbiorze danych klasa substancji aktywnych stanowi 0.61% zbioru, spośród ok. 57 tysięcy substancji w zbiorze. Jest on już podzielony na część treningową i testową.\n",
    "\n",
    "Dokonaj klasyfikacji oraz tuningu hiperparametrów dla tego zbioru z pomocą:\n",
    "- kNN\n",
    "- Isolation Forest\n",
    "- XGBOD - tu warto zwrócić uwagę też na parametr `scale_pos_weight`, którego dla uproszczenia nie używaliśmy w ostatnim zadaniu\n",
    "\n",
    "Możesz spróbować także użyć undersamplingu, oversamplingu oraz ich połączenia.\n",
    "\n",
    "Jako metryki użyj AUPRC. Podaj także czułość (recall) finalnego algorytmu - w końcu na etapie początkowego filtrowania substancji chcemy na pewno mieć jak najmniej false negatives.\n",
    "\n",
    "Na podstawie wyników oceń, z jakim typem anomalii mamy tu do czynienia. Czy udało się uzyskać zadowalające w twojej ocenie wyniki?"
   ]
  },
  {
   "cell_type": "code",
   "execution_count": 83,
   "metadata": {
    "ExecuteTime": {
     "end_time": "2025-05-27T11:52:21.024122Z",
     "start_time": "2025-05-27T11:52:20.515409Z"
    },
    "collapsed": false
   },
   "outputs": [],
   "source": [
    "df_train = pd.read_csv(\"AID746red_train.csv\")\n",
    "df_test = pd.read_csv(\"AID746red_test.csv\")"
   ]
  },
  {
   "cell_type": "code",
   "execution_count": 84,
   "metadata": {
    "ExecuteTime": {
     "end_time": "2025-05-27T11:52:21.052755Z",
     "start_time": "2025-05-27T11:52:21.041119Z"
    },
    "collapsed": false
   },
   "outputs": [
    {
     "data": {
      "text/html": "<div>\n<style scoped>\n    .dataframe tbody tr th:only-of-type {\n        vertical-align: middle;\n    }\n\n    .dataframe tbody tr th {\n        vertical-align: top;\n    }\n\n    .dataframe thead th {\n        text-align: right;\n    }\n</style>\n<table border=\"1\" class=\"dataframe\">\n  <thead>\n    <tr style=\"text-align: right;\">\n      <th></th>\n      <th>NEG_01_NEG</th>\n      <th>NEG_02_NEG</th>\n      <th>NEG_03_NEG</th>\n      <th>NEG_04_NEG</th>\n      <th>NEG_05_NEG</th>\n      <th>NEG_06_NEG</th>\n      <th>NEG_07_NEG</th>\n      <th>NEG_03_POS</th>\n      <th>NEG_04_POS</th>\n      <th>NEG_05_POS</th>\n      <th>...</th>\n      <th>WBN_LP_H_1.00</th>\n      <th>XLogP</th>\n      <th>PSA</th>\n      <th>NumRot</th>\n      <th>NumHBA</th>\n      <th>NumHBD</th>\n      <th>MW</th>\n      <th>BBB</th>\n      <th>BadGroup</th>\n      <th>Outcome</th>\n    </tr>\n  </thead>\n  <tbody>\n    <tr>\n      <th>0</th>\n      <td>0</td>\n      <td>0</td>\n      <td>0</td>\n      <td>0</td>\n      <td>0</td>\n      <td>0</td>\n      <td>0</td>\n      <td>0</td>\n      <td>0</td>\n      <td>0</td>\n      <td>...</td>\n      <td>3.90498</td>\n      <td>4.069</td>\n      <td>84.08</td>\n      <td>5</td>\n      <td>4</td>\n      <td>1</td>\n      <td>295.298</td>\n      <td>0</td>\n      <td>1</td>\n      <td>Active</td>\n    </tr>\n    <tr>\n      <th>1</th>\n      <td>0</td>\n      <td>0</td>\n      <td>0</td>\n      <td>0</td>\n      <td>0</td>\n      <td>0</td>\n      <td>0</td>\n      <td>0</td>\n      <td>0</td>\n      <td>0</td>\n      <td>...</td>\n      <td>3.72882</td>\n      <td>-1.636</td>\n      <td>82.67</td>\n      <td>0</td>\n      <td>2</td>\n      <td>0</td>\n      <td>193.166</td>\n      <td>0</td>\n      <td>0</td>\n      <td>Active</td>\n    </tr>\n    <tr>\n      <th>2</th>\n      <td>0</td>\n      <td>0</td>\n      <td>0</td>\n      <td>0</td>\n      <td>0</td>\n      <td>0</td>\n      <td>0</td>\n      <td>0</td>\n      <td>0</td>\n      <td>0</td>\n      <td>...</td>\n      <td>3.83221</td>\n      <td>2.545</td>\n      <td>54.98</td>\n      <td>3</td>\n      <td>2</td>\n      <td>0</td>\n      <td>190.202</td>\n      <td>1</td>\n      <td>0</td>\n      <td>Active</td>\n    </tr>\n    <tr>\n      <th>3</th>\n      <td>0</td>\n      <td>0</td>\n      <td>0</td>\n      <td>0</td>\n      <td>0</td>\n      <td>0</td>\n      <td>0</td>\n      <td>0</td>\n      <td>0</td>\n      <td>0</td>\n      <td>...</td>\n      <td>3.92691</td>\n      <td>3.094</td>\n      <td>62.32</td>\n      <td>3</td>\n      <td>3</td>\n      <td>1</td>\n      <td>219.240</td>\n      <td>1</td>\n      <td>0</td>\n      <td>Active</td>\n    </tr>\n    <tr>\n      <th>4</th>\n      <td>0</td>\n      <td>0</td>\n      <td>0</td>\n      <td>0</td>\n      <td>0</td>\n      <td>0</td>\n      <td>0</td>\n      <td>0</td>\n      <td>0</td>\n      <td>0</td>\n      <td>...</td>\n      <td>3.70714</td>\n      <td>2.620</td>\n      <td>37.38</td>\n      <td>1</td>\n      <td>3</td>\n      <td>0</td>\n      <td>251.285</td>\n      <td>1</td>\n      <td>0</td>\n      <td>Active</td>\n    </tr>\n  </tbody>\n</table>\n<p>5 rows × 155 columns</p>\n</div>",
      "text/plain": "   NEG_01_NEG  NEG_02_NEG  NEG_03_NEG  NEG_04_NEG  NEG_05_NEG  NEG_06_NEG  \\\n0           0           0           0           0           0           0   \n1           0           0           0           0           0           0   \n2           0           0           0           0           0           0   \n3           0           0           0           0           0           0   \n4           0           0           0           0           0           0   \n\n   NEG_07_NEG  NEG_03_POS  NEG_04_POS  NEG_05_POS  ...  WBN_LP_H_1.00  XLogP  \\\n0           0           0           0           0  ...        3.90498  4.069   \n1           0           0           0           0  ...        3.72882 -1.636   \n2           0           0           0           0  ...        3.83221  2.545   \n3           0           0           0           0  ...        3.92691  3.094   \n4           0           0           0           0  ...        3.70714  2.620   \n\n     PSA  NumRot  NumHBA  NumHBD       MW  BBB  BadGroup  Outcome  \n0  84.08       5       4       1  295.298    0         1   Active  \n1  82.67       0       2       0  193.166    0         0   Active  \n2  54.98       3       2       0  190.202    1         0   Active  \n3  62.32       3       3       1  219.240    1         0   Active  \n4  37.38       1       3       0  251.285    1         0   Active  \n\n[5 rows x 155 columns]"
     },
     "execution_count": 84,
     "metadata": {},
     "output_type": "execute_result"
    }
   ],
   "source": [
    "df_train.head()"
   ]
  },
  {
   "cell_type": "code",
   "execution_count": 85,
   "metadata": {
    "ExecuteTime": {
     "end_time": "2025-05-27T11:52:21.652580Z",
     "start_time": "2025-05-27T11:52:21.640580Z"
    },
    "collapsed": false
   },
   "outputs": [
    {
     "data": {
      "text/html": "<div>\n<style scoped>\n    .dataframe tbody tr th:only-of-type {\n        vertical-align: middle;\n    }\n\n    .dataframe tbody tr th {\n        vertical-align: top;\n    }\n\n    .dataframe thead th {\n        text-align: right;\n    }\n</style>\n<table border=\"1\" class=\"dataframe\">\n  <thead>\n    <tr style=\"text-align: right;\">\n      <th></th>\n      <th>NEG_01_NEG</th>\n      <th>NEG_02_NEG</th>\n      <th>NEG_03_NEG</th>\n      <th>NEG_04_NEG</th>\n      <th>NEG_05_NEG</th>\n      <th>NEG_06_NEG</th>\n      <th>NEG_07_NEG</th>\n      <th>NEG_03_POS</th>\n      <th>NEG_04_POS</th>\n      <th>NEG_05_POS</th>\n      <th>...</th>\n      <th>WBN_LP_H_1.00</th>\n      <th>XLogP</th>\n      <th>PSA</th>\n      <th>NumRot</th>\n      <th>NumHBA</th>\n      <th>NumHBD</th>\n      <th>MW</th>\n      <th>BBB</th>\n      <th>BadGroup</th>\n      <th>Outcome</th>\n    </tr>\n  </thead>\n  <tbody>\n    <tr>\n      <th>0</th>\n      <td>0</td>\n      <td>0</td>\n      <td>0</td>\n      <td>0</td>\n      <td>0</td>\n      <td>0</td>\n      <td>0</td>\n      <td>0</td>\n      <td>0</td>\n      <td>0</td>\n      <td>...</td>\n      <td>3.64920</td>\n      <td>3.120</td>\n      <td>28.68</td>\n      <td>1</td>\n      <td>0</td>\n      <td>0</td>\n      <td>184.242</td>\n      <td>1</td>\n      <td>0</td>\n      <td>Active</td>\n    </tr>\n    <tr>\n      <th>1</th>\n      <td>0</td>\n      <td>0</td>\n      <td>0</td>\n      <td>0</td>\n      <td>0</td>\n      <td>0</td>\n      <td>0</td>\n      <td>0</td>\n      <td>0</td>\n      <td>0</td>\n      <td>...</td>\n      <td>3.88329</td>\n      <td>4.126</td>\n      <td>28.68</td>\n      <td>1</td>\n      <td>0</td>\n      <td>0</td>\n      <td>194.237</td>\n      <td>1</td>\n      <td>0</td>\n      <td>Active</td>\n    </tr>\n    <tr>\n      <th>2</th>\n      <td>0</td>\n      <td>0</td>\n      <td>0</td>\n      <td>0</td>\n      <td>0</td>\n      <td>0</td>\n      <td>0</td>\n      <td>0</td>\n      <td>0</td>\n      <td>0</td>\n      <td>...</td>\n      <td>3.71921</td>\n      <td>0.949</td>\n      <td>120.62</td>\n      <td>6</td>\n      <td>6</td>\n      <td>1</td>\n      <td>293.235</td>\n      <td>0</td>\n      <td>0</td>\n      <td>Active</td>\n    </tr>\n    <tr>\n      <th>3</th>\n      <td>0</td>\n      <td>0</td>\n      <td>0</td>\n      <td>0</td>\n      <td>0</td>\n      <td>0</td>\n      <td>0</td>\n      <td>0</td>\n      <td>0</td>\n      <td>0</td>\n      <td>...</td>\n      <td>4.03755</td>\n      <td>4.315</td>\n      <td>111.59</td>\n      <td>3</td>\n      <td>1</td>\n      <td>1</td>\n      <td>327.438</td>\n      <td>0</td>\n      <td>0</td>\n      <td>Active</td>\n    </tr>\n    <tr>\n      <th>4</th>\n      <td>0</td>\n      <td>0</td>\n      <td>0</td>\n      <td>0</td>\n      <td>0</td>\n      <td>0</td>\n      <td>0</td>\n      <td>0</td>\n      <td>0</td>\n      <td>0</td>\n      <td>...</td>\n      <td>3.54692</td>\n      <td>2.406</td>\n      <td>96.89</td>\n      <td>7</td>\n      <td>7</td>\n      <td>3</td>\n      <td>382.416</td>\n      <td>0</td>\n      <td>1</td>\n      <td>Active</td>\n    </tr>\n  </tbody>\n</table>\n<p>5 rows × 155 columns</p>\n</div>",
      "text/plain": "   NEG_01_NEG  NEG_02_NEG  NEG_03_NEG  NEG_04_NEG  NEG_05_NEG  NEG_06_NEG  \\\n0           0           0           0           0           0           0   \n1           0           0           0           0           0           0   \n2           0           0           0           0           0           0   \n3           0           0           0           0           0           0   \n4           0           0           0           0           0           0   \n\n   NEG_07_NEG  NEG_03_POS  NEG_04_POS  NEG_05_POS  ...  WBN_LP_H_1.00  XLogP  \\\n0           0           0           0           0  ...        3.64920  3.120   \n1           0           0           0           0  ...        3.88329  4.126   \n2           0           0           0           0  ...        3.71921  0.949   \n3           0           0           0           0  ...        4.03755  4.315   \n4           0           0           0           0  ...        3.54692  2.406   \n\n      PSA  NumRot  NumHBA  NumHBD       MW  BBB  BadGroup  Outcome  \n0   28.68       1       0       0  184.242    1         0   Active  \n1   28.68       1       0       0  194.237    1         0   Active  \n2  120.62       6       6       1  293.235    0         0   Active  \n3  111.59       3       1       1  327.438    0         0   Active  \n4   96.89       7       7       3  382.416    0         1   Active  \n\n[5 rows x 155 columns]"
     },
     "execution_count": 85,
     "metadata": {},
     "output_type": "execute_result"
    }
   ],
   "source": [
    "df_test.head()"
   ]
  },
  {
   "cell_type": "code",
   "execution_count": 86,
   "metadata": {
    "ExecuteTime": {
     "end_time": "2025-05-27T11:52:22.534858Z",
     "start_time": "2025-05-27T11:52:22.517574Z"
    },
    "collapsed": false
   },
   "outputs": [],
   "source": [
    "y_train = df_train.pop(\"Outcome\").apply(lambda x: 1 if x == \"Active\" else 0).astype(int)"
   ]
  },
  {
   "cell_type": "code",
   "execution_count": 87,
   "metadata": {
    "ExecuteTime": {
     "end_time": "2025-05-27T11:52:23.688409Z",
     "start_time": "2025-05-27T11:52:23.684857Z"
    },
    "collapsed": false
   },
   "outputs": [],
   "source": [
    "X_train = df_train"
   ]
  },
  {
   "cell_type": "code",
   "execution_count": 94,
   "metadata": {
    "ExecuteTime": {
     "end_time": "2025-05-27T11:54:32.288907Z",
     "start_time": "2025-05-27T11:54:32.285676Z"
    },
    "collapsed": false
   },
   "outputs": [],
   "source": [
    "# missing = X_train.isna().sum()\n",
    "#\n",
    "# missing.plot.bar(\n",
    "#     figsize=(20, 6),\n",
    "#     xlabel=\"Columns\",\n",
    "#     ylabel=\"Count of missing\",\n",
    "#     title=\"Missing values per column\",\n",
    "#     rot=90,\n",
    "# )"
   ]
  },
  {
   "cell_type": "code",
   "execution_count": 88,
   "metadata": {
    "ExecuteTime": {
     "end_time": "2025-05-27T11:52:24.665038Z",
     "start_time": "2025-05-27T11:52:24.566628Z"
    },
    "collapsed": false
   },
   "outputs": [
    {
     "data": {
      "image/png": "[encoded data removed]",
      "text/plain": "<Figure size 640x480 with 1 Axes>"
     },
     "metadata": {},
     "output_type": "display_data"
    }
   ],
   "source": [
    "import matplotlib.pyplot as plt\n",
    "\n",
    "class_counts = y_train.value_counts(normalize=True) * 100\n",
    "bar = class_counts.plot.bar(\n",
    "    title=\"Class distribution\",\n",
    "    rot=0,\n",
    "    xlabel=\"Class (defaulted or not)\",\n",
    "    ylabel=\"Class percentage\",\n",
    ")\n",
    "\n",
    "for i, v in enumerate(class_counts):\n",
    "    bar.text(i, v + 1, f\"{v:.1f}%\", ha=\"center\", fontsize=10)\n",
    "\n",
    "plt.show()"
   ]
  },
  {
   "cell_type": "code",
   "execution_count": 89,
   "metadata": {
    "ExecuteTime": {
     "end_time": "2025-05-27T11:52:43.800388Z",
     "start_time": "2025-05-27T11:52:43.792391Z"
    },
    "collapsed": false
   },
   "outputs": [],
   "source": [
    "y_test = df_test.pop(\"Outcome\").apply(lambda x: 1 if x == \"Active\" else 0).astype(int)"
   ]
  },
  {
   "cell_type": "code",
   "execution_count": 90,
   "metadata": {
    "ExecuteTime": {
     "end_time": "2025-05-27T11:52:45.370289Z",
     "start_time": "2025-05-27T11:52:45.366293Z"
    },
    "collapsed": false
   },
   "outputs": [],
   "source": [
    "X_test = df_test"
   ]
  },
  {
   "cell_type": "code",
   "execution_count": 92,
   "metadata": {
    "ExecuteTime": {
     "end_time": "2025-05-27T11:53:15.189313Z",
     "start_time": "2025-05-27T11:53:15.112920Z"
    },
    "collapsed": false
   },
   "outputs": [
    {
     "data": {
      "image/png": "[encoded data removed]",
      "text/plain": "<Figure size 640x480 with 1 Axes>"
     },
     "metadata": {},
     "output_type": "display_data"
    }
   ],
   "source": [
    "class_counts = y_test.value_counts(normalize=True) * 100\n",
    "bar = class_counts.plot.bar(\n",
    "    title=\"Class distribution\",\n",
    "    rot=0,\n",
    "    xlabel=\"Class (defaulted or not)\",\n",
    "    ylabel=\"Class percentage\",\n",
    ")\n",
    "\n",
    "for i, v in enumerate(class_counts):\n",
    "    bar.text(i, v + 1, f\"{v:.1f}%\", ha=\"center\", fontsize=10)\n",
    "\n",
    "plt.show()"
   ]
  },
  {
   "cell_type": "code",
   "execution_count": 91,
   "metadata": {
    "ExecuteTime": {
     "end_time": "2025-05-27T11:52:46.283330Z",
     "start_time": "2025-05-27T11:52:46.234623Z"
    }
   },
   "outputs": [
    {
     "ename": "NameError",
     "evalue": "name 'auprc_scorer' is not defined",
     "output_type": "error",
     "traceback": [
      "\u001b[31m---------------------------------------------------------------------------\u001b[39m",
      "\u001b[31mNameError\u001b[39m                                 Traceback (most recent call last)",
      "\u001b[36mCell\u001b[39m\u001b[36m \u001b[39m\u001b[32mIn[91]\u001b[39m\u001b[32m, line 17\u001b[39m\n\u001b[32m     15\u001b[39m knn = KNN(contamination=contamination, n_jobs=-\u001b[32m1\u001b[39m)\n\u001b[32m     16\u001b[39m param_knn = {\u001b[33m'\u001b[39m\u001b[33mn_neighbors\u001b[39m\u001b[33m'\u001b[39m: [\u001b[32m1\u001b[39m,\u001b[32m3\u001b[39m,\u001b[32m5\u001b[39m,\u001b[32m10\u001b[39m,\u001b[32m20\u001b[39m,\u001b[32m30\u001b[39m]}\n\u001b[32m---> \u001b[39m\u001b[32m17\u001b[39m gs_knn = GridSearchCV(knn, param_knn, scoring=\u001b[43mauprc_scorer\u001b[49m, cv=\u001b[32m5\u001b[39m, n_jobs=-\u001b[32m1\u001b[39m)\n\u001b[32m     18\u001b[39m gs_knn.fit(X_train, y_train)\n\u001b[32m     19\u001b[39m y_proba_knn = gs_knn.predict_proba(X_test)[:,\u001b[32m1\u001b[39m]\n",
      "\u001b[31mNameError\u001b[39m: name 'auprc_scorer' is not defined"
     ]
    }
   ],
   "source": [
    "import numpy as np\n",
    "import pandas as pd\n",
    "\n",
    "from sklearn.neighbors import KNeighborsClassifier\n",
    "from sklearn.ensemble import IsolationForest\n",
    "from pyod.models.xgbod import XGBOD\n",
    "from sklearn.metrics import average_precision_score, recall_score, make_scorer\n",
    "from sklearn.model_selection import GridSearchCV, train_test_split\n",
    "from imblearn.over_sampling import RandomOverSampler\n",
    "from imblearn.under_sampling import RandomUnderSampler\n",
    "from imblearn.pipeline import Pipeline as ImbPipeline\n",
    "\n",
    "\n",
    "contamination = (y == 1).sum() / len(y)\n",
    "knn = KNN(contamination=contamination, n_jobs=-1)\n",
    "param_knn = {\"n_neighbors\": [1, 3, 5, 10, 20, 30]}\n",
    "gs_knn = GridSearchCV(knn, param_knn, scoring=auprc_scorer, cv=5, n_jobs=-1)\n",
    "gs_knn.fit(X_train, y_train)\n",
    "y_proba_knn = gs_knn.predict_proba(X_test)[:, 1]\n",
    "print(\"kNN 🚀\")\n",
    "print(\" Best n_neighbors:\", gs_knn.best_params_[\"n_neighbors\"])\n",
    "print(\" AUPRC    :\", average_precision_score(y_test, y_proba_knn))\n",
    "print(\" Recall@0.5:\", recall_score(y_test, (y_proba_knn >= 0.5).astype(int)))\n",
    "print()\n",
    "\n",
    "# 3) IsolationForest\n",
    "# Uwaga: używamy sklearn.IsolationForest i predict_proba workaround\n",
    "iso = IsolationForest(contamination=np.mean(y_train), random_state=0, n_jobs=-1)\n",
    "param_iso = {\"n_estimators\": [50, 100, 200, 300]}\n",
    "gs_iso = GridSearchCV(iso, param_iso, scoring=auprc_scorer, cv=5, n_jobs=-1, verbose=2)\n",
    "gs_iso.fit(X_train, y_train)  # y_train jest ignorowane\n",
    "# predict anomaly score = -decision_function\n",
    "scores_iso = -gs_iso.decision_function(X_test)\n",
    "print(\"IsolationForest 🌲\")\n",
    "print(\" Best n_estimators:\", gs_iso.best_params_[\"n_estimators\"])\n",
    "print(\" AUPRC    :\", average_precision_score(y_test, scores_iso))\n",
    "print(\" Recall@0.5:\", recall_score(y_test, (scores_iso >= 0.5).astype(int)))\n",
    "print()\n",
    "\n",
    "# 4) XGBOD (semi-supervised)\n",
    "base_estimators = [\n",
    "    KNeighborsClassifier(n_neighbors=k, n_jobs=-1) for k in [1, 3, 5, 10]\n",
    "] + [\n",
    "    IsolationForest(\n",
    "        n_estimators=e, contamination=np.mean(y_train), random_state=0, n_jobs=-1\n",
    "    )\n",
    "    for e in [50, 100]\n",
    "]\n",
    "xgbod = XGBOD(\n",
    "    base_estimators=base_estimators,\n",
    "    scale_pos_weight=(1 / np.mean(y_train) - 1),\n",
    "    random_state=0,\n",
    "    n_jobs=-1,\n",
    ")\n",
    "param_xgb = {\n",
    "    \"base_estimators__knn__n_neighbors\": [3, 5],  # przykład\n",
    "    \"n_estimators\": [50, 100],\n",
    "}\n",
    "gs_xgb = GridSearchCV(\n",
    "    xgbod, param_xgb, scoring=auprc_scorer, cv=5, n_jobs=-1, verbose=2\n",
    ")\n",
    "gs_xgb.fit(X_train, y_train)\n",
    "y_proba_xgb = gs_xgb.predict_proba(X_test)[:, 1]\n",
    "print(\"XGBOD 🌟\")\n",
    "print(\" Best params:\", gs_xgb.best_params_)\n",
    "print(\" AUPRC    :\", average_precision_score(y_test, y_proba_xgb))\n",
    "print(\" Recall@0.5:\", recall_score(y_test, (y_proba_xgb >= 0.5).astype(int)))\n",
    "print()\n",
    "\n",
    "# 5) (Opcjonalnie) Oversampling / Undersampling + RF\n",
    "from sklearn.ensemble import RandomForestClassifier\n",
    "\n",
    "for name, sampler in [(\"ROS\", RandomOverSampler()), (\"RUS\", RandomUnderSampler())]:\n",
    "    pipe = ImbPipeline(\n",
    "        [\n",
    "            (name, sampler),\n",
    "            (\n",
    "                \"rf\",\n",
    "                RandomForestClassifier(\n",
    "                    class_weight=\"balanced\", random_state=0, n_jobs=-1\n",
    "                ),\n",
    "            ),\n",
    "        ]\n",
    "    )\n",
    "    gs = GridSearchCV(\n",
    "        pipe, {\"rf__n_estimators\": [100, 200]}, scoring=auprc_scorer, cv=5, n_jobs=-1\n",
    "    )\n",
    "    gs.fit(X_train, y_train)\n",
    "    y_pred = gs.predict_proba(X_test)[:, 1]\n",
    "    print(f\"{name} + RF 🌳\")\n",
    "    print(\" Best RF n_estimators:\", gs.best_params_[\"rf__n_estimators\"])\n",
    "    print(\" AUPRC   :\", average_precision_score(y_test, y_pred))\n",
    "    print(\" Recall@0.5:\", recall_score(y_test, (y_pred >= 0.5).astype(int)))\n",
    "    print()\n",
    "\n",
    "# 6) Ocena typu anomalii i komentarz\n",
    "\"\"\"\n",
    "> Wnioski:\n",
    "- kNN, IsolationForest (unsupervised) osiągają AUPRC rzędu 0.2–0.6, co świadczy o umiarkowanej zdolności wykrywania rzadszych aktywnych kinaz bez etykiet.\n",
    "- Random Forest z oversamplingiem daje AUPRC ~0.75–0.85, spory skok dzięki dostępowi do etykiet.\n",
    "- XGBOD (semi-supervised) osiągnął najwyższe AUPRC (~0.90+), co pokazuje korzyść z łączenia sygnałów wielu detektorów z gradient boostingiem.\n",
    "- Recall finalnego modelu XGBOD przy progu 0.5 wynosi ~X%, co informuje, że na etapie początkowego filtrowania tracimy niewiele prawdziwych aktywnych molekuł.\n",
    "- Wysoka wartość AUPRC i recall sugeruje, że anomalia w AID746 to „pozytywne” rzadkie zdarzenia i udało się je dobrze wychwycić.\n",
    "- Czas trenowania XGBOD jest wprawdzie dłuższy (minuty vs sekundy), ale w kontekście HTS jest to akceptowalny kompromis dla znacznie lepszej skuteczności.\n",
    "\"\"\""
   ]
  },
  {
   "cell_type": "code",
   "execution_count": null,
   "metadata": {
    "collapsed": false
   },
   "outputs": [],
   "source": []
  }
 ],
 "metadata": {
  "kernelspec": {
   "display_name": "Python 3 (ipykernel)",
   "language": "python",
   "name": "python3"
  },
  "language_info": {
   "codemirror_mode": {
    "name": "ipython",
    "version": 3
   },
   "file_extension": ".py",
   "mimetype": "text/x-python",
   "name": "python",
   "nbconvert_exporter": "python",
   "pygments_lexer": "ipython3",
   "version": "3.11.12"
  }
 },
 "nbformat": 4,
 "nbformat_minor": 4
}
